{
 "cells": [
  {
   "cell_type": "markdown",
   "id": "8946acbe-5cf9-4986-b00d-f3d3c879c606",
   "metadata": {},
   "source": [
    "# Model"
   ]
  },
  {
   "cell_type": "code",
   "execution_count": 1,
   "id": "bcaee479-d140-454b-b82a-e3514dc072db",
   "metadata": {},
   "outputs": [],
   "source": [
    "%load_ext autoreload\n",
    "%autoreload 2\n",
    "\n",
    "import os"
   ]
  },
  {
   "cell_type": "code",
   "execution_count": 2,
   "id": "8b7ed495-3751-4f0d-b60b-685ef796b22b",
   "metadata": {},
   "outputs": [
    {
     "name": "stdout",
     "output_type": "stream",
     "text": [
      "F:\\study\\Hackatons\\DashboardSber\\src\n"
     ]
    }
   ],
   "source": [
    "path_list = os.getcwd().split('\\\\')\n",
    "if path_list[-1] == 'src':\n",
    "    print(os.getcwd())\n",
    "else:\n",
    "    os.chdir('..')\n",
    "    print(os.getcwd())"
   ]
  },
  {
   "cell_type": "code",
   "execution_count": 3,
   "id": "a22f3210-16c7-459b-9086-082d214b92aa",
   "metadata": {},
   "outputs": [],
   "source": [
    "import warnings\n",
    "warnings.filterwarnings(\"ignore\")\n",
    "\n",
    "import pandas as pd\n",
    "import numpy as np\n",
    "from datetime import datetime\n",
    "pd.set_option('display.max_columns', None)\n",
    "\n",
    "from prophet import Prophet\n",
    "from sklearn.metrics import mean_squared_error\n",
    "from sklearn.preprocessing import MinMaxScaler\n",
    "from sklearn.cluster import HDBSCAN, Birch, BisectingKMeans, KMeans, MeanShift\n",
    "from sklearn.manifold import TSNE\n",
    "from sklearn.decomposition import PCA\n",
    "\n",
    "import matplotlib.pyplot as plt\n",
    "import seaborn as sns\n",
    "sns.set()"
   ]
  },
  {
   "cell_type": "markdown",
   "id": "b9f3b022-9ba7-48fe-a37d-c6936a0677cb",
   "metadata": {},
   "source": [
    "# Загрузка данных"
   ]
  },
  {
   "cell_type": "code",
   "execution_count": 4,
   "id": "9b3dc05e-7f7e-4e2e-9b84-03e240ee736c",
   "metadata": {},
   "outputs": [
    {
     "data": {
      "text/html": [
       "<div>\n",
       "<style scoped>\n",
       "    .dataframe tbody tr th:only-of-type {\n",
       "        vertical-align: middle;\n",
       "    }\n",
       "\n",
       "    .dataframe tbody tr th {\n",
       "        vertical-align: top;\n",
       "    }\n",
       "\n",
       "    .dataframe thead th {\n",
       "        text-align: right;\n",
       "    }\n",
       "</style>\n",
       "<table border=\"1\" class=\"dataframe\">\n",
       "  <thead>\n",
       "    <tr style=\"text-align: right;\">\n",
       "      <th></th>\n",
       "      <th>клиент</th>\n",
       "      <th>Сегмент id</th>\n",
       "      <th>Кластер</th>\n",
       "      <th>Средний возраст работников</th>\n",
       "      <th>Тип организации</th>\n",
       "      <th>bank_1</th>\n",
       "      <th>bank_2</th>\n",
       "      <th>bank_3</th>\n",
       "      <th>bank_4</th>\n",
       "      <th>bank_5</th>\n",
       "      <th>bank_6</th>\n",
       "      <th>bank_7</th>\n",
       "      <th>bank_8</th>\n",
       "      <th>bank_9</th>\n",
       "      <th>bank_10</th>\n",
       "      <th>bank_11</th>\n",
       "      <th>bank_12</th>\n",
       "      <th>bank_13</th>\n",
       "      <th>bank_14</th>\n",
       "      <th>bank_15</th>\n",
       "      <th>bank_16</th>\n",
       "      <th>bank_17</th>\n",
       "      <th>bank_18</th>\n",
       "      <th>bank_19</th>\n",
       "      <th>bank_20</th>\n",
       "      <th>bank_21</th>\n",
       "      <th>bank_22</th>\n",
       "      <th>bank_23</th>\n",
       "      <th>bank_24</th>\n",
       "      <th>bank_25</th>\n",
       "      <th>bank_26</th>\n",
       "      <th>bank_27</th>\n",
       "      <th>bank_28</th>\n",
       "      <th>bank_29</th>\n",
       "      <th>bank_30</th>\n",
       "      <th>bank_31</th>\n",
       "      <th>bank_32</th>\n",
       "      <th>bank_33</th>\n",
       "      <th>bank_34</th>\n",
       "      <th>bank_35</th>\n",
       "      <th>bank_36</th>\n",
       "      <th>bank_37</th>\n",
       "      <th>bank_38</th>\n",
       "      <th>bank_39</th>\n",
       "      <th>bank_40</th>\n",
       "      <th>bank_41</th>\n",
       "      <th>bank_42</th>\n",
       "      <th>bank_43</th>\n",
       "      <th>bank_44</th>\n",
       "      <th>bank_45</th>\n",
       "      <th>bank_46</th>\n",
       "      <th>bank_47</th>\n",
       "      <th>bank_48</th>\n",
       "      <th>bank_49</th>\n",
       "      <th>bank_50</th>\n",
       "      <th>ns_promotion</th>\n",
       "      <th>acquiring_mobile</th>\n",
       "      <th>acreditiv</th>\n",
       "      <th>arenda_seyf</th>\n",
       "      <th>bank_straxovanie_imush</th>\n",
       "      <th>bank_straxovanie_lich</th>\n",
       "      <th>bank_straxovanie_otvet</th>\n",
       "      <th>broker</th>\n",
       "      <th>capital_markets</th>\n",
       "      <th>cash_management</th>\n",
       "      <th>dbo</th>\n",
       "      <th>dcd</th>\n",
       "      <th>deposit_sertificat</th>\n",
       "      <th>einvoicing</th>\n",
       "      <th>eko_docdoc</th>\n",
       "      <th>eko_interkomp</th>\n",
       "      <th>eko_korus</th>\n",
       "      <th>eko_sbermobile</th>\n",
       "      <th>eko_segmento</th>\n",
       "      <th>eko_tot</th>\n",
       "      <th>factoring</th>\n",
       "      <th>garantee_gos</th>\n",
       "      <th>garantee_kontract</th>\n",
       "      <th>garantee_other</th>\n",
       "      <th>invest_kredit</th>\n",
       "      <th>itog_bank</th>\n",
       "      <th>itog_eko</th>\n",
       "      <th>kbk</th>\n",
       "      <th>konversion</th>\n",
       "      <th>mb_a</th>\n",
       "      <th>ns_bukh</th>\n",
       "      <th>ns_business</th>\n",
       "      <th>ns_document</th>\n",
       "      <th>ns_in_app</th>\n",
       "      <th>nso</th>\n",
       "      <th>ns_priem_plat</th>\n",
       "      <th>ns_servis</th>\n",
       "      <th>ns_terminal</th>\n",
       "      <th>ns_torg</th>\n",
       "      <th>oborot_kredit</th>\n",
       "      <th>obsluzh_rts_rur</th>\n",
       "      <th>obsluzh_rts_val</th>\n",
       "      <th>overdraft_kredit</th>\n",
       "      <th>pfi</th>\n",
       "      <th>products_lizing</th>\n",
       "      <th>proekt_finans</th>\n",
       "      <th>spec_acc</th>\n",
       "      <th>us</th>\n",
       "      <th>veksel</th>\n",
       "      <th>bank_guarantees</th>\n",
       "      <th>credit</th>\n",
       "      <th>corporate_cards</th>\n",
       "      <th>valuta_control</th>\n",
       "      <th>deposit</th>\n",
       "      <th>inkass</th>\n",
       "      <th>acquiring_torg</th>\n",
       "      <th>rko</th>\n",
       "      <th>zarplat_projects</th>\n",
       "      <th>samoinkass</th>\n",
       "      <th>Компания в стадии ликвидации</th>\n",
       "    </tr>\n",
       "  </thead>\n",
       "  <tbody>\n",
       "    <tr>\n",
       "      <th>0</th>\n",
       "      <td>client_5139</td>\n",
       "      <td>0</td>\n",
       "      <td>2</td>\n",
       "      <td>[40-48)</td>\n",
       "      <td>ИП</td>\n",
       "      <td>0</td>\n",
       "      <td>0</td>\n",
       "      <td>0</td>\n",
       "      <td>0</td>\n",
       "      <td>0</td>\n",
       "      <td>0</td>\n",
       "      <td>0</td>\n",
       "      <td>0</td>\n",
       "      <td>0</td>\n",
       "      <td>0</td>\n",
       "      <td>0</td>\n",
       "      <td>0</td>\n",
       "      <td>0</td>\n",
       "      <td>0</td>\n",
       "      <td>0</td>\n",
       "      <td>0</td>\n",
       "      <td>0</td>\n",
       "      <td>0</td>\n",
       "      <td>0</td>\n",
       "      <td>0</td>\n",
       "      <td>0</td>\n",
       "      <td>0</td>\n",
       "      <td>0</td>\n",
       "      <td>0</td>\n",
       "      <td>0</td>\n",
       "      <td>0</td>\n",
       "      <td>0</td>\n",
       "      <td>0</td>\n",
       "      <td>0</td>\n",
       "      <td>0</td>\n",
       "      <td>0</td>\n",
       "      <td>0</td>\n",
       "      <td>0</td>\n",
       "      <td>0</td>\n",
       "      <td>0</td>\n",
       "      <td>0</td>\n",
       "      <td>0</td>\n",
       "      <td>0</td>\n",
       "      <td>0</td>\n",
       "      <td>0</td>\n",
       "      <td>0</td>\n",
       "      <td>0</td>\n",
       "      <td>0</td>\n",
       "      <td>0</td>\n",
       "      <td>0</td>\n",
       "      <td>0</td>\n",
       "      <td>0</td>\n",
       "      <td>0</td>\n",
       "      <td>0</td>\n",
       "      <td>0</td>\n",
       "      <td>0</td>\n",
       "      <td>0</td>\n",
       "      <td>0</td>\n",
       "      <td>0</td>\n",
       "      <td>0</td>\n",
       "      <td>0</td>\n",
       "      <td>0</td>\n",
       "      <td>0</td>\n",
       "      <td>0</td>\n",
       "      <td>0</td>\n",
       "      <td>0</td>\n",
       "      <td>0</td>\n",
       "      <td>0</td>\n",
       "      <td>0</td>\n",
       "      <td>0</td>\n",
       "      <td>0</td>\n",
       "      <td>0</td>\n",
       "      <td>0</td>\n",
       "      <td>0</td>\n",
       "      <td>0</td>\n",
       "      <td>0</td>\n",
       "      <td>0</td>\n",
       "      <td>0</td>\n",
       "      <td>0</td>\n",
       "      <td>0</td>\n",
       "      <td>0</td>\n",
       "      <td>0</td>\n",
       "      <td>0</td>\n",
       "      <td>0</td>\n",
       "      <td>0</td>\n",
       "      <td>0</td>\n",
       "      <td>0</td>\n",
       "      <td>0</td>\n",
       "      <td>0</td>\n",
       "      <td>0</td>\n",
       "      <td>0</td>\n",
       "      <td>0</td>\n",
       "      <td>0</td>\n",
       "      <td>0</td>\n",
       "      <td>0</td>\n",
       "      <td>0</td>\n",
       "      <td>0</td>\n",
       "      <td>0</td>\n",
       "      <td>0</td>\n",
       "      <td>0</td>\n",
       "      <td>0</td>\n",
       "      <td>0</td>\n",
       "      <td>0</td>\n",
       "      <td>0</td>\n",
       "      <td>0</td>\n",
       "      <td>0</td>\n",
       "      <td>0</td>\n",
       "      <td>0</td>\n",
       "      <td>0</td>\n",
       "      <td>0</td>\n",
       "      <td>0</td>\n",
       "      <td>1</td>\n",
       "      <td>0</td>\n",
       "      <td>0</td>\n",
       "      <td>0</td>\n",
       "    </tr>\n",
       "    <tr>\n",
       "      <th>1</th>\n",
       "      <td>client_16112</td>\n",
       "      <td>0</td>\n",
       "      <td>5</td>\n",
       "      <td>[0-27)</td>\n",
       "      <td>ИП</td>\n",
       "      <td>0</td>\n",
       "      <td>0</td>\n",
       "      <td>0</td>\n",
       "      <td>0</td>\n",
       "      <td>0</td>\n",
       "      <td>0</td>\n",
       "      <td>0</td>\n",
       "      <td>0</td>\n",
       "      <td>0</td>\n",
       "      <td>0</td>\n",
       "      <td>0</td>\n",
       "      <td>0</td>\n",
       "      <td>0</td>\n",
       "      <td>0</td>\n",
       "      <td>0</td>\n",
       "      <td>0</td>\n",
       "      <td>0</td>\n",
       "      <td>0</td>\n",
       "      <td>0</td>\n",
       "      <td>0</td>\n",
       "      <td>0</td>\n",
       "      <td>0</td>\n",
       "      <td>0</td>\n",
       "      <td>0</td>\n",
       "      <td>0</td>\n",
       "      <td>0</td>\n",
       "      <td>0</td>\n",
       "      <td>0</td>\n",
       "      <td>0</td>\n",
       "      <td>0</td>\n",
       "      <td>0</td>\n",
       "      <td>0</td>\n",
       "      <td>0</td>\n",
       "      <td>0</td>\n",
       "      <td>0</td>\n",
       "      <td>0</td>\n",
       "      <td>0</td>\n",
       "      <td>0</td>\n",
       "      <td>0</td>\n",
       "      <td>0</td>\n",
       "      <td>0</td>\n",
       "      <td>0</td>\n",
       "      <td>0</td>\n",
       "      <td>0</td>\n",
       "      <td>0</td>\n",
       "      <td>0</td>\n",
       "      <td>0</td>\n",
       "      <td>0</td>\n",
       "      <td>0</td>\n",
       "      <td>0</td>\n",
       "      <td>0</td>\n",
       "      <td>0</td>\n",
       "      <td>0</td>\n",
       "      <td>0</td>\n",
       "      <td>0</td>\n",
       "      <td>0</td>\n",
       "      <td>0</td>\n",
       "      <td>0</td>\n",
       "      <td>0</td>\n",
       "      <td>0</td>\n",
       "      <td>0</td>\n",
       "      <td>0</td>\n",
       "      <td>0</td>\n",
       "      <td>0</td>\n",
       "      <td>0</td>\n",
       "      <td>0</td>\n",
       "      <td>0</td>\n",
       "      <td>0</td>\n",
       "      <td>0</td>\n",
       "      <td>0</td>\n",
       "      <td>0</td>\n",
       "      <td>0</td>\n",
       "      <td>0</td>\n",
       "      <td>0</td>\n",
       "      <td>0</td>\n",
       "      <td>1</td>\n",
       "      <td>0</td>\n",
       "      <td>0</td>\n",
       "      <td>0</td>\n",
       "      <td>0</td>\n",
       "      <td>0</td>\n",
       "      <td>0</td>\n",
       "      <td>0</td>\n",
       "      <td>0</td>\n",
       "      <td>0</td>\n",
       "      <td>0</td>\n",
       "      <td>0</td>\n",
       "      <td>0</td>\n",
       "      <td>0</td>\n",
       "      <td>0</td>\n",
       "      <td>1</td>\n",
       "      <td>0</td>\n",
       "      <td>0</td>\n",
       "      <td>0</td>\n",
       "      <td>0</td>\n",
       "      <td>0</td>\n",
       "      <td>0</td>\n",
       "      <td>0</td>\n",
       "      <td>0</td>\n",
       "      <td>0</td>\n",
       "      <td>0</td>\n",
       "      <td>0</td>\n",
       "      <td>0</td>\n",
       "      <td>0</td>\n",
       "      <td>0</td>\n",
       "      <td>0</td>\n",
       "      <td>1</td>\n",
       "      <td>1</td>\n",
       "      <td>0</td>\n",
       "      <td>0</td>\n",
       "    </tr>\n",
       "    <tr>\n",
       "      <th>2</th>\n",
       "      <td>client_21152</td>\n",
       "      <td>0</td>\n",
       "      <td>5</td>\n",
       "      <td>[34-40)</td>\n",
       "      <td>ИП</td>\n",
       "      <td>0</td>\n",
       "      <td>0</td>\n",
       "      <td>0</td>\n",
       "      <td>0</td>\n",
       "      <td>0</td>\n",
       "      <td>0</td>\n",
       "      <td>0</td>\n",
       "      <td>0</td>\n",
       "      <td>0</td>\n",
       "      <td>0</td>\n",
       "      <td>0</td>\n",
       "      <td>0</td>\n",
       "      <td>0</td>\n",
       "      <td>0</td>\n",
       "      <td>0</td>\n",
       "      <td>0</td>\n",
       "      <td>0</td>\n",
       "      <td>0</td>\n",
       "      <td>0</td>\n",
       "      <td>0</td>\n",
       "      <td>0</td>\n",
       "      <td>0</td>\n",
       "      <td>0</td>\n",
       "      <td>0</td>\n",
       "      <td>0</td>\n",
       "      <td>0</td>\n",
       "      <td>0</td>\n",
       "      <td>0</td>\n",
       "      <td>0</td>\n",
       "      <td>0</td>\n",
       "      <td>0</td>\n",
       "      <td>0</td>\n",
       "      <td>0</td>\n",
       "      <td>0</td>\n",
       "      <td>0</td>\n",
       "      <td>0</td>\n",
       "      <td>0</td>\n",
       "      <td>0</td>\n",
       "      <td>0</td>\n",
       "      <td>0</td>\n",
       "      <td>0</td>\n",
       "      <td>0</td>\n",
       "      <td>0</td>\n",
       "      <td>0</td>\n",
       "      <td>0</td>\n",
       "      <td>0</td>\n",
       "      <td>0</td>\n",
       "      <td>0</td>\n",
       "      <td>0</td>\n",
       "      <td>0</td>\n",
       "      <td>0</td>\n",
       "      <td>0</td>\n",
       "      <td>0</td>\n",
       "      <td>0</td>\n",
       "      <td>0</td>\n",
       "      <td>0</td>\n",
       "      <td>0</td>\n",
       "      <td>0</td>\n",
       "      <td>0</td>\n",
       "      <td>0</td>\n",
       "      <td>1</td>\n",
       "      <td>0</td>\n",
       "      <td>0</td>\n",
       "      <td>0</td>\n",
       "      <td>0</td>\n",
       "      <td>0</td>\n",
       "      <td>0</td>\n",
       "      <td>0</td>\n",
       "      <td>0</td>\n",
       "      <td>0</td>\n",
       "      <td>0</td>\n",
       "      <td>0</td>\n",
       "      <td>0</td>\n",
       "      <td>0</td>\n",
       "      <td>0</td>\n",
       "      <td>1</td>\n",
       "      <td>0</td>\n",
       "      <td>0</td>\n",
       "      <td>0</td>\n",
       "      <td>0</td>\n",
       "      <td>0</td>\n",
       "      <td>0</td>\n",
       "      <td>0</td>\n",
       "      <td>0</td>\n",
       "      <td>0</td>\n",
       "      <td>0</td>\n",
       "      <td>0</td>\n",
       "      <td>0</td>\n",
       "      <td>0</td>\n",
       "      <td>0</td>\n",
       "      <td>0</td>\n",
       "      <td>0</td>\n",
       "      <td>0</td>\n",
       "      <td>0</td>\n",
       "      <td>0</td>\n",
       "      <td>0</td>\n",
       "      <td>0</td>\n",
       "      <td>0</td>\n",
       "      <td>0</td>\n",
       "      <td>0</td>\n",
       "      <td>0</td>\n",
       "      <td>0</td>\n",
       "      <td>0</td>\n",
       "      <td>0</td>\n",
       "      <td>0</td>\n",
       "      <td>0</td>\n",
       "      <td>1</td>\n",
       "      <td>0</td>\n",
       "      <td>0</td>\n",
       "      <td>0</td>\n",
       "    </tr>\n",
       "    <tr>\n",
       "      <th>3</th>\n",
       "      <td>client_15302</td>\n",
       "      <td>0</td>\n",
       "      <td>1</td>\n",
       "      <td>[40-48)</td>\n",
       "      <td>ИП</td>\n",
       "      <td>0</td>\n",
       "      <td>0</td>\n",
       "      <td>0</td>\n",
       "      <td>0</td>\n",
       "      <td>0</td>\n",
       "      <td>0</td>\n",
       "      <td>0</td>\n",
       "      <td>0</td>\n",
       "      <td>1</td>\n",
       "      <td>0</td>\n",
       "      <td>0</td>\n",
       "      <td>0</td>\n",
       "      <td>0</td>\n",
       "      <td>0</td>\n",
       "      <td>0</td>\n",
       "      <td>0</td>\n",
       "      <td>0</td>\n",
       "      <td>0</td>\n",
       "      <td>0</td>\n",
       "      <td>0</td>\n",
       "      <td>0</td>\n",
       "      <td>0</td>\n",
       "      <td>0</td>\n",
       "      <td>1</td>\n",
       "      <td>0</td>\n",
       "      <td>0</td>\n",
       "      <td>0</td>\n",
       "      <td>0</td>\n",
       "      <td>0</td>\n",
       "      <td>0</td>\n",
       "      <td>0</td>\n",
       "      <td>0</td>\n",
       "      <td>0</td>\n",
       "      <td>0</td>\n",
       "      <td>0</td>\n",
       "      <td>0</td>\n",
       "      <td>0</td>\n",
       "      <td>0</td>\n",
       "      <td>0</td>\n",
       "      <td>0</td>\n",
       "      <td>0</td>\n",
       "      <td>0</td>\n",
       "      <td>0</td>\n",
       "      <td>0</td>\n",
       "      <td>0</td>\n",
       "      <td>0</td>\n",
       "      <td>0</td>\n",
       "      <td>0</td>\n",
       "      <td>0</td>\n",
       "      <td>0</td>\n",
       "      <td>0</td>\n",
       "      <td>0</td>\n",
       "      <td>0</td>\n",
       "      <td>0</td>\n",
       "      <td>0</td>\n",
       "      <td>0</td>\n",
       "      <td>0</td>\n",
       "      <td>0</td>\n",
       "      <td>0</td>\n",
       "      <td>0</td>\n",
       "      <td>1</td>\n",
       "      <td>0</td>\n",
       "      <td>0</td>\n",
       "      <td>0</td>\n",
       "      <td>0</td>\n",
       "      <td>0</td>\n",
       "      <td>0</td>\n",
       "      <td>0</td>\n",
       "      <td>0</td>\n",
       "      <td>0</td>\n",
       "      <td>0</td>\n",
       "      <td>0</td>\n",
       "      <td>0</td>\n",
       "      <td>0</td>\n",
       "      <td>0</td>\n",
       "      <td>5</td>\n",
       "      <td>0</td>\n",
       "      <td>0</td>\n",
       "      <td>0</td>\n",
       "      <td>0</td>\n",
       "      <td>0</td>\n",
       "      <td>0</td>\n",
       "      <td>0</td>\n",
       "      <td>0</td>\n",
       "      <td>0</td>\n",
       "      <td>0</td>\n",
       "      <td>0</td>\n",
       "      <td>0</td>\n",
       "      <td>0</td>\n",
       "      <td>0</td>\n",
       "      <td>1</td>\n",
       "      <td>0</td>\n",
       "      <td>0</td>\n",
       "      <td>0</td>\n",
       "      <td>0</td>\n",
       "      <td>0</td>\n",
       "      <td>0</td>\n",
       "      <td>0</td>\n",
       "      <td>0</td>\n",
       "      <td>0</td>\n",
       "      <td>0</td>\n",
       "      <td>0</td>\n",
       "      <td>0</td>\n",
       "      <td>0</td>\n",
       "      <td>0</td>\n",
       "      <td>1</td>\n",
       "      <td>1</td>\n",
       "      <td>1</td>\n",
       "      <td>0</td>\n",
       "      <td>0</td>\n",
       "    </tr>\n",
       "    <tr>\n",
       "      <th>4</th>\n",
       "      <td>client_30885</td>\n",
       "      <td>0</td>\n",
       "      <td>6</td>\n",
       "      <td>&gt;=48</td>\n",
       "      <td>ИП</td>\n",
       "      <td>0</td>\n",
       "      <td>0</td>\n",
       "      <td>0</td>\n",
       "      <td>0</td>\n",
       "      <td>0</td>\n",
       "      <td>0</td>\n",
       "      <td>0</td>\n",
       "      <td>0</td>\n",
       "      <td>0</td>\n",
       "      <td>0</td>\n",
       "      <td>0</td>\n",
       "      <td>0</td>\n",
       "      <td>0</td>\n",
       "      <td>0</td>\n",
       "      <td>0</td>\n",
       "      <td>0</td>\n",
       "      <td>0</td>\n",
       "      <td>0</td>\n",
       "      <td>0</td>\n",
       "      <td>0</td>\n",
       "      <td>0</td>\n",
       "      <td>0</td>\n",
       "      <td>0</td>\n",
       "      <td>0</td>\n",
       "      <td>0</td>\n",
       "      <td>0</td>\n",
       "      <td>0</td>\n",
       "      <td>0</td>\n",
       "      <td>0</td>\n",
       "      <td>0</td>\n",
       "      <td>0</td>\n",
       "      <td>0</td>\n",
       "      <td>0</td>\n",
       "      <td>0</td>\n",
       "      <td>0</td>\n",
       "      <td>0</td>\n",
       "      <td>0</td>\n",
       "      <td>0</td>\n",
       "      <td>0</td>\n",
       "      <td>0</td>\n",
       "      <td>0</td>\n",
       "      <td>0</td>\n",
       "      <td>0</td>\n",
       "      <td>0</td>\n",
       "      <td>0</td>\n",
       "      <td>0</td>\n",
       "      <td>0</td>\n",
       "      <td>0</td>\n",
       "      <td>0</td>\n",
       "      <td>0</td>\n",
       "      <td>0</td>\n",
       "      <td>0</td>\n",
       "      <td>0</td>\n",
       "      <td>0</td>\n",
       "      <td>0</td>\n",
       "      <td>0</td>\n",
       "      <td>0</td>\n",
       "      <td>0</td>\n",
       "      <td>0</td>\n",
       "      <td>0</td>\n",
       "      <td>1</td>\n",
       "      <td>0</td>\n",
       "      <td>0</td>\n",
       "      <td>0</td>\n",
       "      <td>0</td>\n",
       "      <td>0</td>\n",
       "      <td>0</td>\n",
       "      <td>0</td>\n",
       "      <td>0</td>\n",
       "      <td>0</td>\n",
       "      <td>0</td>\n",
       "      <td>0</td>\n",
       "      <td>0</td>\n",
       "      <td>0</td>\n",
       "      <td>0</td>\n",
       "      <td>4</td>\n",
       "      <td>1</td>\n",
       "      <td>0</td>\n",
       "      <td>0</td>\n",
       "      <td>0</td>\n",
       "      <td>0</td>\n",
       "      <td>0</td>\n",
       "      <td>0</td>\n",
       "      <td>1</td>\n",
       "      <td>0</td>\n",
       "      <td>0</td>\n",
       "      <td>0</td>\n",
       "      <td>0</td>\n",
       "      <td>0</td>\n",
       "      <td>0</td>\n",
       "      <td>1</td>\n",
       "      <td>0</td>\n",
       "      <td>0</td>\n",
       "      <td>0</td>\n",
       "      <td>0</td>\n",
       "      <td>0</td>\n",
       "      <td>0</td>\n",
       "      <td>0</td>\n",
       "      <td>0</td>\n",
       "      <td>0</td>\n",
       "      <td>0</td>\n",
       "      <td>0</td>\n",
       "      <td>0</td>\n",
       "      <td>0</td>\n",
       "      <td>0</td>\n",
       "      <td>1</td>\n",
       "      <td>1</td>\n",
       "      <td>0</td>\n",
       "      <td>0</td>\n",
       "      <td>0</td>\n",
       "    </tr>\n",
       "    <tr>\n",
       "      <th>...</th>\n",
       "      <td>...</td>\n",
       "      <td>...</td>\n",
       "      <td>...</td>\n",
       "      <td>...</td>\n",
       "      <td>...</td>\n",
       "      <td>...</td>\n",
       "      <td>...</td>\n",
       "      <td>...</td>\n",
       "      <td>...</td>\n",
       "      <td>...</td>\n",
       "      <td>...</td>\n",
       "      <td>...</td>\n",
       "      <td>...</td>\n",
       "      <td>...</td>\n",
       "      <td>...</td>\n",
       "      <td>...</td>\n",
       "      <td>...</td>\n",
       "      <td>...</td>\n",
       "      <td>...</td>\n",
       "      <td>...</td>\n",
       "      <td>...</td>\n",
       "      <td>...</td>\n",
       "      <td>...</td>\n",
       "      <td>...</td>\n",
       "      <td>...</td>\n",
       "      <td>...</td>\n",
       "      <td>...</td>\n",
       "      <td>...</td>\n",
       "      <td>...</td>\n",
       "      <td>...</td>\n",
       "      <td>...</td>\n",
       "      <td>...</td>\n",
       "      <td>...</td>\n",
       "      <td>...</td>\n",
       "      <td>...</td>\n",
       "      <td>...</td>\n",
       "      <td>...</td>\n",
       "      <td>...</td>\n",
       "      <td>...</td>\n",
       "      <td>...</td>\n",
       "      <td>...</td>\n",
       "      <td>...</td>\n",
       "      <td>...</td>\n",
       "      <td>...</td>\n",
       "      <td>...</td>\n",
       "      <td>...</td>\n",
       "      <td>...</td>\n",
       "      <td>...</td>\n",
       "      <td>...</td>\n",
       "      <td>...</td>\n",
       "      <td>...</td>\n",
       "      <td>...</td>\n",
       "      <td>...</td>\n",
       "      <td>...</td>\n",
       "      <td>...</td>\n",
       "      <td>...</td>\n",
       "      <td>...</td>\n",
       "      <td>...</td>\n",
       "      <td>...</td>\n",
       "      <td>...</td>\n",
       "      <td>...</td>\n",
       "      <td>...</td>\n",
       "      <td>...</td>\n",
       "      <td>...</td>\n",
       "      <td>...</td>\n",
       "      <td>...</td>\n",
       "      <td>...</td>\n",
       "      <td>...</td>\n",
       "      <td>...</td>\n",
       "      <td>...</td>\n",
       "      <td>...</td>\n",
       "      <td>...</td>\n",
       "      <td>...</td>\n",
       "      <td>...</td>\n",
       "      <td>...</td>\n",
       "      <td>...</td>\n",
       "      <td>...</td>\n",
       "      <td>...</td>\n",
       "      <td>...</td>\n",
       "      <td>...</td>\n",
       "      <td>...</td>\n",
       "      <td>...</td>\n",
       "      <td>...</td>\n",
       "      <td>...</td>\n",
       "      <td>...</td>\n",
       "      <td>...</td>\n",
       "      <td>...</td>\n",
       "      <td>...</td>\n",
       "      <td>...</td>\n",
       "      <td>...</td>\n",
       "      <td>...</td>\n",
       "      <td>...</td>\n",
       "      <td>...</td>\n",
       "      <td>...</td>\n",
       "      <td>...</td>\n",
       "      <td>...</td>\n",
       "      <td>...</td>\n",
       "      <td>...</td>\n",
       "      <td>...</td>\n",
       "      <td>...</td>\n",
       "      <td>...</td>\n",
       "      <td>...</td>\n",
       "      <td>...</td>\n",
       "      <td>...</td>\n",
       "      <td>...</td>\n",
       "      <td>...</td>\n",
       "      <td>...</td>\n",
       "      <td>...</td>\n",
       "      <td>...</td>\n",
       "      <td>...</td>\n",
       "      <td>...</td>\n",
       "      <td>...</td>\n",
       "      <td>...</td>\n",
       "      <td>...</td>\n",
       "      <td>...</td>\n",
       "    </tr>\n",
       "    <tr>\n",
       "      <th>48418</th>\n",
       "      <td>client_21483</td>\n",
       "      <td>0</td>\n",
       "      <td>1</td>\n",
       "      <td>[27-34)</td>\n",
       "      <td>ИП</td>\n",
       "      <td>0</td>\n",
       "      <td>0</td>\n",
       "      <td>0</td>\n",
       "      <td>0</td>\n",
       "      <td>0</td>\n",
       "      <td>0</td>\n",
       "      <td>0</td>\n",
       "      <td>0</td>\n",
       "      <td>0</td>\n",
       "      <td>0</td>\n",
       "      <td>0</td>\n",
       "      <td>0</td>\n",
       "      <td>0</td>\n",
       "      <td>0</td>\n",
       "      <td>0</td>\n",
       "      <td>0</td>\n",
       "      <td>0</td>\n",
       "      <td>0</td>\n",
       "      <td>0</td>\n",
       "      <td>0</td>\n",
       "      <td>0</td>\n",
       "      <td>0</td>\n",
       "      <td>0</td>\n",
       "      <td>0</td>\n",
       "      <td>0</td>\n",
       "      <td>0</td>\n",
       "      <td>0</td>\n",
       "      <td>0</td>\n",
       "      <td>0</td>\n",
       "      <td>0</td>\n",
       "      <td>0</td>\n",
       "      <td>0</td>\n",
       "      <td>0</td>\n",
       "      <td>0</td>\n",
       "      <td>0</td>\n",
       "      <td>0</td>\n",
       "      <td>0</td>\n",
       "      <td>0</td>\n",
       "      <td>0</td>\n",
       "      <td>0</td>\n",
       "      <td>0</td>\n",
       "      <td>0</td>\n",
       "      <td>0</td>\n",
       "      <td>0</td>\n",
       "      <td>0</td>\n",
       "      <td>0</td>\n",
       "      <td>0</td>\n",
       "      <td>0</td>\n",
       "      <td>0</td>\n",
       "      <td>0</td>\n",
       "      <td>0</td>\n",
       "      <td>0</td>\n",
       "      <td>0</td>\n",
       "      <td>0</td>\n",
       "      <td>0</td>\n",
       "      <td>0</td>\n",
       "      <td>0</td>\n",
       "      <td>0</td>\n",
       "      <td>0</td>\n",
       "      <td>0</td>\n",
       "      <td>1</td>\n",
       "      <td>0</td>\n",
       "      <td>0</td>\n",
       "      <td>0</td>\n",
       "      <td>0</td>\n",
       "      <td>0</td>\n",
       "      <td>0</td>\n",
       "      <td>0</td>\n",
       "      <td>0</td>\n",
       "      <td>0</td>\n",
       "      <td>0</td>\n",
       "      <td>0</td>\n",
       "      <td>0</td>\n",
       "      <td>0</td>\n",
       "      <td>0</td>\n",
       "      <td>2</td>\n",
       "      <td>0</td>\n",
       "      <td>0</td>\n",
       "      <td>0</td>\n",
       "      <td>0</td>\n",
       "      <td>0</td>\n",
       "      <td>0</td>\n",
       "      <td>0</td>\n",
       "      <td>0</td>\n",
       "      <td>0</td>\n",
       "      <td>0</td>\n",
       "      <td>0</td>\n",
       "      <td>0</td>\n",
       "      <td>0</td>\n",
       "      <td>0</td>\n",
       "      <td>1</td>\n",
       "      <td>0</td>\n",
       "      <td>0</td>\n",
       "      <td>0</td>\n",
       "      <td>0</td>\n",
       "      <td>0</td>\n",
       "      <td>0</td>\n",
       "      <td>0</td>\n",
       "      <td>0</td>\n",
       "      <td>0</td>\n",
       "      <td>0</td>\n",
       "      <td>0</td>\n",
       "      <td>0</td>\n",
       "      <td>0</td>\n",
       "      <td>0</td>\n",
       "      <td>0</td>\n",
       "      <td>1</td>\n",
       "      <td>0</td>\n",
       "      <td>0</td>\n",
       "      <td>0</td>\n",
       "    </tr>\n",
       "    <tr>\n",
       "      <th>48419</th>\n",
       "      <td>client_40397</td>\n",
       "      <td>0</td>\n",
       "      <td>1</td>\n",
       "      <td>[27-34)</td>\n",
       "      <td>ИП</td>\n",
       "      <td>0</td>\n",
       "      <td>0</td>\n",
       "      <td>0</td>\n",
       "      <td>0</td>\n",
       "      <td>0</td>\n",
       "      <td>0</td>\n",
       "      <td>0</td>\n",
       "      <td>0</td>\n",
       "      <td>0</td>\n",
       "      <td>0</td>\n",
       "      <td>0</td>\n",
       "      <td>0</td>\n",
       "      <td>0</td>\n",
       "      <td>0</td>\n",
       "      <td>0</td>\n",
       "      <td>0</td>\n",
       "      <td>0</td>\n",
       "      <td>0</td>\n",
       "      <td>0</td>\n",
       "      <td>0</td>\n",
       "      <td>0</td>\n",
       "      <td>0</td>\n",
       "      <td>0</td>\n",
       "      <td>0</td>\n",
       "      <td>0</td>\n",
       "      <td>0</td>\n",
       "      <td>0</td>\n",
       "      <td>0</td>\n",
       "      <td>0</td>\n",
       "      <td>0</td>\n",
       "      <td>0</td>\n",
       "      <td>0</td>\n",
       "      <td>0</td>\n",
       "      <td>0</td>\n",
       "      <td>0</td>\n",
       "      <td>0</td>\n",
       "      <td>0</td>\n",
       "      <td>0</td>\n",
       "      <td>0</td>\n",
       "      <td>0</td>\n",
       "      <td>0</td>\n",
       "      <td>0</td>\n",
       "      <td>0</td>\n",
       "      <td>0</td>\n",
       "      <td>0</td>\n",
       "      <td>0</td>\n",
       "      <td>0</td>\n",
       "      <td>0</td>\n",
       "      <td>0</td>\n",
       "      <td>0</td>\n",
       "      <td>0</td>\n",
       "      <td>0</td>\n",
       "      <td>0</td>\n",
       "      <td>0</td>\n",
       "      <td>0</td>\n",
       "      <td>0</td>\n",
       "      <td>0</td>\n",
       "      <td>0</td>\n",
       "      <td>0</td>\n",
       "      <td>0</td>\n",
       "      <td>1</td>\n",
       "      <td>0</td>\n",
       "      <td>0</td>\n",
       "      <td>0</td>\n",
       "      <td>0</td>\n",
       "      <td>0</td>\n",
       "      <td>0</td>\n",
       "      <td>0</td>\n",
       "      <td>0</td>\n",
       "      <td>0</td>\n",
       "      <td>0</td>\n",
       "      <td>0</td>\n",
       "      <td>0</td>\n",
       "      <td>0</td>\n",
       "      <td>0</td>\n",
       "      <td>4</td>\n",
       "      <td>0</td>\n",
       "      <td>0</td>\n",
       "      <td>0</td>\n",
       "      <td>0</td>\n",
       "      <td>0</td>\n",
       "      <td>0</td>\n",
       "      <td>0</td>\n",
       "      <td>0</td>\n",
       "      <td>0</td>\n",
       "      <td>0</td>\n",
       "      <td>0</td>\n",
       "      <td>0</td>\n",
       "      <td>0</td>\n",
       "      <td>0</td>\n",
       "      <td>1</td>\n",
       "      <td>0</td>\n",
       "      <td>0</td>\n",
       "      <td>0</td>\n",
       "      <td>0</td>\n",
       "      <td>0</td>\n",
       "      <td>0</td>\n",
       "      <td>0</td>\n",
       "      <td>0</td>\n",
       "      <td>0</td>\n",
       "      <td>0</td>\n",
       "      <td>0</td>\n",
       "      <td>0</td>\n",
       "      <td>0</td>\n",
       "      <td>0</td>\n",
       "      <td>1</td>\n",
       "      <td>1</td>\n",
       "      <td>1</td>\n",
       "      <td>0</td>\n",
       "      <td>0</td>\n",
       "    </tr>\n",
       "    <tr>\n",
       "      <th>48420</th>\n",
       "      <td>client_4588</td>\n",
       "      <td>0</td>\n",
       "      <td>10</td>\n",
       "      <td>[40-48)</td>\n",
       "      <td>ИП</td>\n",
       "      <td>0</td>\n",
       "      <td>0</td>\n",
       "      <td>0</td>\n",
       "      <td>0</td>\n",
       "      <td>0</td>\n",
       "      <td>0</td>\n",
       "      <td>0</td>\n",
       "      <td>0</td>\n",
       "      <td>0</td>\n",
       "      <td>0</td>\n",
       "      <td>0</td>\n",
       "      <td>0</td>\n",
       "      <td>0</td>\n",
       "      <td>0</td>\n",
       "      <td>0</td>\n",
       "      <td>0</td>\n",
       "      <td>0</td>\n",
       "      <td>0</td>\n",
       "      <td>0</td>\n",
       "      <td>0</td>\n",
       "      <td>0</td>\n",
       "      <td>0</td>\n",
       "      <td>0</td>\n",
       "      <td>0</td>\n",
       "      <td>0</td>\n",
       "      <td>0</td>\n",
       "      <td>0</td>\n",
       "      <td>0</td>\n",
       "      <td>0</td>\n",
       "      <td>0</td>\n",
       "      <td>0</td>\n",
       "      <td>0</td>\n",
       "      <td>0</td>\n",
       "      <td>0</td>\n",
       "      <td>0</td>\n",
       "      <td>0</td>\n",
       "      <td>0</td>\n",
       "      <td>0</td>\n",
       "      <td>0</td>\n",
       "      <td>0</td>\n",
       "      <td>0</td>\n",
       "      <td>0</td>\n",
       "      <td>0</td>\n",
       "      <td>0</td>\n",
       "      <td>0</td>\n",
       "      <td>0</td>\n",
       "      <td>0</td>\n",
       "      <td>0</td>\n",
       "      <td>0</td>\n",
       "      <td>0</td>\n",
       "      <td>0</td>\n",
       "      <td>0</td>\n",
       "      <td>0</td>\n",
       "      <td>0</td>\n",
       "      <td>0</td>\n",
       "      <td>0</td>\n",
       "      <td>0</td>\n",
       "      <td>0</td>\n",
       "      <td>0</td>\n",
       "      <td>0</td>\n",
       "      <td>1</td>\n",
       "      <td>0</td>\n",
       "      <td>0</td>\n",
       "      <td>0</td>\n",
       "      <td>0</td>\n",
       "      <td>0</td>\n",
       "      <td>0</td>\n",
       "      <td>0</td>\n",
       "      <td>0</td>\n",
       "      <td>0</td>\n",
       "      <td>0</td>\n",
       "      <td>0</td>\n",
       "      <td>0</td>\n",
       "      <td>0</td>\n",
       "      <td>0</td>\n",
       "      <td>2</td>\n",
       "      <td>0</td>\n",
       "      <td>0</td>\n",
       "      <td>0</td>\n",
       "      <td>0</td>\n",
       "      <td>0</td>\n",
       "      <td>0</td>\n",
       "      <td>0</td>\n",
       "      <td>0</td>\n",
       "      <td>0</td>\n",
       "      <td>0</td>\n",
       "      <td>0</td>\n",
       "      <td>0</td>\n",
       "      <td>0</td>\n",
       "      <td>0</td>\n",
       "      <td>1</td>\n",
       "      <td>0</td>\n",
       "      <td>0</td>\n",
       "      <td>0</td>\n",
       "      <td>0</td>\n",
       "      <td>0</td>\n",
       "      <td>0</td>\n",
       "      <td>0</td>\n",
       "      <td>0</td>\n",
       "      <td>0</td>\n",
       "      <td>0</td>\n",
       "      <td>0</td>\n",
       "      <td>0</td>\n",
       "      <td>0</td>\n",
       "      <td>0</td>\n",
       "      <td>0</td>\n",
       "      <td>1</td>\n",
       "      <td>0</td>\n",
       "      <td>0</td>\n",
       "      <td>0</td>\n",
       "    </tr>\n",
       "    <tr>\n",
       "      <th>48421</th>\n",
       "      <td>client_17159</td>\n",
       "      <td>0</td>\n",
       "      <td>1</td>\n",
       "      <td>&gt;=48</td>\n",
       "      <td>ИП</td>\n",
       "      <td>0</td>\n",
       "      <td>0</td>\n",
       "      <td>0</td>\n",
       "      <td>0</td>\n",
       "      <td>0</td>\n",
       "      <td>0</td>\n",
       "      <td>0</td>\n",
       "      <td>0</td>\n",
       "      <td>0</td>\n",
       "      <td>0</td>\n",
       "      <td>0</td>\n",
       "      <td>0</td>\n",
       "      <td>0</td>\n",
       "      <td>0</td>\n",
       "      <td>0</td>\n",
       "      <td>0</td>\n",
       "      <td>0</td>\n",
       "      <td>0</td>\n",
       "      <td>0</td>\n",
       "      <td>0</td>\n",
       "      <td>0</td>\n",
       "      <td>0</td>\n",
       "      <td>0</td>\n",
       "      <td>0</td>\n",
       "      <td>0</td>\n",
       "      <td>0</td>\n",
       "      <td>0</td>\n",
       "      <td>0</td>\n",
       "      <td>0</td>\n",
       "      <td>0</td>\n",
       "      <td>0</td>\n",
       "      <td>0</td>\n",
       "      <td>0</td>\n",
       "      <td>0</td>\n",
       "      <td>0</td>\n",
       "      <td>0</td>\n",
       "      <td>0</td>\n",
       "      <td>0</td>\n",
       "      <td>0</td>\n",
       "      <td>0</td>\n",
       "      <td>0</td>\n",
       "      <td>0</td>\n",
       "      <td>0</td>\n",
       "      <td>0</td>\n",
       "      <td>0</td>\n",
       "      <td>0</td>\n",
       "      <td>0</td>\n",
       "      <td>0</td>\n",
       "      <td>0</td>\n",
       "      <td>0</td>\n",
       "      <td>0</td>\n",
       "      <td>0</td>\n",
       "      <td>0</td>\n",
       "      <td>0</td>\n",
       "      <td>0</td>\n",
       "      <td>0</td>\n",
       "      <td>0</td>\n",
       "      <td>0</td>\n",
       "      <td>0</td>\n",
       "      <td>0</td>\n",
       "      <td>0</td>\n",
       "      <td>0</td>\n",
       "      <td>0</td>\n",
       "      <td>0</td>\n",
       "      <td>0</td>\n",
       "      <td>0</td>\n",
       "      <td>0</td>\n",
       "      <td>0</td>\n",
       "      <td>0</td>\n",
       "      <td>0</td>\n",
       "      <td>0</td>\n",
       "      <td>0</td>\n",
       "      <td>0</td>\n",
       "      <td>0</td>\n",
       "      <td>0</td>\n",
       "      <td>0</td>\n",
       "      <td>0</td>\n",
       "      <td>0</td>\n",
       "      <td>0</td>\n",
       "      <td>0</td>\n",
       "      <td>0</td>\n",
       "      <td>0</td>\n",
       "      <td>0</td>\n",
       "      <td>0</td>\n",
       "      <td>0</td>\n",
       "      <td>0</td>\n",
       "      <td>0</td>\n",
       "      <td>0</td>\n",
       "      <td>0</td>\n",
       "      <td>0</td>\n",
       "      <td>0</td>\n",
       "      <td>0</td>\n",
       "      <td>0</td>\n",
       "      <td>0</td>\n",
       "      <td>0</td>\n",
       "      <td>0</td>\n",
       "      <td>0</td>\n",
       "      <td>0</td>\n",
       "      <td>0</td>\n",
       "      <td>0</td>\n",
       "      <td>0</td>\n",
       "      <td>0</td>\n",
       "      <td>0</td>\n",
       "      <td>0</td>\n",
       "      <td>0</td>\n",
       "      <td>0</td>\n",
       "      <td>1</td>\n",
       "      <td>0</td>\n",
       "      <td>0</td>\n",
       "      <td>0</td>\n",
       "    </tr>\n",
       "    <tr>\n",
       "      <th>48422</th>\n",
       "      <td>client_2558</td>\n",
       "      <td>0</td>\n",
       "      <td>8</td>\n",
       "      <td>нет данных</td>\n",
       "      <td>Юр. лицо</td>\n",
       "      <td>0</td>\n",
       "      <td>0</td>\n",
       "      <td>0</td>\n",
       "      <td>0</td>\n",
       "      <td>0</td>\n",
       "      <td>0</td>\n",
       "      <td>0</td>\n",
       "      <td>0</td>\n",
       "      <td>0</td>\n",
       "      <td>0</td>\n",
       "      <td>0</td>\n",
       "      <td>0</td>\n",
       "      <td>0</td>\n",
       "      <td>0</td>\n",
       "      <td>0</td>\n",
       "      <td>0</td>\n",
       "      <td>0</td>\n",
       "      <td>0</td>\n",
       "      <td>0</td>\n",
       "      <td>0</td>\n",
       "      <td>0</td>\n",
       "      <td>0</td>\n",
       "      <td>0</td>\n",
       "      <td>0</td>\n",
       "      <td>0</td>\n",
       "      <td>0</td>\n",
       "      <td>0</td>\n",
       "      <td>0</td>\n",
       "      <td>0</td>\n",
       "      <td>0</td>\n",
       "      <td>0</td>\n",
       "      <td>0</td>\n",
       "      <td>0</td>\n",
       "      <td>0</td>\n",
       "      <td>0</td>\n",
       "      <td>0</td>\n",
       "      <td>0</td>\n",
       "      <td>0</td>\n",
       "      <td>0</td>\n",
       "      <td>0</td>\n",
       "      <td>0</td>\n",
       "      <td>0</td>\n",
       "      <td>0</td>\n",
       "      <td>0</td>\n",
       "      <td>0</td>\n",
       "      <td>0</td>\n",
       "      <td>0</td>\n",
       "      <td>0</td>\n",
       "      <td>0</td>\n",
       "      <td>0</td>\n",
       "      <td>0</td>\n",
       "      <td>0</td>\n",
       "      <td>0</td>\n",
       "      <td>0</td>\n",
       "      <td>0</td>\n",
       "      <td>0</td>\n",
       "      <td>0</td>\n",
       "      <td>0</td>\n",
       "      <td>0</td>\n",
       "      <td>0</td>\n",
       "      <td>0</td>\n",
       "      <td>0</td>\n",
       "      <td>0</td>\n",
       "      <td>0</td>\n",
       "      <td>0</td>\n",
       "      <td>0</td>\n",
       "      <td>0</td>\n",
       "      <td>0</td>\n",
       "      <td>0</td>\n",
       "      <td>0</td>\n",
       "      <td>0</td>\n",
       "      <td>0</td>\n",
       "      <td>0</td>\n",
       "      <td>0</td>\n",
       "      <td>0</td>\n",
       "      <td>1</td>\n",
       "      <td>1</td>\n",
       "      <td>0</td>\n",
       "      <td>0</td>\n",
       "      <td>0</td>\n",
       "      <td>0</td>\n",
       "      <td>0</td>\n",
       "      <td>0</td>\n",
       "      <td>1</td>\n",
       "      <td>0</td>\n",
       "      <td>0</td>\n",
       "      <td>0</td>\n",
       "      <td>0</td>\n",
       "      <td>0</td>\n",
       "      <td>0</td>\n",
       "      <td>0</td>\n",
       "      <td>0</td>\n",
       "      <td>0</td>\n",
       "      <td>0</td>\n",
       "      <td>0</td>\n",
       "      <td>0</td>\n",
       "      <td>0</td>\n",
       "      <td>0</td>\n",
       "      <td>0</td>\n",
       "      <td>0</td>\n",
       "      <td>0</td>\n",
       "      <td>0</td>\n",
       "      <td>0</td>\n",
       "      <td>0</td>\n",
       "      <td>0</td>\n",
       "      <td>0</td>\n",
       "      <td>1</td>\n",
       "      <td>1</td>\n",
       "      <td>0</td>\n",
       "      <td>0</td>\n",
       "    </tr>\n",
       "  </tbody>\n",
       "</table>\n",
       "<p>48423 rows × 115 columns</p>\n",
       "</div>"
      ],
      "text/plain": [
       "             клиент Сегмент id Кластер Средний возраст работников  \\\n",
       "0       client_5139          0       2                    [40-48)   \n",
       "1      client_16112          0       5                     [0-27)   \n",
       "2      client_21152          0       5                    [34-40)   \n",
       "3      client_15302          0       1                    [40-48)   \n",
       "4      client_30885          0       6                       >=48   \n",
       "...             ...        ...     ...                        ...   \n",
       "48418  client_21483          0       1                    [27-34)   \n",
       "48419  client_40397          0       1                    [27-34)   \n",
       "48420   client_4588          0      10                    [40-48)   \n",
       "48421  client_17159          0       1                       >=48   \n",
       "48422   client_2558          0       8                 нет данных   \n",
       "\n",
       "      Тип организации  bank_1  bank_2  bank_3  bank_4  bank_5  bank_6  bank_7  \\\n",
       "0                  ИП       0       0       0       0       0       0       0   \n",
       "1                  ИП       0       0       0       0       0       0       0   \n",
       "2                  ИП       0       0       0       0       0       0       0   \n",
       "3                  ИП       0       0       0       0       0       0       0   \n",
       "4                  ИП       0       0       0       0       0       0       0   \n",
       "...               ...     ...     ...     ...     ...     ...     ...     ...   \n",
       "48418              ИП       0       0       0       0       0       0       0   \n",
       "48419              ИП       0       0       0       0       0       0       0   \n",
       "48420              ИП       0       0       0       0       0       0       0   \n",
       "48421              ИП       0       0       0       0       0       0       0   \n",
       "48422        Юр. лицо       0       0       0       0       0       0       0   \n",
       "\n",
       "       bank_8  bank_9  bank_10  bank_11  bank_12  bank_13  bank_14  bank_15  \\\n",
       "0           0       0        0        0        0        0        0        0   \n",
       "1           0       0        0        0        0        0        0        0   \n",
       "2           0       0        0        0        0        0        0        0   \n",
       "3           0       1        0        0        0        0        0        0   \n",
       "4           0       0        0        0        0        0        0        0   \n",
       "...       ...     ...      ...      ...      ...      ...      ...      ...   \n",
       "48418       0       0        0        0        0        0        0        0   \n",
       "48419       0       0        0        0        0        0        0        0   \n",
       "48420       0       0        0        0        0        0        0        0   \n",
       "48421       0       0        0        0        0        0        0        0   \n",
       "48422       0       0        0        0        0        0        0        0   \n",
       "\n",
       "       bank_16  bank_17  bank_18  bank_19  bank_20  bank_21  bank_22  bank_23  \\\n",
       "0            0        0        0        0        0        0        0        0   \n",
       "1            0        0        0        0        0        0        0        0   \n",
       "2            0        0        0        0        0        0        0        0   \n",
       "3            0        0        0        0        0        0        0        0   \n",
       "4            0        0        0        0        0        0        0        0   \n",
       "...        ...      ...      ...      ...      ...      ...      ...      ...   \n",
       "48418        0        0        0        0        0        0        0        0   \n",
       "48419        0        0        0        0        0        0        0        0   \n",
       "48420        0        0        0        0        0        0        0        0   \n",
       "48421        0        0        0        0        0        0        0        0   \n",
       "48422        0        0        0        0        0        0        0        0   \n",
       "\n",
       "       bank_24  bank_25  bank_26  bank_27  bank_28  bank_29  bank_30  bank_31  \\\n",
       "0            0        0        0        0        0        0        0        0   \n",
       "1            0        0        0        0        0        0        0        0   \n",
       "2            0        0        0        0        0        0        0        0   \n",
       "3            1        0        0        0        0        0        0        0   \n",
       "4            0        0        0        0        0        0        0        0   \n",
       "...        ...      ...      ...      ...      ...      ...      ...      ...   \n",
       "48418        0        0        0        0        0        0        0        0   \n",
       "48419        0        0        0        0        0        0        0        0   \n",
       "48420        0        0        0        0        0        0        0        0   \n",
       "48421        0        0        0        0        0        0        0        0   \n",
       "48422        0        0        0        0        0        0        0        0   \n",
       "\n",
       "       bank_32  bank_33  bank_34  bank_35  bank_36  bank_37  bank_38  bank_39  \\\n",
       "0            0        0        0        0        0        0        0        0   \n",
       "1            0        0        0        0        0        0        0        0   \n",
       "2            0        0        0        0        0        0        0        0   \n",
       "3            0        0        0        0        0        0        0        0   \n",
       "4            0        0        0        0        0        0        0        0   \n",
       "...        ...      ...      ...      ...      ...      ...      ...      ...   \n",
       "48418        0        0        0        0        0        0        0        0   \n",
       "48419        0        0        0        0        0        0        0        0   \n",
       "48420        0        0        0        0        0        0        0        0   \n",
       "48421        0        0        0        0        0        0        0        0   \n",
       "48422        0        0        0        0        0        0        0        0   \n",
       "\n",
       "       bank_40  bank_41  bank_42  bank_43  bank_44  bank_45  bank_46  bank_47  \\\n",
       "0            0        0        0        0        0        0        0        0   \n",
       "1            0        0        0        0        0        0        0        0   \n",
       "2            0        0        0        0        0        0        0        0   \n",
       "3            0        0        0        0        0        0        0        0   \n",
       "4            0        0        0        0        0        0        0        0   \n",
       "...        ...      ...      ...      ...      ...      ...      ...      ...   \n",
       "48418        0        0        0        0        0        0        0        0   \n",
       "48419        0        0        0        0        0        0        0        0   \n",
       "48420        0        0        0        0        0        0        0        0   \n",
       "48421        0        0        0        0        0        0        0        0   \n",
       "48422        0        0        0        0        0        0        0        0   \n",
       "\n",
       "       bank_48  bank_49  bank_50  ns_promotion  acquiring_mobile  acreditiv  \\\n",
       "0            0        0        0             0                 0          0   \n",
       "1            0        0        0             0                 0          0   \n",
       "2            0        0        0             0                 0          0   \n",
       "3            0        0        0             0                 0          0   \n",
       "4            0        0        0             0                 0          0   \n",
       "...        ...      ...      ...           ...               ...        ...   \n",
       "48418        0        0        0             0                 0          0   \n",
       "48419        0        0        0             0                 0          0   \n",
       "48420        0        0        0             0                 0          0   \n",
       "48421        0        0        0             0                 0          0   \n",
       "48422        0        0        0             0                 0          0   \n",
       "\n",
       "       arenda_seyf  bank_straxovanie_imush  bank_straxovanie_lich  \\\n",
       "0                0                       0                      0   \n",
       "1                0                       0                      0   \n",
       "2                0                       0                      0   \n",
       "3                0                       0                      0   \n",
       "4                0                       0                      0   \n",
       "...            ...                     ...                    ...   \n",
       "48418            0                       0                      0   \n",
       "48419            0                       0                      0   \n",
       "48420            0                       0                      0   \n",
       "48421            0                       0                      0   \n",
       "48422            0                       0                      0   \n",
       "\n",
       "       bank_straxovanie_otvet  broker  capital_markets  cash_management  dbo  \\\n",
       "0                           0       0                0                0    0   \n",
       "1                           0       0                0                0    0   \n",
       "2                           0       0                0                0    1   \n",
       "3                           0       0                0                0    1   \n",
       "4                           0       0                0                0    1   \n",
       "...                       ...     ...              ...              ...  ...   \n",
       "48418                       0       0                0                0    1   \n",
       "48419                       0       0                0                0    1   \n",
       "48420                       0       0                0                0    1   \n",
       "48421                       0       0                0                0    0   \n",
       "48422                       0       0                0                0    0   \n",
       "\n",
       "       dcd  deposit_sertificat  einvoicing  eko_docdoc  eko_interkomp  \\\n",
       "0        0                   0           0           0              0   \n",
       "1        0                   0           0           0              0   \n",
       "2        0                   0           0           0              0   \n",
       "3        0                   0           0           0              0   \n",
       "4        0                   0           0           0              0   \n",
       "...    ...                 ...         ...         ...            ...   \n",
       "48418    0                   0           0           0              0   \n",
       "48419    0                   0           0           0              0   \n",
       "48420    0                   0           0           0              0   \n",
       "48421    0                   0           0           0              0   \n",
       "48422    0                   0           0           0              0   \n",
       "\n",
       "       eko_korus  eko_sbermobile  eko_segmento  eko_tot  factoring  \\\n",
       "0              0               0             0        0          0   \n",
       "1              0               0             0        0          0   \n",
       "2              0               0             0        0          0   \n",
       "3              0               0             0        0          0   \n",
       "4              0               0             0        0          0   \n",
       "...          ...             ...           ...      ...        ...   \n",
       "48418          0               0             0        0          0   \n",
       "48419          0               0             0        0          0   \n",
       "48420          0               0             0        0          0   \n",
       "48421          0               0             0        0          0   \n",
       "48422          0               0             0        0          0   \n",
       "\n",
       "       garantee_gos  garantee_kontract  garantee_other  invest_kredit  \\\n",
       "0                 0                  0               0              0   \n",
       "1                 0                  0               0              0   \n",
       "2                 0                  0               0              0   \n",
       "3                 0                  0               0              0   \n",
       "4                 0                  0               0              0   \n",
       "...             ...                ...             ...            ...   \n",
       "48418             0                  0               0              0   \n",
       "48419             0                  0               0              0   \n",
       "48420             0                  0               0              0   \n",
       "48421             0                  0               0              0   \n",
       "48422             0                  0               0              0   \n",
       "\n",
       "       itog_bank  itog_eko  kbk  konversion  mb_a  ns_bukh  ns_business  \\\n",
       "0              0         0    0           0     0        0            0   \n",
       "1              1         0    0           0     0        0            0   \n",
       "2              1         0    0           0     0        0            0   \n",
       "3              5         0    0           0     0        0            0   \n",
       "4              4         1    0           0     0        0            0   \n",
       "...          ...       ...  ...         ...   ...      ...          ...   \n",
       "48418          2         0    0           0     0        0            0   \n",
       "48419          4         0    0           0     0        0            0   \n",
       "48420          2         0    0           0     0        0            0   \n",
       "48421          0         0    0           0     0        0            0   \n",
       "48422          1         1    0           0     0        0            0   \n",
       "\n",
       "       ns_document  ns_in_app  nso  ns_priem_plat  ns_servis  ns_terminal  \\\n",
       "0                0          0    0              0          0            0   \n",
       "1                0          0    0              0          0            0   \n",
       "2                0          0    0              0          0            0   \n",
       "3                0          0    0              0          0            0   \n",
       "4                0          1    0              0          0            0   \n",
       "...            ...        ...  ...            ...        ...          ...   \n",
       "48418            0          0    0              0          0            0   \n",
       "48419            0          0    0              0          0            0   \n",
       "48420            0          0    0              0          0            0   \n",
       "48421            0          0    0              0          0            0   \n",
       "48422            0          1    0              0          0            0   \n",
       "\n",
       "       ns_torg  oborot_kredit  obsluzh_rts_rur  obsluzh_rts_val  \\\n",
       "0            0              0                0                0   \n",
       "1            0              0                1                0   \n",
       "2            0              0                0                0   \n",
       "3            0              0                1                0   \n",
       "4            0              0                1                0   \n",
       "...        ...            ...              ...              ...   \n",
       "48418        0              0                1                0   \n",
       "48419        0              0                1                0   \n",
       "48420        0              0                1                0   \n",
       "48421        0              0                0                0   \n",
       "48422        0              0                0                0   \n",
       "\n",
       "       overdraft_kredit  pfi  products_lizing  proekt_finans  spec_acc  us  \\\n",
       "0                     0    0                0              0         0   0   \n",
       "1                     0    0                0              0         0   0   \n",
       "2                     0    0                0              0         0   0   \n",
       "3                     0    0                0              0         0   0   \n",
       "4                     0    0                0              0         0   0   \n",
       "...                 ...  ...              ...            ...       ...  ..   \n",
       "48418                 0    0                0              0         0   0   \n",
       "48419                 0    0                0              0         0   0   \n",
       "48420                 0    0                0              0         0   0   \n",
       "48421                 0    0                0              0         0   0   \n",
       "48422                 0    0                0              0         0   0   \n",
       "\n",
       "       veksel  bank_guarantees  credit  corporate_cards  valuta_control  \\\n",
       "0           0                0       0                0               0   \n",
       "1           0                0       0                0               0   \n",
       "2           0                0       0                0               0   \n",
       "3           0                0       0                0               0   \n",
       "4           0                0       0                0               0   \n",
       "...       ...              ...     ...              ...             ...   \n",
       "48418       0                0       0                0               0   \n",
       "48419       0                0       0                0               0   \n",
       "48420       0                0       0                0               0   \n",
       "48421       0                0       0                0               0   \n",
       "48422       0                0       0                0               0   \n",
       "\n",
       "       deposit  inkass  acquiring_torg  rko  zarplat_projects  samoinkass  \\\n",
       "0            0       0               0    1                 0           0   \n",
       "1            0       0               0    1                 1           0   \n",
       "2            0       0               0    1                 0           0   \n",
       "3            0       0               1    1                 1           0   \n",
       "4            0       0               1    1                 0           0   \n",
       "...        ...     ...             ...  ...               ...         ...   \n",
       "48418        0       0               0    1                 0           0   \n",
       "48419        0       0               1    1                 1           0   \n",
       "48420        0       0               0    1                 0           0   \n",
       "48421        0       0               0    1                 0           0   \n",
       "48422        0       0               0    1                 1           0   \n",
       "\n",
       "       Компания в стадии ликвидации  \n",
       "0                                 0  \n",
       "1                                 0  \n",
       "2                                 0  \n",
       "3                                 0  \n",
       "4                                 0  \n",
       "...                             ...  \n",
       "48418                             0  \n",
       "48419                             0  \n",
       "48420                             0  \n",
       "48421                             0  \n",
       "48422                             0  \n",
       "\n",
       "[48423 rows x 115 columns]"
      ]
     },
     "execution_count": 4,
     "metadata": {},
     "output_type": "execute_result"
    }
   ],
   "source": [
    "def fix_date_columns(df):\n",
    "    new_columns = [df.columns[0]]\n",
    "    for column in df.columns[1:]:\n",
    "        date = datetime.fromordinal(datetime(1900, 1, 1).toordinal() + int(column) - 2).strftime('%Y-%m-%d')\n",
    "        new_columns.append(date)\n",
    "\n",
    "    df.columns = new_columns\n",
    "    return df\n",
    "\n",
    "\n",
    "df_acquiring = pd.read_excel(\n",
    "    io='dataset/acquiring.xlsb',\n",
    "    engine='pyxlsb',\n",
    "    header=1,  # У файла есть заголовок-объединение\n",
    "    # nrows=1000,\n",
    ")\n",
    "df_acquiring = fix_date_columns(df_acquiring)\n",
    "\n",
    "# df_rko = pd.read_excel(\n",
    "#     io='dataset/rko.xlsb',\n",
    "#     engine='pyxlsb',\n",
    "#     header=1,  # У файла есть заголовок-объединение\n",
    "# )\n",
    "# df_rko = fix_date_columns(df_rko)\n",
    "\n",
    "# df_economy_acquiring = pd.read_excel(\n",
    "#     io='dataset/economy_acquiring.xlsb',\n",
    "#     engine='pyxlsb',\n",
    "#     header=1,  # У файла есть заголовок-объединение\n",
    "# )\n",
    "\n",
    "# df_economy_general = pd.read_excel(\n",
    "#     io='dataset/economy_general.xlsb',\n",
    "#     engine='pyxlsb',\n",
    "#     header=1,  # У файла есть заголовок-объединение\n",
    "# )\n",
    "\n",
    "df_general = pd.read_excel(\n",
    "    io='dataset/general.xlsb',\n",
    "    engine='pyxlsb',\n",
    "    header=0,  # У файла есть заголовок-объединение\n",
    ")\n",
    "df_general['Кластер'] = df_general['Кластер'].astype('category')\n",
    "df_general = df_general.drop(['ОКВЭД, основная деятельность', 'ОКВЭД, дополнительные', 'Наименование основного ОКВЭД'], axis=1)\n",
    "df_general"
   ]
  },
  {
   "cell_type": "code",
   "execution_count": 5,
   "id": "ded77daa-ccab-4fbd-b030-0f45a50b46d9",
   "metadata": {},
   "outputs": [
    {
     "data": {
      "text/html": [
       "<div>\n",
       "<style scoped>\n",
       "    .dataframe tbody tr th:only-of-type {\n",
       "        vertical-align: middle;\n",
       "    }\n",
       "\n",
       "    .dataframe tbody tr th {\n",
       "        vertical-align: top;\n",
       "    }\n",
       "\n",
       "    .dataframe thead th {\n",
       "        text-align: right;\n",
       "    }\n",
       "</style>\n",
       "<table border=\"1\" class=\"dataframe\">\n",
       "  <thead>\n",
       "    <tr style=\"text-align: right;\">\n",
       "      <th></th>\n",
       "      <th>клиент</th>\n",
       "      <th>2021-10-31</th>\n",
       "      <th>2021-11-30</th>\n",
       "      <th>2021-12-31</th>\n",
       "      <th>2022-01-31</th>\n",
       "      <th>2022-02-28</th>\n",
       "      <th>2022-03-31</th>\n",
       "      <th>2022-04-30</th>\n",
       "      <th>2022-05-31</th>\n",
       "      <th>2022-06-30</th>\n",
       "      <th>2022-07-31</th>\n",
       "      <th>2022-08-31</th>\n",
       "      <th>2022-09-30</th>\n",
       "      <th>2022-10-31</th>\n",
       "      <th>2022-11-30</th>\n",
       "      <th>2022-12-31</th>\n",
       "      <th>2023-01-31</th>\n",
       "      <th>2023-02-28</th>\n",
       "      <th>2023-03-31</th>\n",
       "      <th>2023-04-30</th>\n",
       "      <th>2023-05-31</th>\n",
       "      <th>2023-06-30</th>\n",
       "      <th>2023-07-31</th>\n",
       "      <th>2023-08-31</th>\n",
       "      <th>2023-09-30</th>\n",
       "    </tr>\n",
       "  </thead>\n",
       "  <tbody>\n",
       "    <tr>\n",
       "      <th>0</th>\n",
       "      <td>client_37877</td>\n",
       "      <td>0</td>\n",
       "      <td>0</td>\n",
       "      <td>0</td>\n",
       "      <td>0</td>\n",
       "      <td>0</td>\n",
       "      <td>0</td>\n",
       "      <td>0</td>\n",
       "      <td>0</td>\n",
       "      <td>0</td>\n",
       "      <td>0</td>\n",
       "      <td>0</td>\n",
       "      <td>0</td>\n",
       "      <td>0</td>\n",
       "      <td>0</td>\n",
       "      <td>0</td>\n",
       "      <td>0</td>\n",
       "      <td>0</td>\n",
       "      <td>0</td>\n",
       "      <td>1</td>\n",
       "      <td>1</td>\n",
       "      <td>1</td>\n",
       "      <td>1</td>\n",
       "      <td>1</td>\n",
       "      <td>1</td>\n",
       "    </tr>\n",
       "    <tr>\n",
       "      <th>1</th>\n",
       "      <td>client_30115</td>\n",
       "      <td>0</td>\n",
       "      <td>0</td>\n",
       "      <td>0</td>\n",
       "      <td>0</td>\n",
       "      <td>0</td>\n",
       "      <td>0</td>\n",
       "      <td>0</td>\n",
       "      <td>0</td>\n",
       "      <td>0</td>\n",
       "      <td>0</td>\n",
       "      <td>0</td>\n",
       "      <td>0</td>\n",
       "      <td>0</td>\n",
       "      <td>0</td>\n",
       "      <td>0</td>\n",
       "      <td>1</td>\n",
       "      <td>1</td>\n",
       "      <td>1</td>\n",
       "      <td>1</td>\n",
       "      <td>1</td>\n",
       "      <td>1</td>\n",
       "      <td>1</td>\n",
       "      <td>1</td>\n",
       "      <td>1</td>\n",
       "    </tr>\n",
       "    <tr>\n",
       "      <th>2</th>\n",
       "      <td>client_9554</td>\n",
       "      <td>0</td>\n",
       "      <td>0</td>\n",
       "      <td>0</td>\n",
       "      <td>0</td>\n",
       "      <td>0</td>\n",
       "      <td>0</td>\n",
       "      <td>0</td>\n",
       "      <td>0</td>\n",
       "      <td>0</td>\n",
       "      <td>0</td>\n",
       "      <td>0</td>\n",
       "      <td>0</td>\n",
       "      <td>0</td>\n",
       "      <td>0</td>\n",
       "      <td>0</td>\n",
       "      <td>0</td>\n",
       "      <td>0</td>\n",
       "      <td>0</td>\n",
       "      <td>0</td>\n",
       "      <td>0</td>\n",
       "      <td>0</td>\n",
       "      <td>0</td>\n",
       "      <td>0</td>\n",
       "      <td>0</td>\n",
       "    </tr>\n",
       "  </tbody>\n",
       "</table>\n",
       "</div>"
      ],
      "text/plain": [
       "         клиент  2021-10-31  2021-11-30  2021-12-31  2022-01-31  2022-02-28  \\\n",
       "0  client_37877           0           0           0           0           0   \n",
       "1  client_30115           0           0           0           0           0   \n",
       "2   client_9554           0           0           0           0           0   \n",
       "\n",
       "   2022-03-31  2022-04-30  2022-05-31  2022-06-30  2022-07-31  2022-08-31  \\\n",
       "0           0           0           0           0           0           0   \n",
       "1           0           0           0           0           0           0   \n",
       "2           0           0           0           0           0           0   \n",
       "\n",
       "   2022-09-30  2022-10-31  2022-11-30  2022-12-31  2023-01-31  2023-02-28  \\\n",
       "0           0           0           0           0           0           0   \n",
       "1           0           0           0           0           1           1   \n",
       "2           0           0           0           0           0           0   \n",
       "\n",
       "   2023-03-31  2023-04-30  2023-05-31  2023-06-30  2023-07-31  2023-08-31  \\\n",
       "0           0           1           1           1           1           1   \n",
       "1           1           1           1           1           1           1   \n",
       "2           0           0           0           0           0           0   \n",
       "\n",
       "   2023-09-30  \n",
       "0           1  \n",
       "1           1  \n",
       "2           0  "
      ]
     },
     "execution_count": 5,
     "metadata": {},
     "output_type": "execute_result"
    }
   ],
   "source": [
    "df_acquiring.head(3)"
   ]
  },
  {
   "cell_type": "markdown",
   "id": "598106a0-0887-4e9f-988b-a46d368e1bdd",
   "metadata": {},
   "source": [
    "# Расчёт двух формул"
   ]
  },
  {
   "cell_type": "code",
   "execution_count": 6,
   "id": "1cfb248b-e1a3-4906-8348-d6ce25858b44",
   "metadata": {},
   "outputs": [
    {
     "data": {
      "text/plain": [
       "3.225806451612903"
      ]
     },
     "execution_count": 6,
     "metadata": {},
     "output_type": "execute_result"
    }
   ],
   "source": [
    "def customer_churn_share(df: pd.DataFrame, end_id_month: int) -> float:\n",
    "    \"\"\"Доля оттока клиентов.\"\"\"\n",
    "    have_clients = df.iloc[:, end_id_month - 1]\n",
    "    have_clients = have_clients[have_clients == 1]\n",
    "\n",
    "    not_have_clients = df.iloc[have_clients.index, end_id_month]\n",
    "    not_have_clients = not_have_clients[not_have_clients == 0]\n",
    "\n",
    "    value = not_have_clients.shape[0] / have_clients.shape[0] * 100\n",
    "    return value\n",
    "\n",
    "\n",
    "customer_churn_share(df_acquiring, 2)"
   ]
  },
  {
   "cell_type": "code",
   "execution_count": 7,
   "id": "60b0308c-2c39-44c3-bc20-e32b99045e82",
   "metadata": {},
   "outputs": [
    {
     "data": {
      "text/plain": [
       "96.7741935483871"
      ]
     },
     "execution_count": 7,
     "metadata": {},
     "output_type": "execute_result"
    }
   ],
   "source": [
    "def customer_survival_rate(df: pd.DataFrame, end_id_month: int) -> float:\n",
    "    \"\"\"Расчет процента выживаемости клиентов\"\"\"\n",
    "    start_clients = df.iloc[:, end_id_month - 1]\n",
    "    start_clients = start_clients[start_clients == 1]\n",
    "\n",
    "    left_clients = df.iloc[start_clients.index, end_id_month]\n",
    "    left_clients = left_clients[left_clients == 0]\n",
    "\n",
    "    df_copy = df.copy()\n",
    "    df_copy = df_copy.drop(start_clients.index, axis=0)\n",
    "    new_clients = df_copy.iloc[:, end_id_month]\n",
    "    new_clients = new_clients[new_clients == 1]\n",
    "\n",
    "    end_clients = start_clients.shape[0] - left_clients.shape[0] + new_clients.shape[0]\n",
    "    value = ((end_clients - new_clients.shape[0]) / start_clients.shape[0]) * 100\n",
    "    return value\n",
    "\n",
    "\n",
    "customer_survival_rate(df_acquiring, 2)"
   ]
  },
  {
   "cell_type": "markdown",
   "id": "0b1370e6-38cf-4077-804b-8b8f9eab2f3b",
   "metadata": {},
   "source": [
    "# Feature Engineering"
   ]
  },
  {
   "cell_type": "code",
   "execution_count": 8,
   "id": "b088235a-9b6b-42f8-b43b-06c3b6a40ebe",
   "metadata": {},
   "outputs": [],
   "source": [
    "import pickle\n",
    "\n",
    "\n",
    "def save_model(model: Prophet, filename: str) -> None:\n",
    "    \"\"\"Сохранение модели.\"\"\"\n",
    "    with open(filename, 'wb') as f:\n",
    "        pickle.dump(model, f)"
   ]
  },
  {
   "cell_type": "markdown",
   "id": "3b1fcf0f-b299-402c-8810-0c7bd7db154b",
   "metadata": {},
   "source": [
    "### Создание 3 таргетов"
   ]
  },
  {
   "cell_type": "code",
   "execution_count": 9,
   "id": "980ad83b-bb58-47d1-94a8-3824ae2adcb5",
   "metadata": {},
   "outputs": [],
   "source": [
    "series_cols = df_acquiring.columns[df_acquiring.columns.str.contains(\"клиент\")==False].values\n",
    "level_cols = df_acquiring.columns[df_acquiring.columns.str.contains(\"клиент\")].values"
   ]
  },
  {
   "cell_type": "code",
   "execution_count": 10,
   "id": "59e5c07b-6d01-493b-b974-29f7a4a84bbd",
   "metadata": {},
   "outputs": [
    {
     "data": {
      "text/plain": [
       "23"
      ]
     },
     "execution_count": 10,
     "metadata": {},
     "output_type": "execute_result"
    }
   ],
   "source": [
    "lst_customer_churn_share = [customer_churn_share(df_acquiring, i) for i in range(2, len(series_cols) + 1)]\n",
    "len(lst_customer_churn_share)"
   ]
  },
  {
   "cell_type": "code",
   "execution_count": 11,
   "id": "42465a21-5cf1-4753-a9b6-147676fa64a5",
   "metadata": {},
   "outputs": [
    {
     "data": {
      "text/plain": [
       "23"
      ]
     },
     "execution_count": 11,
     "metadata": {},
     "output_type": "execute_result"
    }
   ],
   "source": [
    "lst_customer_survival_rate = [customer_survival_rate(df_acquiring, i) for i in range(2, len(series_cols) + 1)]\n",
    "len(lst_customer_survival_rate)"
   ]
  },
  {
   "cell_type": "code",
   "execution_count": 17,
   "id": "82bb584a-0689-4789-a3e4-864ad9d85d31",
   "metadata": {},
   "outputs": [
    {
     "data": {
      "text/html": [
       "<div>\n",
       "<style scoped>\n",
       "    .dataframe tbody tr th:only-of-type {\n",
       "        vertical-align: middle;\n",
       "    }\n",
       "\n",
       "    .dataframe tbody tr th {\n",
       "        vertical-align: top;\n",
       "    }\n",
       "\n",
       "    .dataframe thead th {\n",
       "        text-align: right;\n",
       "    }\n",
       "</style>\n",
       "<table border=\"1\" class=\"dataframe\">\n",
       "  <thead>\n",
       "    <tr style=\"text-align: right;\">\n",
       "      <th></th>\n",
       "      <th>ds</th>\n",
       "      <th>cr</th>\n",
       "      <th>pr</th>\n",
       "    </tr>\n",
       "  </thead>\n",
       "  <tbody>\n",
       "    <tr>\n",
       "      <th>0</th>\n",
       "      <td>2021-10-31</td>\n",
       "      <td>2.221678</td>\n",
       "      <td>96.774194</td>\n",
       "    </tr>\n",
       "    <tr>\n",
       "      <th>1</th>\n",
       "      <td>2021-11-30</td>\n",
       "      <td>1.104972</td>\n",
       "      <td>98.895028</td>\n",
       "    </tr>\n",
       "    <tr>\n",
       "      <th>2</th>\n",
       "      <td>2021-12-31</td>\n",
       "      <td>1.104972</td>\n",
       "      <td>98.895028</td>\n",
       "    </tr>\n",
       "    <tr>\n",
       "      <th>3</th>\n",
       "      <td>2022-01-31</td>\n",
       "      <td>1.648352</td>\n",
       "      <td>98.351648</td>\n",
       "    </tr>\n",
       "    <tr>\n",
       "      <th>4</th>\n",
       "      <td>2022-02-28</td>\n",
       "      <td>1.111111</td>\n",
       "      <td>98.888889</td>\n",
       "    </tr>\n",
       "  </tbody>\n",
       "</table>\n",
       "</div>"
      ],
      "text/plain": [
       "          ds        cr         pr\n",
       "0 2021-10-31  2.221678  96.774194\n",
       "1 2021-11-30  1.104972  98.895028\n",
       "2 2021-12-31  1.104972  98.895028\n",
       "3 2022-01-31  1.648352  98.351648\n",
       "4 2022-02-28  1.111111  98.888889"
      ]
     },
     "execution_count": 17,
     "metadata": {},
     "output_type": "execute_result"
    }
   ],
   "source": [
    "df_cr_pr = pd.DataFrame(series_cols[1:], columns=[\"ds\"])\n",
    "df_cr_pr['ds'] = pd.to_datetime(df['ds'], format='%Y-%m-%d')\n",
    "df_cr_pr.loc[:, \"cr\"] = lst_customer_churn_share\n",
    "df_cr_pr.loc[:, \"pr\"] = lst_customer_survival_rate\n",
    "\n",
    "df_cr_pr.loc[df_cr_pr.cr > 3, 'cr'] = df_cr_pr.cr.mean()\n",
    "df_cr_pr.loc[df_cr_pr.pr < 88, 'pr'] = df_cr_pr.pr.mean()\n",
    "df_cr_pr.head()"
   ]
  },
  {
   "cell_type": "markdown",
   "id": "6054ca2c-e312-4611-a306-38fb35826176",
   "metadata": {},
   "source": [
    "# Модели"
   ]
  },
  {
   "cell_type": "code",
   "execution_count": 26,
   "id": "ce13dee0-fe7f-4e39-a852-5a1c22d4ede0",
   "metadata": {},
   "outputs": [],
   "source": [
    "from sklearn.metrics import mean_squared_error, mean_absolute_error, r2_score\n",
    "\n",
    "\n",
    "def metrics(y_true, y_pred):\n",
    "\n",
    "    rmse = mean_squared_error(y_true, y_pred, squared=False)\n",
    "    print(f'{rmse = }')\n",
    "\n",
    "    mae = mean_absolute_error(y_true, y_pred)\n",
    "    print(f'{mae = }')\n",
    "\n",
    "    r2 = r2_score(y_true, y_pred)\n",
    "    print(f'{r2 = }')"
   ]
  },
  {
   "cell_type": "code",
   "execution_count": 50,
   "id": "1edecf58-a0c3-4378-9407-967056ab4e7b",
   "metadata": {},
   "outputs": [],
   "source": [
    "# Про prophet:\n",
    "# https://www.kaggle.com/code/prashant111/tutorial-time-series-forecasting-with-prophet"
   ]
  },
  {
   "cell_type": "code",
   "execution_count": 51,
   "id": "65e6b22f-b052-47dd-8adc-0f298201a13e",
   "metadata": {},
   "outputs": [],
   "source": [
    "# Много моделей prophet с features:\n",
    "# https://forecastegy.com/posts/multiple-time-series-forecasting-with-prophet-in-python/"
   ]
  },
  {
   "cell_type": "code",
   "execution_count": 13,
   "id": "0b5a57a7-dff4-4a3c-bdc1-20f9bba7e027",
   "metadata": {},
   "outputs": [],
   "source": [
    "TRAIN_END = -7"
   ]
  },
  {
   "cell_type": "code",
   "execution_count": 31,
   "id": "a08fe149-3c71-4277-bdcb-0cccdb351d6a",
   "metadata": {},
   "outputs": [
    {
     "data": {
      "text/plain": [
       "23"
      ]
     },
     "execution_count": 31,
     "metadata": {},
     "output_type": "execute_result"
    }
   ],
   "source": [
    "timeseries = df_cr_pr.cr\n",
    "# timeseries = df_cr_pr.pr\n",
    "# timeseries = df_acquiring[series_cols].sum().values\n",
    "\n",
    "len(timeseries)"
   ]
  },
  {
   "cell_type": "code",
   "execution_count": 32,
   "id": "e0e6799c-9179-4527-a54b-98b7fefb5b08",
   "metadata": {},
   "outputs": [
    {
     "name": "stdout",
     "output_type": "stream",
     "text": [
      "16 7\n"
     ]
    },
    {
     "data": {
      "text/plain": [
       "23"
      ]
     },
     "execution_count": 32,
     "metadata": {},
     "output_type": "execute_result"
    }
   ],
   "source": [
    "train_timeseries = timeseries[0:TRAIN_END]\n",
    "eval_timeseries = timeseries[TRAIN_END::]\n",
    "print(len(train_timeseries), len(eval_timeseries))\n",
    "\n",
    "days = np.arange(1, len(train_timeseries) + len(eval_timeseries) + 1)\n",
    "len(days)"
   ]
  },
  {
   "cell_type": "code",
   "execution_count": 33,
   "id": "5ad0f34a-1060-47ef-aefd-0c0c7b75f162",
   "metadata": {},
   "outputs": [
    {
     "name": "stdout",
     "output_type": "stream",
     "text": [
      "(23, 4)\n"
     ]
    },
    {
     "data": {
      "text/html": [
       "<div>\n",
       "<style scoped>\n",
       "    .dataframe tbody tr th:only-of-type {\n",
       "        vertical-align: middle;\n",
       "    }\n",
       "\n",
       "    .dataframe tbody tr th {\n",
       "        vertical-align: top;\n",
       "    }\n",
       "\n",
       "    .dataframe thead th {\n",
       "        text-align: right;\n",
       "    }\n",
       "</style>\n",
       "<table border=\"1\" class=\"dataframe\">\n",
       "  <thead>\n",
       "    <tr style=\"text-align: right;\">\n",
       "      <th></th>\n",
       "      <th>ds</th>\n",
       "      <th>y</th>\n",
       "      <th>cap</th>\n",
       "      <th>floor</th>\n",
       "    </tr>\n",
       "  </thead>\n",
       "  <tbody>\n",
       "    <tr>\n",
       "      <th>18</th>\n",
       "      <td>2023-05-31</td>\n",
       "      <td>1.136179</td>\n",
       "      <td>100</td>\n",
       "      <td>0</td>\n",
       "    </tr>\n",
       "    <tr>\n",
       "      <th>19</th>\n",
       "      <td>2023-06-30</td>\n",
       "      <td>0.684053</td>\n",
       "      <td>100</td>\n",
       "      <td>0</td>\n",
       "    </tr>\n",
       "    <tr>\n",
       "      <th>20</th>\n",
       "      <td>2023-07-31</td>\n",
       "      <td>0.534896</td>\n",
       "      <td>100</td>\n",
       "      <td>0</td>\n",
       "    </tr>\n",
       "    <tr>\n",
       "      <th>21</th>\n",
       "      <td>2023-08-31</td>\n",
       "      <td>1.107670</td>\n",
       "      <td>100</td>\n",
       "      <td>0</td>\n",
       "    </tr>\n",
       "    <tr>\n",
       "      <th>22</th>\n",
       "      <td>2023-09-30</td>\n",
       "      <td>1.268946</td>\n",
       "      <td>100</td>\n",
       "      <td>0</td>\n",
       "    </tr>\n",
       "  </tbody>\n",
       "</table>\n",
       "</div>"
      ],
      "text/plain": [
       "           ds         y  cap  floor\n",
       "18 2023-05-31  1.136179  100      0\n",
       "19 2023-06-30  0.684053  100      0\n",
       "20 2023-07-31  0.534896  100      0\n",
       "21 2023-08-31  1.107670  100      0\n",
       "22 2023-09-30  1.268946  100      0"
      ]
     },
     "execution_count": 33,
     "metadata": {},
     "output_type": "execute_result"
    }
   ],
   "source": [
    "df = pd.DataFrame(series_cols[len(series_cols) - len(days):], columns=[\"ds\"])\n",
    "df['ds'] = pd.to_datetime(df['ds'], format='%Y-%m-%d')\n",
    "df.loc[:, \"y\"] = timeseries\n",
    "\n",
    "# df.loc[:, \"cap\"] = df.y.max()\n",
    "# df.loc[:, \"floor\"] = df.y.min()\n",
    "df.loc[:, \"cap\"] = 100\n",
    "df.loc[:, \"floor\"] = 0\n",
    "\n",
    "print(df.shape)\n",
    "df.tail()"
   ]
  },
  {
   "cell_type": "code",
   "execution_count": 34,
   "id": "b359284d-5ee9-410b-a514-6ac65749abea",
   "metadata": {},
   "outputs": [],
   "source": [
    "# df[['ds', 'y']].to_csv('data_cr_eq.csv', index=False)"
   ]
  },
  {
   "cell_type": "code",
   "execution_count": 35,
   "id": "2e200815-db59-42a7-985f-7b2bf6274f8d",
   "metadata": {},
   "outputs": [
    {
     "data": {
      "image/png": "[encoded data removed]",
      "text/plain": [
       "<Figure size 1800x400 with 1 Axes>"
      ]
     },
     "metadata": {},
     "output_type": "display_data"
    }
   ],
   "source": [
    "plt.figure(figsize=(18, 4))\n",
    "plt.plot(days[0:TRAIN_END], train_timeseries, label=\"train\")\n",
    "plt.plot(days[TRAIN_END::], eval_timeseries, label=\"validation\")\n",
    "plt.title(\"Top-Level-1: Summed product sales of all stores and states\");\n",
    "plt.legend()\n",
    "plt.xlabel(\"Day\")\n",
    "plt.ylabel(\"Unit sales\");"
   ]
  },
  {
   "cell_type": "code",
   "execution_count": 36,
   "id": "01bb5557-982d-43e8-95dd-13383c643966",
   "metadata": {},
   "outputs": [
    {
     "name": "stdout",
     "output_type": "stream",
     "text": [
      "(16, 4)\n",
      "(7, 4)\n"
     ]
    }
   ],
   "source": [
    "train_df = df.iloc[0:TRAIN_END]\n",
    "print(train_df.shape)\n",
    "\n",
    "eval_df = df.iloc[TRAIN_END::]\n",
    "print(eval_df.shape)"
   ]
  },
  {
   "cell_type": "code",
   "execution_count": 38,
   "id": "35cb1688-cf35-4793-a4b4-35deb1607092",
   "metadata": {},
   "outputs": [
    {
     "name": "stderr",
     "output_type": "stream",
     "text": [
      "[I 2023-11-19 17:24:18,372] A new study created in memory with name: no-name-4f2f3c17-597d-4054-9450-3cdaa1fe1297\n",
      "17:24:18 - cmdstanpy - INFO - Chain [1] start processing\n",
      "17:24:18 - cmdstanpy - INFO - Chain [1] done processing\n",
      "[I 2023-11-19 17:24:18,972] Trial 0 finished with value: 1.2589259061811031 and parameters: {'changepoint_prior_scale': 2.7297786854184016, 'seasonality_prior_scale': 11, 'growth': 'linear', 'seasonality_mode': 'additive', 'interval_width': 0.8561633560987947}. Best is trial 0 with value: 1.2589259061811031.\n"
     ]
    },
    {
     "name": "stdout",
     "output_type": "stream",
     "text": [
      "rmse = 1.2589259061811031\n",
      "mae = 1.1001263894663216\n",
      "r2 = -6.044526626102295\n"
     ]
    },
    {
     "name": "stderr",
     "output_type": "stream",
     "text": [
      "17:24:19 - cmdstanpy - INFO - Chain [1] start processing\n",
      "17:24:19 - cmdstanpy - INFO - Chain [1] done processing\n",
      "[I 2023-11-19 17:24:19,946] Trial 1 finished with value: 0.6259553200090995 and parameters: {'changepoint_prior_scale': 2.8718121840985127, 'seasonality_prior_scale': 4, 'growth': 'logistic', 'seasonality_mode': 'additive', 'interval_width': 0.9136317550386253}. Best is trial 1 with value: 0.6259553200090995.\n"
     ]
    },
    {
     "name": "stdout",
     "output_type": "stream",
     "text": [
      "rmse = 0.6259553200090995\n",
      "mae = 0.5336435793680193\n",
      "r2 = -16.49426894684001\n"
     ]
    },
    {
     "name": "stderr",
     "output_type": "stream",
     "text": [
      "17:24:20 - cmdstanpy - INFO - Chain [1] start processing\n",
      "17:24:20 - cmdstanpy - INFO - Chain [1] done processing\n",
      "[I 2023-11-19 17:24:20,542] Trial 2 finished with value: 1.2606072863231346 and parameters: {'changepoint_prior_scale': 2.9222239164901587, 'seasonality_prior_scale': 11, 'growth': 'linear', 'seasonality_mode': 'additive', 'interval_width': 0.9139252972378653}. Best is trial 1 with value: 0.6259553200090995.\n"
     ]
    },
    {
     "name": "stdout",
     "output_type": "stream",
     "text": [
      "rmse = 1.2606072863231346\n",
      "mae = 1.101866775805367\n",
      "r2 = -6.052765301596543\n"
     ]
    },
    {
     "name": "stderr",
     "output_type": "stream",
     "text": [
      "17:24:20 - cmdstanpy - INFO - Chain [1] start processing\n",
      "17:24:21 - cmdstanpy - INFO - Chain [1] done processing\n",
      "[I 2023-11-19 17:24:21,108] Trial 3 finished with value: 0.43109077435084336 and parameters: {'changepoint_prior_scale': 0.23917670688938988, 'seasonality_prior_scale': 11, 'growth': 'linear', 'seasonality_mode': 'additive', 'interval_width': 0.9078584643490583}. Best is trial 3 with value: 0.43109077435084336.\n"
     ]
    },
    {
     "name": "stdout",
     "output_type": "stream",
     "text": [
      "rmse = 0.43109077435084336\n",
      "mae = 0.36275938585611606\n",
      "r2 = -55.737054843000394\n"
     ]
    },
    {
     "name": "stderr",
     "output_type": "stream",
     "text": [
      "17:24:21 - cmdstanpy - INFO - Chain [1] start processing\n",
      "17:24:21 - cmdstanpy - INFO - Chain [1] done processing\n",
      "[I 2023-11-19 17:24:21,676] Trial 4 finished with value: 0.6410365074431548 and parameters: {'changepoint_prior_scale': 0.4651361012438984, 'seasonality_prior_scale': 6, 'growth': 'linear', 'seasonality_mode': 'multiplicative', 'interval_width': 0.8631162121729746}. Best is trial 3 with value: 0.43109077435084336.\n"
     ]
    },
    {
     "name": "stdout",
     "output_type": "stream",
     "text": [
      "rmse = 0.6410365074431548\n",
      "mae = 0.49546445493690994\n",
      "r2 = -4.110073945215263\n"
     ]
    },
    {
     "name": "stderr",
     "output_type": "stream",
     "text": [
      "17:24:22 - cmdstanpy - INFO - Chain [1] start processing\n",
      "17:24:22 - cmdstanpy - INFO - Chain [1] done processing\n",
      "[I 2023-11-19 17:24:22,337] Trial 5 finished with value: 1.2309737174592783 and parameters: {'changepoint_prior_scale': 2.0513984295446814, 'seasonality_prior_scale': 18, 'growth': 'linear', 'seasonality_mode': 'multiplicative', 'interval_width': 0.911726802894014}. Best is trial 3 with value: 0.43109077435084336.\n"
     ]
    },
    {
     "name": "stdout",
     "output_type": "stream",
     "text": [
      "rmse = 1.2309737174592783\n",
      "mae = 1.072385016970275\n",
      "r2 = -5.976769817482522\n"
     ]
    },
    {
     "name": "stderr",
     "output_type": "stream",
     "text": [
      "17:24:22 - cmdstanpy - INFO - Chain [1] start processing\n",
      "17:24:22 - cmdstanpy - INFO - Chain [1] done processing\n",
      "[I 2023-11-19 17:24:22,926] Trial 6 finished with value: 0.30590672060490715 and parameters: {'changepoint_prior_scale': 0.24350761687482567, 'seasonality_prior_scale': 8, 'growth': 'logistic', 'seasonality_mode': 'multiplicative', 'interval_width': 0.8402232108508481}. Best is trial 6 with value: 0.30590672060490715.\n"
     ]
    },
    {
     "name": "stdout",
     "output_type": "stream",
     "text": [
      "rmse = 0.30590672060490715\n",
      "mae = 0.2768343824830249\n",
      "r2 = -16.683450383251383\n"
     ]
    },
    {
     "name": "stderr",
     "output_type": "stream",
     "text": [
      "17:24:23 - cmdstanpy - INFO - Chain [1] start processing\n",
      "17:24:23 - cmdstanpy - INFO - Chain [1] done processing\n",
      "[I 2023-11-19 17:24:23,815] Trial 7 finished with value: 0.6006348634413972 and parameters: {'changepoint_prior_scale': 1.9225754625091267, 'seasonality_prior_scale': 10, 'growth': 'logistic', 'seasonality_mode': 'additive', 'interval_width': 0.7963366033757548}. Best is trial 6 with value: 0.30590672060490715.\n"
     ]
    },
    {
     "name": "stdout",
     "output_type": "stream",
     "text": [
      "rmse = 0.6006348634413972\n",
      "mae = 0.5021167112483018\n",
      "r2 = -14.491821621810756\n"
     ]
    },
    {
     "name": "stderr",
     "output_type": "stream",
     "text": [
      "17:24:24 - cmdstanpy - INFO - Chain [1] start processing\n",
      "17:24:24 - cmdstanpy - INFO - Chain [1] done processing\n",
      "[I 2023-11-19 17:24:24,592] Trial 8 finished with value: 0.5233768728040433 and parameters: {'changepoint_prior_scale': 1.046592587682533, 'seasonality_prior_scale': 20, 'growth': 'logistic', 'seasonality_mode': 'additive', 'interval_width': 0.9213986905153599}. Best is trial 6 with value: 0.30590672060490715.\n"
     ]
    },
    {
     "name": "stdout",
     "output_type": "stream",
     "text": [
      "rmse = 0.5233768728040433\n",
      "mae = 0.4054991505215716\n",
      "r2 = -10.118714292410036\n"
     ]
    },
    {
     "name": "stderr",
     "output_type": "stream",
     "text": [
      "17:24:24 - cmdstanpy - INFO - Chain [1] start processing\n",
      "17:24:25 - cmdstanpy - INFO - Chain [1] done processing\n",
      "[I 2023-11-19 17:24:25,167] Trial 9 finished with value: 1.2337108701856856 and parameters: {'changepoint_prior_scale': 2.0889041014005545, 'seasonality_prior_scale': 20, 'growth': 'linear', 'seasonality_mode': 'additive', 'interval_width': 0.9296318493224051}. Best is trial 6 with value: 0.30590672060490715.\n"
     ]
    },
    {
     "name": "stdout",
     "output_type": "stream",
     "text": [
      "rmse = 1.2337108701856856\n",
      "mae = 1.0750905318130612\n",
      "r2 = -5.982730284220827\n"
     ]
    },
    {
     "name": "stderr",
     "output_type": "stream",
     "text": [
      "17:24:25 - cmdstanpy - INFO - Chain [1] start processing\n",
      "17:24:25 - cmdstanpy - INFO - Chain [1] done processing\n",
      "[I 2023-11-19 17:24:25,817] Trial 10 finished with value: 0.304079081209444 and parameters: {'changepoint_prior_scale': 0.03875333407852488, 'seasonality_prior_scale': 1, 'growth': 'logistic', 'seasonality_mode': 'multiplicative', 'interval_width': 0.7775286576927587}. Best is trial 10 with value: 0.304079081209444.\n"
     ]
    },
    {
     "name": "stdout",
     "output_type": "stream",
     "text": [
      "rmse = 0.304079081209444\n",
      "mae = 0.276358592000546\n",
      "r2 = -16.181867125842118\n"
     ]
    },
    {
     "name": "stderr",
     "output_type": "stream",
     "text": [
      "17:24:26 - cmdstanpy - INFO - Chain [1] start processing\n",
      "17:24:26 - cmdstanpy - INFO - Chain [1] done processing\n",
      "[I 2023-11-19 17:24:26,440] Trial 11 finished with value: 0.30352561896084 and parameters: {'changepoint_prior_scale': 0.08588002807319059, 'seasonality_prior_scale': 1, 'growth': 'logistic', 'seasonality_mode': 'multiplicative', 'interval_width': 0.7529104198847117}. Best is trial 11 with value: 0.30352561896084.\n"
     ]
    },
    {
     "name": "stdout",
     "output_type": "stream",
     "text": [
      "rmse = 0.30352561896084\n",
      "mae = 0.276220504127687\n",
      "r2 = -16.015085531880118\n"
     ]
    },
    {
     "name": "stderr",
     "output_type": "stream",
     "text": [
      "17:24:26 - cmdstanpy - INFO - Chain [1] start processing\n",
      "17:24:27 - cmdstanpy - INFO - Chain [1] done processing\n",
      "[I 2023-11-19 17:24:27,194] Trial 12 finished with value: 0.4230906017146384 and parameters: {'changepoint_prior_scale': 0.7816826101541412, 'seasonality_prior_scale': 1, 'growth': 'logistic', 'seasonality_mode': 'multiplicative', 'interval_width': 0.7534419284687979}. Best is trial 11 with value: 0.30352561896084.\n"
     ]
    },
    {
     "name": "stdout",
     "output_type": "stream",
     "text": [
      "rmse = 0.4230906017146384\n",
      "mae = 0.30956655265223343\n",
      "r2 = -6.730791799610283\n"
     ]
    },
    {
     "name": "stderr",
     "output_type": "stream",
     "text": [
      "17:24:27 - cmdstanpy - INFO - Chain [1] start processing\n",
      "17:24:27 - cmdstanpy - INFO - Chain [1] done processing\n",
      "[I 2023-11-19 17:24:27,852] Trial 13 finished with value: 0.2924716700731696 and parameters: {'changepoint_prior_scale': 0.003138517327243587, 'seasonality_prior_scale': 1, 'growth': 'logistic', 'seasonality_mode': 'multiplicative', 'interval_width': 0.7515751193836044}. Best is trial 13 with value: 0.2924716700731696.\n"
     ]
    },
    {
     "name": "stdout",
     "output_type": "stream",
     "text": [
      "rmse = 0.2924716700731696\n",
      "mae = 0.2721807238126703\n",
      "r2 = -12.821450719662165\n"
     ]
    },
    {
     "name": "stderr",
     "output_type": "stream",
     "text": [
      "17:24:28 - cmdstanpy - INFO - Chain [1] start processing\n",
      "17:24:28 - cmdstanpy - INFO - Chain [1] done processing\n",
      "[I 2023-11-19 17:24:28,536] Trial 14 finished with value: 0.30277824025800104 and parameters: {'changepoint_prior_scale': 0.027050403329384118, 'seasonality_prior_scale': 4, 'growth': 'logistic', 'seasonality_mode': 'multiplicative', 'interval_width': 0.7531368203959922}. Best is trial 13 with value: 0.2924716700731696.\n"
     ]
    },
    {
     "name": "stdout",
     "output_type": "stream",
     "text": [
      "rmse = 0.30277824025800104\n",
      "mae = 0.276012671025384\n",
      "r2 = -15.811912793669144\n"
     ]
    },
    {
     "name": "stderr",
     "output_type": "stream",
     "text": [
      "17:24:28 - cmdstanpy - INFO - Chain [1] start processing\n",
      "17:24:29 - cmdstanpy - INFO - Chain [1] done processing\n",
      "[I 2023-11-19 17:24:29,295] Trial 15 finished with value: 0.4804190062694116 and parameters: {'changepoint_prior_scale': 0.8727591098702645, 'seasonality_prior_scale': 4, 'growth': 'logistic', 'seasonality_mode': 'multiplicative', 'interval_width': 0.7893859433402483}. Best is trial 13 with value: 0.2924716700731696.\n"
     ]
    },
    {
     "name": "stdout",
     "output_type": "stream",
     "text": [
      "rmse = 0.4804190062694116\n",
      "mae = 0.3631040528125023\n",
      "r2 = -8.432062142700442\n"
     ]
    },
    {
     "name": "stderr",
     "output_type": "stream",
     "text": [
      "17:24:29 - cmdstanpy - INFO - Chain [1] start processing\n",
      "17:24:29 - cmdstanpy - INFO - Chain [1] done processing\n",
      "[I 2023-11-19 17:24:29,946] Trial 16 finished with value: 0.3806832352692858 and parameters: {'changepoint_prior_scale': 0.4527474401898624, 'seasonality_prior_scale': 15, 'growth': 'logistic', 'seasonality_mode': 'multiplicative', 'interval_width': 0.8026234505102603}. Best is trial 13 with value: 0.2924716700731696.\n"
     ]
    },
    {
     "name": "stdout",
     "output_type": "stream",
     "text": [
      "rmse = 0.3806832352692858\n",
      "mae = 0.31355574562058575\n",
      "r2 = -41.993777005013236\n"
     ]
    },
    {
     "name": "stderr",
     "output_type": "stream",
     "text": [
      "17:24:30 - cmdstanpy - INFO - Chain [1] start processing\n",
      "17:24:30 - cmdstanpy - INFO - Chain [1] done processing\n",
      "[I 2023-11-19 17:24:30,850] Trial 17 finished with value: 0.5422970433639132 and parameters: {'changepoint_prior_scale': 1.16144514387028, 'seasonality_prior_scale': 4, 'growth': 'logistic', 'seasonality_mode': 'multiplicative', 'interval_width': 0.7515637952402118}. Best is trial 13 with value: 0.2924716700731696.\n"
     ]
    },
    {
     "name": "stdout",
     "output_type": "stream",
     "text": [
      "rmse = 0.5422970433639132\n",
      "mae = 0.4278558449471809\n",
      "r2 = -11.003134274592272\n"
     ]
    },
    {
     "name": "stderr",
     "output_type": "stream",
     "text": [
      "17:24:31 - cmdstanpy - INFO - Chain [1] start processing\n",
      "17:24:31 - cmdstanpy - INFO - Chain [1] done processing\n",
      "[I 2023-11-19 17:24:31,685] Trial 18 finished with value: 0.37459640676224687 and parameters: {'changepoint_prior_scale': 0.42737395839150755, 'seasonality_prior_scale': 7, 'growth': 'logistic', 'seasonality_mode': 'multiplicative', 'interval_width': 0.7714584473938364}. Best is trial 13 with value: 0.2924716700731696.\n"
     ]
    },
    {
     "name": "stdout",
     "output_type": "stream",
     "text": [
      "rmse = 0.37459640676224687\n",
      "mae = 0.30721595753120173\n",
      "r2 = -39.144724569200875\n"
     ]
    },
    {
     "name": "stderr",
     "output_type": "stream",
     "text": [
      "17:24:32 - cmdstanpy - INFO - Chain [1] start processing\n",
      "17:24:32 - cmdstanpy - INFO - Chain [1] done processing\n",
      "[I 2023-11-19 17:24:32,533] Trial 19 finished with value: 0.3979413297876734 and parameters: {'changepoint_prior_scale': 0.5440796800803598, 'seasonality_prior_scale': 4, 'growth': 'logistic', 'seasonality_mode': 'multiplicative', 'interval_width': 0.8203677876847683}. Best is trial 13 with value: 0.2924716700731696.\n"
     ]
    },
    {
     "name": "stdout",
     "output_type": "stream",
     "text": [
      "rmse = 0.3979413297876734\n",
      "mae = 0.3308068119781886\n",
      "r2 = -51.259166315775296\n"
     ]
    },
    {
     "name": "stderr",
     "output_type": "stream",
     "text": [
      "17:24:32 - cmdstanpy - INFO - Chain [1] start processing\n",
      "17:24:33 - cmdstanpy - INFO - Chain [1] done processing\n",
      "[I 2023-11-19 17:24:33,386] Trial 20 finished with value: 0.5704610543306148 and parameters: {'changepoint_prior_scale': 1.4142641827007976, 'seasonality_prior_scale': 15, 'growth': 'logistic', 'seasonality_mode': 'multiplicative', 'interval_width': 0.7740657847655311}. Best is trial 13 with value: 0.2924716700731696.\n"
     ]
    },
    {
     "name": "stdout",
     "output_type": "stream",
     "text": [
      "rmse = 0.5704610543306148\n",
      "mae = 0.46402458018875326\n",
      "r2 = -12.521844217762805\n"
     ]
    },
    {
     "name": "stderr",
     "output_type": "stream",
     "text": [
      "17:24:33 - cmdstanpy - INFO - Chain [1] start processing\n",
      "17:24:33 - cmdstanpy - INFO - Chain [1] done processing\n",
      "[I 2023-11-19 17:24:33,938] Trial 21 finished with value: 0.30417872293245335 and parameters: {'changepoint_prior_scale': 0.08783549534317958, 'seasonality_prior_scale': 1, 'growth': 'logistic', 'seasonality_mode': 'multiplicative', 'interval_width': 0.7524491649570629}. Best is trial 13 with value: 0.2924716700731696.\n"
     ]
    },
    {
     "name": "stdout",
     "output_type": "stream",
     "text": [
      "rmse = 0.30417872293245335\n",
      "mae = 0.2763866594451583\n",
      "r2 = -16.20731862505423\n"
     ]
    },
    {
     "name": "stderr",
     "output_type": "stream",
     "text": [
      "17:24:34 - cmdstanpy - INFO - Chain [1] start processing\n",
      "17:24:34 - cmdstanpy - INFO - Chain [1] done processing\n",
      "[I 2023-11-19 17:24:34,499] Trial 22 finished with value: 0.3013141009777067 and parameters: {'changepoint_prior_scale': 0.029296007162069003, 'seasonality_prior_scale': 2, 'growth': 'logistic', 'seasonality_mode': 'multiplicative', 'interval_width': 0.766882340248781}. Best is trial 13 with value: 0.2924716700731696.\n"
     ]
    },
    {
     "name": "stdout",
     "output_type": "stream",
     "text": [
      "rmse = 0.3013141009777067\n",
      "mae = 0.27557142234147963\n",
      "r2 = -15.436125070936598\n"
     ]
    },
    {
     "name": "stderr",
     "output_type": "stream",
     "text": [
      "17:24:34 - cmdstanpy - INFO - Chain [1] start processing\n",
      "17:24:34 - cmdstanpy - INFO - Chain [1] done processing\n",
      "[I 2023-11-19 17:24:35,032] Trial 23 finished with value: 0.3002684067227852 and parameters: {'changepoint_prior_scale': 0.02031112792756571, 'seasonality_prior_scale': 3, 'growth': 'logistic', 'seasonality_mode': 'multiplicative', 'interval_width': 0.7688432291557697}. Best is trial 13 with value: 0.2924716700731696.\n"
     ]
    },
    {
     "name": "stdout",
     "output_type": "stream",
     "text": [
      "rmse = 0.3002684067227852\n",
      "mae = 0.2752545839104754\n",
      "r2 = -15.148846413879863\n"
     ]
    },
    {
     "name": "stderr",
     "output_type": "stream",
     "text": [
      "17:24:35 - cmdstanpy - INFO - Chain [1] start processing\n",
      "17:24:35 - cmdstanpy - INFO - Chain [1] done processing\n",
      "[I 2023-11-19 17:24:35,638] Trial 24 finished with value: 0.34319051477078105 and parameters: {'changepoint_prior_scale': 0.6495886715863004, 'seasonality_prior_scale': 3, 'growth': 'logistic', 'seasonality_mode': 'multiplicative', 'interval_width': 0.7768001877238782}. Best is trial 13 with value: 0.2924716700731696.\n"
     ]
    },
    {
     "name": "stdout",
     "output_type": "stream",
     "text": [
      "rmse = 0.34319051477078105\n",
      "mae = 0.2787435026025077\n",
      "r2 = -5.270253415809936\n"
     ]
    },
    {
     "name": "stderr",
     "output_type": "stream",
     "text": [
      "17:24:35 - cmdstanpy - INFO - Chain [1] start processing\n",
      "17:24:36 - cmdstanpy - INFO - Chain [1] done processing\n",
      "[I 2023-11-19 17:24:36,248] Trial 25 finished with value: 0.33595630439511265 and parameters: {'changepoint_prior_scale': 0.3052084407549522, 'seasonality_prior_scale': 6, 'growth': 'logistic', 'seasonality_mode': 'multiplicative', 'interval_width': 0.8079932050992817}. Best is trial 13 with value: 0.2924716700731696.\n"
     ]
    },
    {
     "name": "stdout",
     "output_type": "stream",
     "text": [
      "rmse = 0.33595630439511265\n",
      "mae = 0.2832277733140581\n",
      "r2 = -24.669178275419178\n"
     ]
    },
    {
     "name": "stderr",
     "output_type": "stream",
     "text": [
      "17:24:36 - cmdstanpy - INFO - Chain [1] start processing\n",
      "17:24:36 - cmdstanpy - INFO - Chain [1] done processing\n",
      "[I 2023-11-19 17:24:36,842] Trial 26 finished with value: 0.34819659643162937 and parameters: {'changepoint_prior_scale': 0.6228963686232827, 'seasonality_prior_scale': 2, 'growth': 'logistic', 'seasonality_mode': 'multiplicative', 'interval_width': 0.7881496716322205}. Best is trial 13 with value: 0.2924716700731696.\n"
     ]
    },
    {
     "name": "stdout",
     "output_type": "stream",
     "text": [
      "rmse = 0.34819659643162937\n",
      "mae = 0.2783542201176651\n",
      "r2 = -5.263841417326849\n"
     ]
    },
    {
     "name": "stderr",
     "output_type": "stream",
     "text": [
      "17:24:37 - cmdstanpy - INFO - Chain [1] start processing\n",
      "17:24:37 - cmdstanpy - INFO - Chain [1] done processing\n",
      "[I 2023-11-19 17:24:37,542] Trial 27 finished with value: 0.30438605987869977 and parameters: {'changepoint_prior_scale': 0.04022316435324124, 'seasonality_prior_scale': 9, 'growth': 'logistic', 'seasonality_mode': 'multiplicative', 'interval_width': 0.7698419587934971}. Best is trial 13 with value: 0.2924716700731696.\n"
     ]
    },
    {
     "name": "stdout",
     "output_type": "stream",
     "text": [
      "rmse = 0.30438605987869977\n",
      "mae = 0.2764510310967398\n",
      "r2 = -16.25209565996566\n"
     ]
    },
    {
     "name": "stderr",
     "output_type": "stream",
     "text": [
      "17:24:37 - cmdstanpy - INFO - Chain [1] start processing\n",
      "17:24:38 - cmdstanpy - INFO - Chain [1] done processing\n",
      "[I 2023-11-19 17:24:38,183] Trial 28 finished with value: 0.3424521711176165 and parameters: {'changepoint_prior_scale': 0.322507262934426, 'seasonality_prior_scale': 3, 'growth': 'logistic', 'seasonality_mode': 'multiplicative', 'interval_width': 0.8123821950969194}. Best is trial 13 with value: 0.2924716700731696.\n"
     ]
    },
    {
     "name": "stdout",
     "output_type": "stream",
     "text": [
      "rmse = 0.3424521711176165\n",
      "mae = 0.28708626621837813\n",
      "r2 = -26.74765601545135\n"
     ]
    },
    {
     "name": "stderr",
     "output_type": "stream",
     "text": [
      "17:24:38 - cmdstanpy - INFO - Chain [1] start processing\n",
      "17:24:38 - cmdstanpy - INFO - Chain [1] done processing\n",
      "[I 2023-11-19 17:24:39,048] Trial 29 finished with value: 0.8549868339902302 and parameters: {'changepoint_prior_scale': 0.7491058469815183, 'seasonality_prior_scale': 6, 'growth': 'linear', 'seasonality_mode': 'multiplicative', 'interval_width': 0.7920625941047233}. Best is trial 13 with value: 0.2924716700731696.\n"
     ]
    },
    {
     "name": "stdout",
     "output_type": "stream",
     "text": [
      "rmse = 0.8549868339902302\n",
      "mae = 0.6949763218120226\n",
      "r2 = -5.007250150942951\n"
     ]
    },
    {
     "name": "stderr",
     "output_type": "stream",
     "text": [
      "17:24:39 - cmdstanpy - INFO - Chain [1] start processing\n",
      "17:24:39 - cmdstanpy - INFO - Chain [1] done processing\n",
      "[I 2023-11-19 17:24:39,613] Trial 30 finished with value: 0.3134680229124907 and parameters: {'changepoint_prior_scale': 0.25559651878677764, 'seasonality_prior_scale': 13, 'growth': 'logistic', 'seasonality_mode': 'multiplicative', 'interval_width': 0.7672926863208548}. Best is trial 13 with value: 0.2924716700731696.\n"
     ]
    },
    {
     "name": "stdout",
     "output_type": "stream",
     "text": [
      "rmse = 0.3134680229124907\n",
      "mae = 0.27876095070674684\n",
      "r2 = -18.53736708743968\n"
     ]
    },
    {
     "name": "stderr",
     "output_type": "stream",
     "text": [
      "17:24:39 - cmdstanpy - INFO - Chain [1] start processing\n",
      "17:24:40 - cmdstanpy - INFO - Chain [1] done processing\n",
      "[I 2023-11-19 17:24:40,187] Trial 31 finished with value: 0.30525800683507126 and parameters: {'changepoint_prior_scale': 0.12290582837397063, 'seasonality_prior_scale': 3, 'growth': 'logistic', 'seasonality_mode': 'multiplicative', 'interval_width': 0.7639399033984928}. Best is trial 13 with value: 0.2924716700731696.\n"
     ]
    },
    {
     "name": "stdout",
     "output_type": "stream",
     "text": [
      "rmse = 0.30525800683507126\n",
      "mae = 0.276662324288018\n",
      "r2 = -16.513421040829215\n"
     ]
    },
    {
     "name": "stderr",
     "output_type": "stream",
     "text": [
      "17:24:40 - cmdstanpy - INFO - Chain [1] start processing\n",
      "17:24:40 - cmdstanpy - INFO - Chain [1] done processing\n",
      "[I 2023-11-19 17:24:40,759] Trial 32 finished with value: 0.3012619114552219 and parameters: {'changepoint_prior_scale': 0.028953283591253928, 'seasonality_prior_scale': 5, 'growth': 'logistic', 'seasonality_mode': 'multiplicative', 'interval_width': 0.7624846201082977}. Best is trial 13 with value: 0.2924716700731696.\n"
     ]
    },
    {
     "name": "stdout",
     "output_type": "stream",
     "text": [
      "rmse = 0.3012619114552219\n",
      "mae = 0.2755572253336136\n",
      "r2 = -15.420115886853797\n"
     ]
    },
    {
     "name": "stderr",
     "output_type": "stream",
     "text": [
      "17:24:41 - cmdstanpy - INFO - Chain [1] start processing\n",
      "17:24:41 - cmdstanpy - INFO - Chain [1] done processing\n",
      "[I 2023-11-19 17:24:41,386] Trial 33 finished with value: 0.3748698983186443 and parameters: {'changepoint_prior_scale': 0.431376356478958, 'seasonality_prior_scale': 5, 'growth': 'logistic', 'seasonality_mode': 'multiplicative', 'interval_width': 0.7628428087075904}. Best is trial 13 with value: 0.2924716700731696.\n"
     ]
    },
    {
     "name": "stdout",
     "output_type": "stream",
     "text": [
      "rmse = 0.3748698983186443\n",
      "mae = 0.3075041029774984\n",
      "r2 = -39.27887615342493\n"
     ]
    },
    {
     "name": "stderr",
     "output_type": "stream",
     "text": [
      "17:24:41 - cmdstanpy - INFO - Chain [1] start processing\n",
      "17:24:41 - cmdstanpy - INFO - Chain [1] done processing\n",
      "[I 2023-11-19 17:24:41,950] Trial 34 finished with value: 0.3056717624896542 and parameters: {'changepoint_prior_scale': 0.23092491139773158, 'seasonality_prior_scale': 2, 'growth': 'logistic', 'seasonality_mode': 'additive', 'interval_width': 0.7853763186040523}. Best is trial 13 with value: 0.2924716700731696.\n"
     ]
    },
    {
     "name": "stdout",
     "output_type": "stream",
     "text": [
      "rmse = 0.3056717624896542\n",
      "mae = 0.2768617564693687\n",
      "r2 = -16.504436413229712\n"
     ]
    },
    {
     "name": "stderr",
     "output_type": "stream",
     "text": [
      "17:24:42 - cmdstanpy - INFO - Chain [1] start processing\n",
      "17:24:42 - cmdstanpy - INFO - Chain [1] done processing\n",
      "[I 2023-11-19 17:24:42,467] Trial 35 finished with value: 0.46047156780176585 and parameters: {'changepoint_prior_scale': 0.0005072891050480837, 'seasonality_prior_scale': 2, 'growth': 'linear', 'seasonality_mode': 'multiplicative', 'interval_width': 0.7826632165328231}. Best is trial 13 with value: 0.2924716700731696.\n"
     ]
    },
    {
     "name": "stdout",
     "output_type": "stream",
     "text": [
      "rmse = 0.46047156780176585\n",
      "mae = 0.3880979872297229\n",
      "r2 = -89.88178323324082\n"
     ]
    },
    {
     "name": "stderr",
     "output_type": "stream",
     "text": [
      "17:24:42 - cmdstanpy - INFO - Chain [1] start processing\n",
      "17:24:42 - cmdstanpy - INFO - Chain [1] done processing\n",
      "[I 2023-11-19 17:24:43,024] Trial 36 finished with value: 0.35326362505831194 and parameters: {'changepoint_prior_scale': 0.35117564732560735, 'seasonality_prior_scale': 5, 'growth': 'logistic', 'seasonality_mode': 'additive', 'interval_width': 0.7646245543180348}. Best is trial 13 with value: 0.2924716700731696.\n"
     ]
    },
    {
     "name": "stdout",
     "output_type": "stream",
     "text": [
      "rmse = 0.35326362505831194\n",
      "mae = 0.2940302326600096\n",
      "r2 = -30.438000855156886\n"
     ]
    },
    {
     "name": "stderr",
     "output_type": "stream",
     "text": [
      "17:24:43 - cmdstanpy - INFO - Chain [1] start processing\n",
      "17:24:43 - cmdstanpy - INFO - Chain [1] done processing\n",
      "[I 2023-11-19 17:24:43,572] Trial 37 finished with value: 0.7503076409874386 and parameters: {'changepoint_prior_scale': 0.5720571763127006, 'seasonality_prior_scale': 8, 'growth': 'linear', 'seasonality_mode': 'multiplicative', 'interval_width': 0.7795140878696462}. Best is trial 13 with value: 0.2924716700731696.\n"
     ]
    },
    {
     "name": "stdout",
     "output_type": "stream",
     "text": [
      "rmse = 0.7503076409874386\n",
      "mae = 0.5952572175299203\n",
      "r2 = -4.585097156447489\n"
     ]
    },
    {
     "name": "stderr",
     "output_type": "stream",
     "text": [
      "17:24:43 - cmdstanpy - INFO - Chain [1] start processing\n",
      "17:24:44 - cmdstanpy - INFO - Chain [1] done processing\n",
      "[I 2023-11-19 17:24:44,139] Trial 38 finished with value: 0.305209318795952 and parameters: {'changepoint_prior_scale': 0.21866107679231644, 'seasonality_prior_scale': 5, 'growth': 'logistic', 'seasonality_mode': 'multiplicative', 'interval_width': 0.7961882826598697}. Best is trial 13 with value: 0.2924716700731696.\n"
     ]
    },
    {
     "name": "stdout",
     "output_type": "stream",
     "text": [
      "rmse = 0.305209318795952\n",
      "mae = 0.2766184179631238\n",
      "r2 = -16.54137163826909\n"
     ]
    },
    {
     "name": "stderr",
     "output_type": "stream",
     "text": [
      "17:24:44 - cmdstanpy - INFO - Chain [1] start processing\n",
      "17:24:44 - cmdstanpy - INFO - Chain [1] done processing\n",
      "[I 2023-11-19 17:24:44,753] Trial 39 finished with value: 0.43019640980127705 and parameters: {'changepoint_prior_scale': 0.18023137091103214, 'seasonality_prior_scale': 2, 'growth': 'linear', 'seasonality_mode': 'additive', 'interval_width': 0.8235560673418164}. Best is trial 13 with value: 0.2924716700731696.\n"
     ]
    },
    {
     "name": "stdout",
     "output_type": "stream",
     "text": [
      "rmse = 0.43019640980127705\n",
      "mae = 0.36192376799481696\n",
      "r2 = -55.619963179967456\n"
     ]
    },
    {
     "name": "stderr",
     "output_type": "stream",
     "text": [
      "17:24:45 - cmdstanpy - INFO - Chain [1] start processing\n",
      "17:24:45 - cmdstanpy - INFO - Chain [1] done processing\n",
      "[I 2023-11-19 17:24:45,544] Trial 40 finished with value: 0.37738674503726494 and parameters: {'changepoint_prior_scale': 0.4378626485612244, 'seasonality_prior_scale': 7, 'growth': 'logistic', 'seasonality_mode': 'multiplicative', 'interval_width': 0.7617440829756315}. Best is trial 13 with value: 0.2924716700731696.\n"
     ]
    },
    {
     "name": "stdout",
     "output_type": "stream",
     "text": [
      "rmse = 0.37738674503726494\n",
      "mae = 0.3101407612284993\n",
      "r2 = -40.445777070198375\n"
     ]
    },
    {
     "name": "stderr",
     "output_type": "stream",
     "text": [
      "17:24:46 - cmdstanpy - INFO - Chain [1] start processing\n",
      "17:24:46 - cmdstanpy - INFO - Chain [1] done processing\n",
      "[I 2023-11-19 17:24:46,528] Trial 41 finished with value: 0.29676498701164866 and parameters: {'changepoint_prior_scale': 0.007343076444906801, 'seasonality_prior_scale': 3, 'growth': 'logistic', 'seasonality_mode': 'multiplicative', 'interval_width': 0.7502742424272673}. Best is trial 13 with value: 0.2924716700731696.\n"
     ]
    },
    {
     "name": "stdout",
     "output_type": "stream",
     "text": [
      "rmse = 0.29676498701164866\n",
      "mae = 0.27399094591589074\n",
      "r2 = -14.280285301393182\n"
     ]
    },
    {
     "name": "stderr",
     "output_type": "stream",
     "text": [
      "17:24:47 - cmdstanpy - INFO - Chain [1] start processing\n",
      "17:24:47 - cmdstanpy - INFO - Chain [1] done processing\n",
      "[I 2023-11-19 17:24:47,517] Trial 42 finished with value: 0.30522627916612655 and parameters: {'changepoint_prior_scale': 0.1737355834293356, 'seasonality_prior_scale': 3, 'growth': 'logistic', 'seasonality_mode': 'multiplicative', 'interval_width': 0.7642192810795143}. Best is trial 13 with value: 0.2924716700731696.\n"
     ]
    },
    {
     "name": "stdout",
     "output_type": "stream",
     "text": [
      "rmse = 0.30522627916612655\n",
      "mae = 0.2766596700449871\n",
      "r2 = -16.49741491443761\n"
     ]
    },
    {
     "name": "stderr",
     "output_type": "stream",
     "text": [
      "17:24:48 - cmdstanpy - INFO - Chain [1] start processing\n",
      "17:24:49 - cmdstanpy - INFO - Chain [1] done processing\n",
      "[I 2023-11-19 17:24:49,350] Trial 43 finished with value: 0.32376071679693563 and parameters: {'changepoint_prior_scale': 0.2780516817768774, 'seasonality_prior_scale': 2, 'growth': 'logistic', 'seasonality_mode': 'multiplicative', 'interval_width': 0.7768410339150613}. Best is trial 13 with value: 0.2924716700731696.\n"
     ]
    },
    {
     "name": "stdout",
     "output_type": "stream",
     "text": [
      "rmse = 0.32376071679693563\n",
      "mae = 0.2809709742462502\n",
      "r2 = -21.214928923844877\n"
     ]
    },
    {
     "name": "stderr",
     "output_type": "stream",
     "text": [
      "17:24:50 - cmdstanpy - INFO - Chain [1] start processing\n",
      "17:24:50 - cmdstanpy - INFO - Chain [1] done processing\n",
      "[I 2023-11-19 17:24:50,478] Trial 44 finished with value: 0.3050306252324981 and parameters: {'changepoint_prior_scale': 0.10895062287306083, 'seasonality_prior_scale': 1, 'growth': 'logistic', 'seasonality_mode': 'multiplicative', 'interval_width': 0.7501002419397365}. Best is trial 13 with value: 0.2924716700731696.\n"
     ]
    },
    {
     "name": "stdout",
     "output_type": "stream",
     "text": [
      "rmse = 0.3050306252324981\n",
      "mae = 0.2766084045702315\n",
      "r2 = -16.444452171915554\n"
     ]
    },
    {
     "name": "stderr",
     "output_type": "stream",
     "text": [
      "17:24:51 - cmdstanpy - INFO - Chain [1] start processing\n",
      "17:24:51 - cmdstanpy - INFO - Chain [1] done processing\n",
      "[I 2023-11-19 17:24:51,861] Trial 45 finished with value: 0.3028000092076942 and parameters: {'changepoint_prior_scale': 0.032209872013036024, 'seasonality_prior_scale': 3, 'growth': 'logistic', 'seasonality_mode': 'additive', 'interval_width': 0.7590845636929621}. Best is trial 13 with value: 0.2924716700731696.\n"
     ]
    },
    {
     "name": "stdout",
     "output_type": "stream",
     "text": [
      "rmse = 0.3028000092076942\n",
      "mae = 0.276019702736909\n",
      "r2 = -15.816653825248437\n"
     ]
    },
    {
     "name": "stderr",
     "output_type": "stream",
     "text": [
      "17:24:52 - cmdstanpy - INFO - Chain [1] start processing\n",
      "17:24:52 - cmdstanpy - INFO - Chain [1] done processing\n",
      "[I 2023-11-19 17:24:52,871] Trial 46 finished with value: 0.35108438535753816 and parameters: {'changepoint_prior_scale': 0.3457379164033968, 'seasonality_prior_scale': 5, 'growth': 'logistic', 'seasonality_mode': 'multiplicative', 'interval_width': 0.7722439830536337}. Best is trial 13 with value: 0.2924716700731696.\n"
     ]
    },
    {
     "name": "stdout",
     "output_type": "stream",
     "text": [
      "rmse = 0.35108438535753816\n",
      "mae = 0.2926605086557806\n",
      "r2 = -29.68766272173671\n"
     ]
    },
    {
     "name": "stderr",
     "output_type": "stream",
     "text": [
      "17:24:53 - cmdstanpy - INFO - Chain [1] start processing\n",
      "17:24:53 - cmdstanpy - INFO - Chain [1] done processing\n",
      "[I 2023-11-19 17:24:53,682] Trial 47 finished with value: 0.2970352270642325 and parameters: {'changepoint_prior_scale': 0.006896652915816162, 'seasonality_prior_scale': 1, 'growth': 'logistic', 'seasonality_mode': 'multiplicative', 'interval_width': 0.7843674786236944}. Best is trial 13 with value: 0.2924716700731696.\n"
     ]
    },
    {
     "name": "stdout",
     "output_type": "stream",
     "text": [
      "rmse = 0.2970352270642325\n",
      "mae = 0.2740935203956229\n",
      "r2 = -14.352536201419518\n"
     ]
    },
    {
     "name": "stderr",
     "output_type": "stream",
     "text": [
      "17:24:54 - cmdstanpy - INFO - Chain [1] start processing\n",
      "17:24:54 - cmdstanpy - INFO - Chain [1] done processing\n",
      "[I 2023-11-19 17:24:54,223] Trial 48 finished with value: 0.4315658852907316 and parameters: {'changepoint_prior_scale': 0.17312696032664254, 'seasonality_prior_scale': 12, 'growth': 'linear', 'seasonality_mode': 'multiplicative', 'interval_width': 0.7838546134162723}. Best is trial 13 with value: 0.2924716700731696.\n"
     ]
    },
    {
     "name": "stdout",
     "output_type": "stream",
     "text": [
      "rmse = 0.4315658852907316\n",
      "mae = 0.36317469869943314\n",
      "r2 = -56.32961775562697\n"
     ]
    },
    {
     "name": "stderr",
     "output_type": "stream",
     "text": [
      "17:24:54 - cmdstanpy - INFO - Chain [1] start processing\n",
      "17:24:54 - cmdstanpy - INFO - Chain [1] done processing\n",
      "[I 2023-11-19 17:24:54,814] Trial 49 finished with value: 0.3945401672661902 and parameters: {'changepoint_prior_scale': 0.5248676247165367, 'seasonality_prior_scale': 1, 'growth': 'logistic', 'seasonality_mode': 'multiplicative', 'interval_width': 0.7588691851419888}. Best is trial 13 with value: 0.2924716700731696.\n"
     ]
    },
    {
     "name": "stdout",
     "output_type": "stream",
     "text": [
      "rmse = 0.3945401672661902\n",
      "mae = 0.3274806323071301\n",
      "r2 = -49.36147197798224\n"
     ]
    },
    {
     "name": "stderr",
     "output_type": "stream",
     "text": [
      "17:24:55 - cmdstanpy - INFO - Chain [1] start processing\n",
      "17:24:55 - cmdstanpy - INFO - Chain [1] done processing\n",
      "[I 2023-11-19 17:24:55,575] Trial 50 finished with value: 0.3492897749147615 and parameters: {'changepoint_prior_scale': 0.3403820056122087, 'seasonality_prior_scale': 4, 'growth': 'logistic', 'seasonality_mode': 'additive', 'interval_width': 0.7947440896374429}. Best is trial 13 with value: 0.2924716700731696.\n"
     ]
    },
    {
     "name": "stdout",
     "output_type": "stream",
     "text": [
      "rmse = 0.3492897749147615\n",
      "mae = 0.2915358615660408\n",
      "r2 = -29.03863517703868\n"
     ]
    },
    {
     "name": "stderr",
     "output_type": "stream",
     "text": [
      "17:24:56 - cmdstanpy - INFO - Chain [1] start processing\n",
      "17:24:56 - cmdstanpy - INFO - Chain [1] done processing\n",
      "[I 2023-11-19 17:24:56,412] Trial 51 finished with value: 0.30111304983682496 and parameters: {'changepoint_prior_scale': 0.029434273250170288, 'seasonality_prior_scale': 2, 'growth': 'logistic', 'seasonality_mode': 'multiplicative', 'interval_width': 0.7715442804444217}. Best is trial 13 with value: 0.2924716700731696.\n"
     ]
    },
    {
     "name": "stdout",
     "output_type": "stream",
     "text": [
      "rmse = 0.30111304983682496\n",
      "mae = 0.27551411299314105\n",
      "r2 = -15.37763717394273\n"
     ]
    },
    {
     "name": "stderr",
     "output_type": "stream",
     "text": [
      "17:24:56 - cmdstanpy - INFO - Chain [1] start processing\n",
      "17:24:56 - cmdstanpy - INFO - Chain [1] done processing\n",
      "[I 2023-11-19 17:24:57,088] Trial 52 finished with value: 0.3054586671336019 and parameters: {'changepoint_prior_scale': 0.15195763322268993, 'seasonality_prior_scale': 1, 'growth': 'logistic', 'seasonality_mode': 'multiplicative', 'interval_width': 0.7576842135567077}. Best is trial 13 with value: 0.2924716700731696.\n"
     ]
    },
    {
     "name": "stdout",
     "output_type": "stream",
     "text": [
      "rmse = 0.3054586671336019\n",
      "mae = 0.27670481406356057\n",
      "r2 = -16.580597582559466\n"
     ]
    },
    {
     "name": "stderr",
     "output_type": "stream",
     "text": [
      "17:24:57 - cmdstanpy - INFO - Chain [1] start processing\n",
      "17:24:58 - cmdstanpy - INFO - Chain [1] done processing\n",
      "[I 2023-11-19 17:24:58,749] Trial 53 finished with value: 0.2856401148943795 and parameters: {'changepoint_prior_scale': 0.0008699713288688703, 'seasonality_prior_scale': 3, 'growth': 'logistic', 'seasonality_mode': 'multiplicative', 'interval_width': 0.7752938136326595}. Best is trial 53 with value: 0.2856401148943795.\n"
     ]
    },
    {
     "name": "stdout",
     "output_type": "stream",
     "text": [
      "rmse = 0.2856401148943795\n",
      "mae = 0.26291832128101167\n",
      "r2 = -12.352101423928\n"
     ]
    },
    {
     "name": "stderr",
     "output_type": "stream",
     "text": [
      "17:24:59 - cmdstanpy - INFO - Chain [1] start processing\n",
      "17:24:59 - cmdstanpy - INFO - Chain [1] done processing\n",
      "[I 2023-11-19 17:24:59,324] Trial 54 finished with value: 0.30583364384477835 and parameters: {'changepoint_prior_scale': 0.1666507032013222, 'seasonality_prior_scale': 3, 'growth': 'logistic', 'seasonality_mode': 'multiplicative', 'interval_width': 0.7751709720375776}. Best is trial 53 with value: 0.2856401148943795.\n"
     ]
    },
    {
     "name": "stdout",
     "output_type": "stream",
     "text": [
      "rmse = 0.30583364384477835\n",
      "mae = 0.2768309167736594\n",
      "r2 = -16.643494880738768\n"
     ]
    },
    {
     "name": "stderr",
     "output_type": "stream",
     "text": [
      "17:24:59 - cmdstanpy - INFO - Chain [1] start processing\n",
      "17:24:59 - cmdstanpy - INFO - Chain [1] done processing\n",
      "[I 2023-11-19 17:24:59,958] Trial 55 finished with value: 0.3725443492845248 and parameters: {'changepoint_prior_scale': 0.41804412149051484, 'seasonality_prior_scale': 2, 'growth': 'logistic', 'seasonality_mode': 'multiplicative', 'interval_width': 0.7507536913938821}. Best is trial 53 with value: 0.2856401148943795.\n"
     ]
    },
    {
     "name": "stdout",
     "output_type": "stream",
     "text": [
      "rmse = 0.3725443492845248\n",
      "mae = 0.30531772804438845\n",
      "r2 = -38.224984578798775\n"
     ]
    },
    {
     "name": "stderr",
     "output_type": "stream",
     "text": [
      "17:25:00 - cmdstanpy - INFO - Chain [1] start processing\n",
      "17:25:00 - cmdstanpy - INFO - Chain [1] done processing\n",
      "[I 2023-11-19 17:25:00,636] Trial 56 finished with value: 0.2941186845638401 and parameters: {'changepoint_prior_scale': 0.006258898817581668, 'seasonality_prior_scale': 18, 'growth': 'logistic', 'seasonality_mode': 'multiplicative', 'interval_width': 0.7803440667111878}. Best is trial 53 with value: 0.2856401148943795.\n"
     ]
    },
    {
     "name": "stdout",
     "output_type": "stream",
     "text": [
      "rmse = 0.2941186845638401\n",
      "mae = 0.2729375709742993\n",
      "r2 = -13.46484943263211\n"
     ]
    },
    {
     "name": "stderr",
     "output_type": "stream",
     "text": [
      "17:25:00 - cmdstanpy - INFO - Chain [1] start processing\n",
      "17:25:01 - cmdstanpy - INFO - Chain [1] done processing\n",
      "[I 2023-11-19 17:25:01,267] Trial 57 finished with value: 0.3054733808103549 and parameters: {'changepoint_prior_scale': 0.23847385192647103, 'seasonality_prior_scale': 18, 'growth': 'logistic', 'seasonality_mode': 'multiplicative', 'interval_width': 0.7813019547869124}. Best is trial 53 with value: 0.2856401148943795.\n"
     ]
    },
    {
     "name": "stdout",
     "output_type": "stream",
     "text": [
      "rmse = 0.3054733808103549\n",
      "mae = 0.2767509385841382\n",
      "r2 = -16.52885337505933\n"
     ]
    },
    {
     "name": "stderr",
     "output_type": "stream",
     "text": [
      "17:25:01 - cmdstanpy - INFO - Chain [1] start processing\n",
      "17:25:01 - cmdstanpy - INFO - Chain [1] done processing\n",
      "[I 2023-11-19 17:25:01,863] Trial 58 finished with value: 0.3892772326851807 and parameters: {'changepoint_prior_scale': 0.5090207542111713, 'seasonality_prior_scale': 18, 'growth': 'logistic', 'seasonality_mode': 'multiplicative', 'interval_width': 0.789351558460822}. Best is trial 53 with value: 0.2856401148943795.\n"
     ]
    },
    {
     "name": "stdout",
     "output_type": "stream",
     "text": [
      "rmse = 0.3892772326851807\n",
      "mae = 0.3222387208773037\n",
      "r2 = -47.78260923241638\n"
     ]
    },
    {
     "name": "stderr",
     "output_type": "stream",
     "text": [
      "17:25:02 - cmdstanpy - INFO - Chain [1] start processing\n",
      "17:25:02 - cmdstanpy - INFO - Chain [1] done processing\n",
      "[I 2023-11-19 17:25:02,464] Trial 59 finished with value: 0.3053418845198478 and parameters: {'changepoint_prior_scale': 0.1297532707355186, 'seasonality_prior_scale': 15, 'growth': 'logistic', 'seasonality_mode': 'multiplicative', 'interval_width': 0.8019178510749162}. Best is trial 53 with value: 0.2856401148943795.\n"
     ]
    },
    {
     "name": "stdout",
     "output_type": "stream",
     "text": [
      "rmse = 0.3053418845198478\n",
      "mae = 0.2766795172455419\n",
      "r2 = -16.54229381747766\n"
     ]
    },
    {
     "name": "stderr",
     "output_type": "stream",
     "text": [
      "17:25:02 - cmdstanpy - INFO - Chain [1] start processing\n",
      "17:25:03 - cmdstanpy - INFO - Chain [1] done processing\n",
      "[I 2023-11-19 17:25:03,137] Trial 60 finished with value: 0.2970696628719333 and parameters: {'changepoint_prior_scale': 0.00727703258714169, 'seasonality_prior_scale': 19, 'growth': 'logistic', 'seasonality_mode': 'multiplicative', 'interval_width': 0.7712278319698627}. Best is trial 53 with value: 0.2856401148943795.\n"
     ]
    },
    {
     "name": "stdout",
     "output_type": "stream",
     "text": [
      "rmse = 0.2970696628719333\n",
      "mae = 0.2741034774845242\n",
      "r2 = -14.365874335421317\n"
     ]
    },
    {
     "name": "stderr",
     "output_type": "stream",
     "text": [
      "17:25:03 - cmdstanpy - INFO - Chain [1] start processing\n",
      "17:25:03 - cmdstanpy - INFO - Chain [1] done processing\n",
      "[I 2023-11-19 17:25:03,895] Trial 61 finished with value: 0.30546623631111536 and parameters: {'changepoint_prior_scale': 0.1300378206129397, 'seasonality_prior_scale': 19, 'growth': 'logistic', 'seasonality_mode': 'multiplicative', 'interval_width': 0.7576569096849424}. Best is trial 53 with value: 0.2856401148943795.\n"
     ]
    },
    {
     "name": "stdout",
     "output_type": "stream",
     "text": [
      "rmse = 0.30546623631111536\n",
      "mae = 0.27671951214342866\n",
      "r2 = -16.565853062689627\n"
     ]
    },
    {
     "name": "stderr",
     "output_type": "stream",
     "text": [
      "17:25:04 - cmdstanpy - INFO - Chain [1] start processing\n",
      "17:25:04 - cmdstanpy - INFO - Chain [1] done processing\n",
      "[I 2023-11-19 17:25:04,442] Trial 62 finished with value: 0.30074864343955365 and parameters: {'changepoint_prior_scale': 0.01874541617906695, 'seasonality_prior_scale': 16, 'growth': 'logistic', 'seasonality_mode': 'multiplicative', 'interval_width': 0.7735938515323898}. Best is trial 53 with value: 0.2856401148943795.\n"
     ]
    },
    {
     "name": "stdout",
     "output_type": "stream",
     "text": [
      "rmse = 0.30074864343955365\n",
      "mae = 0.2753988829692465\n",
      "r2 = -15.2847865002127\n"
     ]
    },
    {
     "name": "stderr",
     "output_type": "stream",
     "text": [
      "17:25:04 - cmdstanpy - INFO - Chain [1] start processing\n",
      "17:25:05 - cmdstanpy - INFO - Chain [1] done processing\n",
      "[I 2023-11-19 17:25:05,150] Trial 63 finished with value: 0.31617549106799153 and parameters: {'changepoint_prior_scale': 0.261227767315065, 'seasonality_prior_scale': 20, 'growth': 'logistic', 'seasonality_mode': 'multiplicative', 'interval_width': 0.7693638715741427}. Best is trial 53 with value: 0.2856401148943795.\n"
     ]
    },
    {
     "name": "stdout",
     "output_type": "stream",
     "text": [
      "rmse = 0.31617549106799153\n",
      "mae = 0.279383047502805\n",
      "r2 = -19.217273502947176\n"
     ]
    },
    {
     "name": "stderr",
     "output_type": "stream",
     "text": [
      "17:25:05 - cmdstanpy - INFO - Chain [1] start processing\n",
      "17:25:05 - cmdstanpy - INFO - Chain [1] done processing\n",
      "[I 2023-11-19 17:25:05,721] Trial 64 finished with value: 0.3484762766911514 and parameters: {'changepoint_prior_scale': 0.3366060413225626, 'seasonality_prior_scale': 19, 'growth': 'logistic', 'seasonality_mode': 'multiplicative', 'interval_width': 0.7810205360637066}. Best is trial 53 with value: 0.2856401148943795.\n"
     ]
    },
    {
     "name": "stdout",
     "output_type": "stream",
     "text": [
      "rmse = 0.3484762766911514\n",
      "mae = 0.291077391472847\n",
      "r2 = -28.613776924527546\n"
     ]
    },
    {
     "name": "stderr",
     "output_type": "stream",
     "text": [
      "17:25:06 - cmdstanpy - INFO - Chain [1] start processing\n",
      "17:25:06 - cmdstanpy - INFO - Chain [1] done processing\n",
      "[I 2023-11-19 17:25:06,277] Trial 65 finished with value: 0.3021107796344039 and parameters: {'changepoint_prior_scale': 0.017323756201305787, 'seasonality_prior_scale': 10, 'growth': 'logistic', 'seasonality_mode': 'multiplicative', 'interval_width': 0.7901100306331568}. Best is trial 53 with value: 0.2856401148943795.\n"
     ]
    },
    {
     "name": "stdout",
     "output_type": "stream",
     "text": [
      "rmse = 0.3021107796344039\n",
      "mae = 0.27580657010889686\n",
      "r2 = -15.65098235361506\n"
     ]
    },
    {
     "name": "stderr",
     "output_type": "stream",
     "text": [
      "17:25:06 - cmdstanpy - INFO - Chain [1] start processing\n",
      "17:25:06 - cmdstanpy - INFO - Chain [1] done processing\n",
      "[I 2023-11-19 17:25:06,863] Trial 66 finished with value: 0.30465962436805794 and parameters: {'changepoint_prior_scale': 0.11049102385209877, 'seasonality_prior_scale': 19, 'growth': 'logistic', 'seasonality_mode': 'multiplicative', 'interval_width': 0.7676976225266195}. Best is trial 53 with value: 0.2856401148943795.\n"
     ]
    },
    {
     "name": "stdout",
     "output_type": "stream",
     "text": [
      "rmse = 0.30465962436805794\n",
      "mae = 0.27655767507781576\n",
      "r2 = -16.282016325402715\n"
     ]
    },
    {
     "name": "stderr",
     "output_type": "stream",
     "text": [
      "17:25:07 - cmdstanpy - INFO - Chain [1] start processing\n",
      "17:25:07 - cmdstanpy - INFO - Chain [1] done processing\n",
      "[I 2023-11-19 17:25:07,525] Trial 67 finished with value: 0.4311954311394187 and parameters: {'changepoint_prior_scale': 0.24464896066470995, 'seasonality_prior_scale': 17, 'growth': 'linear', 'seasonality_mode': 'multiplicative', 'interval_width': 0.7555991918009691}. Best is trial 53 with value: 0.2856401148943795.\n"
     ]
    },
    {
     "name": "stdout",
     "output_type": "stream",
     "text": [
      "rmse = 0.4311954311394187\n",
      "mae = 0.36284893959784886\n",
      "r2 = -55.90454078462661\n"
     ]
    },
    {
     "name": "stderr",
     "output_type": "stream",
     "text": [
      "17:25:07 - cmdstanpy - INFO - Chain [1] start processing\n",
      "17:25:07 - cmdstanpy - INFO - Chain [1] done processing\n",
      "[I 2023-11-19 17:25:08,080] Trial 68 finished with value: 0.3054624722396118 and parameters: {'changepoint_prior_scale': 0.13691041591712552, 'seasonality_prior_scale': 17, 'growth': 'logistic', 'seasonality_mode': 'multiplicative', 'interval_width': 0.7851936645961635}. Best is trial 53 with value: 0.2856401148943795.\n"
     ]
    },
    {
     "name": "stdout",
     "output_type": "stream",
     "text": [
      "rmse = 0.3054624722396118\n",
      "mae = 0.2767078481550432\n",
      "r2 = -16.578927730750213\n"
     ]
    },
    {
     "name": "stderr",
     "output_type": "stream",
     "text": [
      "17:25:08 - cmdstanpy - INFO - Chain [1] start processing\n",
      "17:25:08 - cmdstanpy - INFO - Chain [1] done processing\n",
      "[I 2023-11-19 17:25:08,794] Trial 69 finished with value: 0.3685229380699742 and parameters: {'changepoint_prior_scale': 0.4023261326974021, 'seasonality_prior_scale': 12, 'growth': 'logistic', 'seasonality_mode': 'multiplicative', 'interval_width': 0.7579737368608817}. Best is trial 53 with value: 0.2856401148943795.\n"
     ]
    },
    {
     "name": "stdout",
     "output_type": "stream",
     "text": [
      "rmse = 0.3685229380699742\n",
      "mae = 0.3030611380832796\n",
      "r2 = -36.45013410806399\n"
     ]
    },
    {
     "name": "stderr",
     "output_type": "stream",
     "text": [
      "17:25:09 - cmdstanpy - INFO - Chain [1] start processing\n",
      "17:25:09 - cmdstanpy - INFO - Chain [1] done processing\n",
      "[I 2023-11-19 17:25:09,379] Trial 70 finished with value: 0.29308412572533404 and parameters: {'changepoint_prior_scale': 0.004343758266826557, 'seasonality_prior_scale': 14, 'growth': 'logistic', 'seasonality_mode': 'additive', 'interval_width': 0.7773456844080061}. Best is trial 53 with value: 0.2856401148943795.\n"
     ]
    },
    {
     "name": "stdout",
     "output_type": "stream",
     "text": [
      "rmse = 0.29308412572533404\n",
      "mae = 0.27246653390605585\n",
      "r2 = -13.098244009340583\n"
     ]
    },
    {
     "name": "stderr",
     "output_type": "stream",
     "text": [
      "17:25:09 - cmdstanpy - INFO - Chain [1] start processing\n",
      "17:25:10 - cmdstanpy - INFO - Chain [1] done processing\n",
      "[I 2023-11-19 17:25:10,246] Trial 71 finished with value: 0.29253391777535864 and parameters: {'changepoint_prior_scale': 0.0031014042002190084, 'seasonality_prior_scale': 14, 'growth': 'logistic', 'seasonality_mode': 'additive', 'interval_width': 0.778128347616933}. Best is trial 53 with value: 0.2856401148943795.\n"
     ]
    },
    {
     "name": "stdout",
     "output_type": "stream",
     "text": [
      "rmse = 0.29253391777535864\n",
      "mae = 0.27220930504747304\n",
      "r2 = -12.85414298112902\n"
     ]
    },
    {
     "name": "stderr",
     "output_type": "stream",
     "text": [
      "17:25:10 - cmdstanpy - INFO - Chain [1] start processing\n",
      "17:25:10 - cmdstanpy - INFO - Chain [1] done processing\n",
      "[I 2023-11-19 17:25:10,829] Trial 72 finished with value: 0.3052798929108767 and parameters: {'changepoint_prior_scale': 0.09376177585171774, 'seasonality_prior_scale': 14, 'growth': 'logistic', 'seasonality_mode': 'additive', 'interval_width': 0.7779892832800389}. Best is trial 53 with value: 0.2856401148943795.\n"
     ]
    },
    {
     "name": "stdout",
     "output_type": "stream",
     "text": [
      "rmse = 0.3052798929108767\n",
      "mae = 0.2766667431294162\n",
      "r2 = -16.521049396236908\n"
     ]
    },
    {
     "name": "stderr",
     "output_type": "stream",
     "text": [
      "17:25:11 - cmdstanpy - INFO - Chain [1] start processing\n",
      "17:25:11 - cmdstanpy - INFO - Chain [1] done processing\n",
      "[I 2023-11-19 17:25:11,402] Trial 73 finished with value: 0.30562239187752094 and parameters: {'changepoint_prior_scale': 0.2174160134797276, 'seasonality_prior_scale': 14, 'growth': 'logistic', 'seasonality_mode': 'additive', 'interval_width': 0.7966467200284708}. Best is trial 53 with value: 0.2856401148943795.\n"
     ]
    },
    {
     "name": "stdout",
     "output_type": "stream",
     "text": [
      "rmse = 0.30562239187752094\n",
      "mae = 0.2767447544272957\n",
      "r2 = -16.628183087420638\n"
     ]
    },
    {
     "name": "stderr",
     "output_type": "stream",
     "text": [
      "17:25:11 - cmdstanpy - INFO - Chain [1] start processing\n",
      "17:25:11 - cmdstanpy - INFO - Chain [1] done processing\n",
      "[I 2023-11-19 17:25:11,966] Trial 74 finished with value: 0.29409199840511896 and parameters: {'changepoint_prior_scale': 0.00968111055864413, 'seasonality_prior_scale': 17, 'growth': 'logistic', 'seasonality_mode': 'additive', 'interval_width': 0.7504386843911244}. Best is trial 53 with value: 0.2856401148943795.\n"
     ]
    },
    {
     "name": "stdout",
     "output_type": "stream",
     "text": [
      "rmse = 0.29409199840511896\n",
      "mae = 0.2729314366536602\n",
      "r2 = -13.44717860589505\n"
     ]
    },
    {
     "name": "stderr",
     "output_type": "stream",
     "text": [
      "17:25:12 - cmdstanpy - INFO - Chain [1] start processing\n",
      "17:25:12 - cmdstanpy - INFO - Chain [1] done processing\n",
      "[I 2023-11-19 17:25:12,571] Trial 75 finished with value: 0.3374735391361499 and parameters: {'changepoint_prior_scale': 0.3087864034574857, 'seasonality_prior_scale': 17, 'growth': 'logistic', 'seasonality_mode': 'additive', 'interval_width': 0.7500906054692881}. Best is trial 53 with value: 0.2856401148943795.\n"
     ]
    },
    {
     "name": "stdout",
     "output_type": "stream",
     "text": [
      "rmse = 0.3374735391361499\n",
      "mae = 0.2836958369454529\n",
      "r2 = -25.177519945893984\n"
     ]
    },
    {
     "name": "stderr",
     "output_type": "stream",
     "text": [
      "17:25:12 - cmdstanpy - INFO - Chain [1] start processing\n",
      "17:25:13 - cmdstanpy - INFO - Chain [1] done processing\n",
      "[I 2023-11-19 17:25:13,153] Trial 76 finished with value: 0.3049648027374023 and parameters: {'changepoint_prior_scale': 0.09242048524970015, 'seasonality_prior_scale': 16, 'growth': 'logistic', 'seasonality_mode': 'additive', 'interval_width': 0.7645027139112917}. Best is trial 53 with value: 0.2856401148943795.\n"
     ]
    },
    {
     "name": "stdout",
     "output_type": "stream",
     "text": [
      "rmse = 0.3049648027374023\n",
      "mae = 0.2766142532842946\n",
      "r2 = -16.396201951704008\n"
     ]
    },
    {
     "name": "stderr",
     "output_type": "stream",
     "text": [
      "17:25:13 - cmdstanpy - INFO - Chain [1] start processing\n",
      "17:25:13 - cmdstanpy - INFO - Chain [1] done processing\n",
      "[I 2023-11-19 17:25:13,737] Trial 77 finished with value: 0.30556581583385706 and parameters: {'changepoint_prior_scale': 0.1752741384613803, 'seasonality_prior_scale': 16, 'growth': 'logistic', 'seasonality_mode': 'additive', 'interval_width': 0.75522986210153}. Best is trial 53 with value: 0.2856401148943795.\n"
     ]
    },
    {
     "name": "stdout",
     "output_type": "stream",
     "text": [
      "rmse = 0.30556581583385706\n",
      "mae = 0.2767297648212639\n",
      "r2 = -16.61333633318062\n"
     ]
    },
    {
     "name": "stderr",
     "output_type": "stream",
     "text": [
      "17:25:14 - cmdstanpy - INFO - Chain [1] start processing\n",
      "17:25:14 - cmdstanpy - INFO - Chain [1] done processing\n",
      "[I 2023-11-19 17:25:14,337] Trial 78 finished with value: 0.3055634974534604 and parameters: {'changepoint_prior_scale': 0.0841549593465508, 'seasonality_prior_scale': 14, 'growth': 'logistic', 'seasonality_mode': 'additive', 'interval_width': 0.7756022761146297}. Best is trial 53 with value: 0.2856401148943795.\n"
     ]
    },
    {
     "name": "stdout",
     "output_type": "stream",
     "text": [
      "rmse = 0.3055634974534604\n",
      "mae = 0.2767362262535526\n",
      "r2 = -16.60338675265652\n"
     ]
    },
    {
     "name": "stderr",
     "output_type": "stream",
     "text": [
      "17:25:14 - cmdstanpy - INFO - Chain [1] start processing\n",
      "17:25:14 - cmdstanpy - INFO - Chain [1] done processing\n",
      "[I 2023-11-19 17:25:14,878] Trial 79 finished with value: 0.49075573704166886 and parameters: {'changepoint_prior_scale': 0.37966375754485965, 'seasonality_prior_scale': 10, 'growth': 'linear', 'seasonality_mode': 'additive', 'interval_width': 0.7607661129630441}. Best is trial 53 with value: 0.2856401148943795.\n"
     ]
    },
    {
     "name": "stdout",
     "output_type": "stream",
     "text": [
      "rmse = 0.49075573704166886\n",
      "mae = 0.3458707497038165\n",
      "r2 = -3.4362636953525643\n"
     ]
    },
    {
     "name": "stderr",
     "output_type": "stream",
     "text": [
      "17:25:15 - cmdstanpy - INFO - Chain [1] start processing\n",
      "17:25:15 - cmdstanpy - INFO - Chain [1] done processing\n",
      "[I 2023-11-19 17:25:15,455] Trial 80 finished with value: 0.3210527530774299 and parameters: {'changepoint_prior_scale': 0.27141579693450374, 'seasonality_prior_scale': 11, 'growth': 'logistic', 'seasonality_mode': 'additive', 'interval_width': 0.7807392507872539}. Best is trial 53 with value: 0.2856401148943795.\n"
     ]
    },
    {
     "name": "stdout",
     "output_type": "stream",
     "text": [
      "rmse = 0.3210527530774299\n",
      "mae = 0.28043386473567805\n",
      "r2 = -20.47535404795936\n"
     ]
    },
    {
     "name": "stderr",
     "output_type": "stream",
     "text": [
      "17:25:15 - cmdstanpy - INFO - Chain [1] start processing\n",
      "17:25:15 - cmdstanpy - INFO - Chain [1] done processing\n",
      "[I 2023-11-19 17:25:16,015] Trial 81 finished with value: 0.3005449482375225 and parameters: {'changepoint_prior_scale': 0.02135227859791502, 'seasonality_prior_scale': 18, 'growth': 'logistic', 'seasonality_mode': 'additive', 'interval_width': 0.7662952921353395}. Best is trial 53 with value: 0.2856401148943795.\n"
     ]
    },
    {
     "name": "stdout",
     "output_type": "stream",
     "text": [
      "rmse = 0.3005449482375225\n",
      "mae = 0.2753367751803096\n",
      "r2 = -15.228838280829336\n"
     ]
    },
    {
     "name": "stderr",
     "output_type": "stream",
     "text": [
      "17:25:16 - cmdstanpy - INFO - Chain [1] start processing\n",
      "17:25:16 - cmdstanpy - INFO - Chain [1] done processing\n",
      "[I 2023-11-19 17:25:16,618] Trial 82 finished with value: 0.2977399895742592 and parameters: {'changepoint_prior_scale': 0.008175235007261404, 'seasonality_prior_scale': 13, 'growth': 'logistic', 'seasonality_mode': 'additive', 'interval_width': 0.7702924071856956}. Best is trial 53 with value: 0.2856401148943795.\n"
     ]
    },
    {
     "name": "stdout",
     "output_type": "stream",
     "text": [
      "rmse = 0.2977399895742592\n",
      "mae = 0.2743666938951087\n",
      "r2 = -14.522056905671406\n"
     ]
    },
    {
     "name": "stderr",
     "output_type": "stream",
     "text": [
      "17:25:16 - cmdstanpy - INFO - Chain [1] start processing\n",
      "17:25:17 - cmdstanpy - INFO - Chain [1] done processing\n",
      "[I 2023-11-19 17:25:17,190] Trial 83 finished with value: 0.3053769126575563 and parameters: {'changepoint_prior_scale': 0.20866195668681586, 'seasonality_prior_scale': 19, 'growth': 'logistic', 'seasonality_mode': 'additive', 'interval_width': 0.7886634452710177}. Best is trial 53 with value: 0.2856401148943795.\n"
     ]
    },
    {
     "name": "stdout",
     "output_type": "stream",
     "text": [
      "rmse = 0.3053769126575563\n",
      "mae = 0.27668845614911936\n",
      "r2 = -16.552013690779585\n"
     ]
    },
    {
     "name": "stderr",
     "output_type": "stream",
     "text": [
      "17:25:17 - cmdstanpy - INFO - Chain [1] start processing\n",
      "17:25:17 - cmdstanpy - INFO - Chain [1] done processing\n",
      "[I 2023-11-19 17:25:17,766] Trial 84 finished with value: 0.3045351622285032 and parameters: {'changepoint_prior_scale': 0.10229190187027716, 'seasonality_prior_scale': 20, 'growth': 'logistic', 'seasonality_mode': 'additive', 'interval_width': 0.7611019411968456}. Best is trial 53 with value: 0.2856401148943795.\n"
     ]
    },
    {
     "name": "stdout",
     "output_type": "stream",
     "text": [
      "rmse = 0.3045351622285032\n",
      "mae = 0.27648634870126176\n",
      "r2 = -16.298397840332477\n"
     ]
    },
    {
     "name": "stderr",
     "output_type": "stream",
     "text": [
      "17:25:18 - cmdstanpy - INFO - Chain [1] start processing\n",
      "17:25:18 - cmdstanpy - INFO - Chain [1] done processing\n",
      "[I 2023-11-19 17:25:18,343] Trial 85 finished with value: 0.30475494932181807 and parameters: {'changepoint_prior_scale': 0.09705776880351591, 'seasonality_prior_scale': 18, 'growth': 'logistic', 'seasonality_mode': 'additive', 'interval_width': 0.7728362230970535}. Best is trial 53 with value: 0.2856401148943795.\n"
     ]
    },
    {
     "name": "stdout",
     "output_type": "stream",
     "text": [
      "rmse = 0.30475494932181807\n",
      "mae = 0.27653943640068696\n",
      "r2 = -16.36488311599936\n"
     ]
    },
    {
     "name": "stderr",
     "output_type": "stream",
     "text": [
      "17:25:18 - cmdstanpy - INFO - Chain [1] start processing\n",
      "17:25:20 - cmdstanpy - INFO - Chain [1] done processing\n",
      "[I 2023-11-19 17:25:20,651] Trial 86 finished with value: 0.2897341372009898 and parameters: {'changepoint_prior_scale': 0.000388663948167247, 'seasonality_prior_scale': 17, 'growth': 'logistic', 'seasonality_mode': 'additive', 'interval_width': 0.7557326787865719}. Best is trial 53 with value: 0.2856401148943795.\n"
     ]
    },
    {
     "name": "stdout",
     "output_type": "stream",
     "text": [
      "rmse = 0.2897341372009898\n",
      "mae = 0.25562432992812545\n",
      "r2 = -12.904203855175563\n"
     ]
    },
    {
     "name": "stderr",
     "output_type": "stream",
     "text": [
      "17:25:21 - cmdstanpy - INFO - Chain [1] start processing\n",
      "17:25:21 - cmdstanpy - INFO - Chain [1] done processing\n",
      "[I 2023-11-19 17:25:21,311] Trial 87 finished with value: 0.3053788628156662 and parameters: {'changepoint_prior_scale': 0.19607413412224833, 'seasonality_prior_scale': 16, 'growth': 'logistic', 'seasonality_mode': 'additive', 'interval_width': 0.7545664746357263}. Best is trial 53 with value: 0.2856401148943795.\n"
     ]
    },
    {
     "name": "stdout",
     "output_type": "stream",
     "text": [
      "rmse = 0.3053788628156662\n",
      "mae = 0.2766979300505913\n",
      "r2 = -16.540723245243033\n"
     ]
    },
    {
     "name": "stderr",
     "output_type": "stream",
     "text": [
      "17:25:21 - cmdstanpy - INFO - Chain [1] start processing\n",
      "17:25:21 - cmdstanpy - INFO - Chain [1] done processing\n",
      "[I 2023-11-19 17:25:22,011] Trial 88 finished with value: 0.3338931383632081 and parameters: {'changepoint_prior_scale': 0.3011568098978128, 'seasonality_prior_scale': 15, 'growth': 'logistic', 'seasonality_mode': 'additive', 'interval_width': 0.7557765323571308}. Best is trial 53 with value: 0.2856401148943795.\n"
     ]
    },
    {
     "name": "stdout",
     "output_type": "stream",
     "text": [
      "rmse = 0.3338931383632081\n",
      "mae = 0.2828607723929943\n",
      "r2 = -24.07022227775076\n"
     ]
    },
    {
     "name": "stderr",
     "output_type": "stream",
     "text": [
      "17:25:22 - cmdstanpy - INFO - Chain [1] start processing\n",
      "17:25:22 - cmdstanpy - INFO - Chain [1] done processing\n",
      "[I 2023-11-19 17:25:22,650] Trial 89 finished with value: 0.304692808088021 and parameters: {'changepoint_prior_scale': 0.09166372397833752, 'seasonality_prior_scale': 17, 'growth': 'logistic', 'seasonality_mode': 'additive', 'interval_width': 0.750375005744081}. Best is trial 53 with value: 0.2856401148943795.\n"
     ]
    },
    {
     "name": "stdout",
     "output_type": "stream",
     "text": [
      "rmse = 0.304692808088021\n",
      "mae = 0.27656486463595176\n",
      "r2 = -16.29311490614942\n"
     ]
    },
    {
     "name": "stderr",
     "output_type": "stream",
     "text": [
      "17:25:23 - cmdstanpy - INFO - Chain [1] start processing\n",
      "17:25:23 - cmdstanpy - INFO - Chain [1] done processing\n",
      "[I 2023-11-19 17:25:23,251] Trial 90 finished with value: 0.30523786041075124 and parameters: {'changepoint_prior_scale': 0.19455588017857428, 'seasonality_prior_scale': 9, 'growth': 'logistic', 'seasonality_mode': 'additive', 'interval_width': 0.7658764834584126}. Best is trial 53 with value: 0.2856401148943795.\n"
     ]
    },
    {
     "name": "stdout",
     "output_type": "stream",
     "text": [
      "rmse = 0.30523786041075124\n",
      "mae = 0.27666697478529206\n",
      "r2 = -16.49491680054953\n"
     ]
    },
    {
     "name": "stderr",
     "output_type": "stream",
     "text": [
      "17:25:23 - cmdstanpy - INFO - Chain [1] start processing\n",
      "17:25:23 - cmdstanpy - INFO - Chain [1] done processing\n",
      "[I 2023-11-19 17:25:23,961] Trial 91 finished with value: 0.30482413891475685 and parameters: {'changepoint_prior_scale': 0.06021743347687837, 'seasonality_prior_scale': 1, 'growth': 'logistic', 'seasonality_mode': 'additive', 'interval_width': 0.7771129996275729}. Best is trial 53 with value: 0.2856401148943795.\n"
     ]
    },
    {
     "name": "stdout",
     "output_type": "stream",
     "text": [
      "rmse = 0.30482413891475685\n",
      "mae = 0.2765595138757011\n",
      "r2 = -16.381288540261703\n"
     ]
    },
    {
     "name": "stderr",
     "output_type": "stream",
     "text": [
      "17:25:24 - cmdstanpy - INFO - Chain [1] start processing\n",
      "17:25:24 - cmdstanpy - INFO - Chain [1] done processing\n",
      "[I 2023-11-19 17:25:24,528] Trial 92 finished with value: 0.30039752159663724 and parameters: {'changepoint_prior_scale': 0.019467551528448906, 'seasonality_prior_scale': 12, 'growth': 'logistic', 'seasonality_mode': 'additive', 'interval_width': 0.7615623726501803}. Best is trial 53 with value: 0.2856401148943795.\n"
     ]
    },
    {
     "name": "stdout",
     "output_type": "stream",
     "text": [
      "rmse = 0.30039752159663724\n",
      "mae = 0.27529223277831516\n",
      "r2 = -15.18733064744352\n"
     ]
    },
    {
     "name": "stderr",
     "output_type": "stream",
     "text": [
      "17:25:24 - cmdstanpy - INFO - Chain [1] start processing\n",
      "17:25:25 - cmdstanpy - INFO - Chain [1] done processing\n",
      "[I 2023-11-19 17:25:25,088] Trial 93 finished with value: 0.2926683179826279 and parameters: {'changepoint_prior_scale': 0.0025905560213382124, 'seasonality_prior_scale': 17, 'growth': 'logistic', 'seasonality_mode': 'multiplicative', 'interval_width': 0.7861399972692139}. Best is trial 53 with value: 0.2856401148943795.\n"
     ]
    },
    {
     "name": "stdout",
     "output_type": "stream",
     "text": [
      "rmse = 0.2926683179826279\n",
      "mae = 0.2726110456953704\n",
      "r2 = -12.230514645295626\n"
     ]
    },
    {
     "name": "stderr",
     "output_type": "stream",
     "text": [
      "17:25:25 - cmdstanpy - INFO - Chain [1] start processing\n",
      "17:25:25 - cmdstanpy - INFO - Chain [1] done processing\n",
      "[I 2023-11-19 17:25:25,825] Trial 94 finished with value: 0.38515483834554387 and parameters: {'changepoint_prior_scale': 0.4734850156657693, 'seasonality_prior_scale': 17, 'growth': 'logistic', 'seasonality_mode': 'additive', 'interval_width': 0.7840651612308508}. Best is trial 53 with value: 0.2856401148943795.\n"
     ]
    },
    {
     "name": "stdout",
     "output_type": "stream",
     "text": [
      "rmse = 0.38515483834554387\n",
      "mae = 0.31812139339503614\n",
      "r2 = -44.26857696178991\n"
     ]
    },
    {
     "name": "stderr",
     "output_type": "stream",
     "text": [
      "17:25:26 - cmdstanpy - INFO - Chain [1] start processing\n",
      "17:25:26 - cmdstanpy - INFO - Chain [1] done processing\n",
      "[I 2023-11-19 17:25:26,440] Trial 95 finished with value: 0.30393015542566004 and parameters: {'changepoint_prior_scale': 0.15459044773944403, 'seasonality_prior_scale': 18, 'growth': 'logistic', 'seasonality_mode': 'multiplicative', 'interval_width': 0.7667255203679888}. Best is trial 53 with value: 0.2856401148943795.\n"
     ]
    },
    {
     "name": "stdout",
     "output_type": "stream",
     "text": [
      "rmse = 0.30393015542566004\n",
      "mae = 0.2763362666908557\n",
      "r2 = -16.11791110216023\n"
     ]
    },
    {
     "name": "stderr",
     "output_type": "stream",
     "text": [
      "17:25:26 - cmdstanpy - INFO - Chain [1] start processing\n",
      "17:25:26 - cmdstanpy - INFO - Chain [1] done processing\n",
      "[I 2023-11-19 17:25:27,075] Trial 96 finished with value: 0.4313246824546789 and parameters: {'changepoint_prior_scale': 0.28567041052441494, 'seasonality_prior_scale': 4, 'growth': 'linear', 'seasonality_mode': 'multiplicative', 'interval_width': 0.7863137624662065}. Best is trial 53 with value: 0.2856401148943795.\n"
     ]
    },
    {
     "name": "stdout",
     "output_type": "stream",
     "text": [
      "rmse = 0.4313246824546789\n",
      "mae = 0.3629716378155358\n",
      "r2 = -55.882803862064236\n"
     ]
    },
    {
     "name": "stderr",
     "output_type": "stream",
     "text": [
      "17:25:27 - cmdstanpy - INFO - Chain [1] start processing\n",
      "17:25:27 - cmdstanpy - INFO - Chain [1] done processing\n",
      "[I 2023-11-19 17:25:27,870] Trial 97 finished with value: 0.30521210776477137 and parameters: {'changepoint_prior_scale': 0.06865790064670925, 'seasonality_prior_scale': 16, 'growth': 'logistic', 'seasonality_mode': 'multiplicative', 'interval_width': 0.7937324444328409}. Best is trial 53 with value: 0.2856401148943795.\n"
     ]
    },
    {
     "name": "stdout",
     "output_type": "stream",
     "text": [
      "rmse = 0.30521210776477137\n",
      "mae = 0.27666721576013326\n",
      "r2 = -16.478776367633184\n"
     ]
    },
    {
     "name": "stderr",
     "output_type": "stream",
     "text": [
      "17:25:28 - cmdstanpy - INFO - Chain [1] start processing\n",
      "17:25:28 - cmdstanpy - INFO - Chain [1] done processing\n",
      "[I 2023-11-19 17:25:28,512] Trial 98 finished with value: 0.292576379932072 and parameters: {'changepoint_prior_scale': 0.0030857805875800764, 'seasonality_prior_scale': 15, 'growth': 'logistic', 'seasonality_mode': 'additive', 'interval_width': 0.7540250099448712}. Best is trial 53 with value: 0.2856401148943795.\n"
     ]
    },
    {
     "name": "stdout",
     "output_type": "stream",
     "text": [
      "rmse = 0.292576379932072\n",
      "mae = 0.27222910616913687\n",
      "r2 = -12.875281062676954\n"
     ]
    },
    {
     "name": "stderr",
     "output_type": "stream",
     "text": [
      "17:25:28 - cmdstanpy - INFO - Chain [1] start processing\n",
      "17:25:29 - cmdstanpy - INFO - Chain [1] done processing\n",
      "[I 2023-11-19 17:25:29,105] Trial 99 finished with value: 0.3056253310644801 and parameters: {'changepoint_prior_scale': 0.14349002942790662, 'seasonality_prior_scale': 15, 'growth': 'logistic', 'seasonality_mode': 'additive', 'interval_width': 0.7562850358315556}. Best is trial 53 with value: 0.2856401148943795.\n"
     ]
    },
    {
     "name": "stdout",
     "output_type": "stream",
     "text": [
      "rmse = 0.3056253310644801\n",
      "mae = 0.27675048019987225\n",
      "r2 = -16.622420832461074\n"
     ]
    },
    {
     "name": "stderr",
     "output_type": "stream",
     "text": [
      "17:25:29 - cmdstanpy - INFO - Chain [1] start processing\n",
      "17:25:29 - cmdstanpy - INFO - Chain [1] done processing\n",
      "[I 2023-11-19 17:25:29,679] Trial 100 finished with value: 0.35671057676376977 and parameters: {'changepoint_prior_scale': 0.3631738681867176, 'seasonality_prior_scale': 13, 'growth': 'logistic', 'seasonality_mode': 'additive', 'interval_width': 0.7547913960718093}. Best is trial 53 with value: 0.2856401148943795.\n"
     ]
    },
    {
     "name": "stdout",
     "output_type": "stream",
     "text": [
      "rmse = 0.35671057676376977\n",
      "mae = 0.2961333842228432\n",
      "r2 = -31.726501842882918\n"
     ]
    },
    {
     "name": "stderr",
     "output_type": "stream",
     "text": [
      "17:25:30 - cmdstanpy - INFO - Chain [1] start processing\n",
      "17:25:30 - cmdstanpy - INFO - Chain [1] done processing\n",
      "[I 2023-11-19 17:25:30,467] Trial 101 finished with value: 0.29254969565226707 and parameters: {'changepoint_prior_scale': 0.0017554687089331605, 'seasonality_prior_scale': 14, 'growth': 'logistic', 'seasonality_mode': 'additive', 'interval_width': 0.7611474227732201}. Best is trial 53 with value: 0.2856401148943795.\n"
     ]
    },
    {
     "name": "stdout",
     "output_type": "stream",
     "text": [
      "rmse = 0.29254969565226707\n",
      "mae = 0.2724481129573124\n",
      "r2 = -12.38970895207758\n"
     ]
    },
    {
     "name": "stderr",
     "output_type": "stream",
     "text": [
      "17:25:30 - cmdstanpy - INFO - Chain [1] start processing\n",
      "17:25:31 - cmdstanpy - INFO - Chain [1] done processing\n",
      "[I 2023-11-19 17:25:31,153] Trial 102 finished with value: 0.3048101488416653 and parameters: {'changepoint_prior_scale': 0.07478078659892644, 'seasonality_prior_scale': 14, 'growth': 'logistic', 'seasonality_mode': 'additive', 'interval_width': 0.7600332124975363}. Best is trial 53 with value: 0.2856401148943795.\n"
     ]
    },
    {
     "name": "stdout",
     "output_type": "stream",
     "text": [
      "rmse = 0.3048101488416653\n",
      "mae = 0.27655346018431176\n",
      "r2 = -16.38059568517154\n"
     ]
    },
    {
     "name": "stderr",
     "output_type": "stream",
     "text": [
      "17:25:31 - cmdstanpy - INFO - Chain [1] start processing\n",
      "17:25:31 - cmdstanpy - INFO - Chain [1] done processing\n",
      "[I 2023-11-19 17:25:31,809] Trial 103 finished with value: 0.2926791826552781 and parameters: {'changepoint_prior_scale': 0.003576147641598961, 'seasonality_prior_scale': 15, 'growth': 'logistic', 'seasonality_mode': 'additive', 'interval_width': 0.7520278646258826}. Best is trial 53 with value: 0.2856401148943795.\n"
     ]
    },
    {
     "name": "stdout",
     "output_type": "stream",
     "text": [
      "rmse = 0.2926791826552781\n",
      "mae = 0.27228060422437156\n",
      "r2 = -12.917993280963112\n"
     ]
    },
    {
     "name": "stderr",
     "output_type": "stream",
     "text": [
      "17:25:32 - cmdstanpy - INFO - Chain [1] start processing\n",
      "17:25:32 - cmdstanpy - INFO - Chain [1] done processing\n",
      "[I 2023-11-19 17:25:32,490] Trial 104 finished with value: 0.30568496210073026 and parameters: {'changepoint_prior_scale': 0.22093358697271837, 'seasonality_prior_scale': 14, 'growth': 'logistic', 'seasonality_mode': 'additive', 'interval_width': 0.7621679819271614}. Best is trial 53 with value: 0.2856401148943795.\n"
     ]
    },
    {
     "name": "stdout",
     "output_type": "stream",
     "text": [
      "rmse = 0.30568496210073026\n",
      "mae = 0.2767684743975782\n",
      "r2 = -16.635134761008302\n"
     ]
    },
    {
     "name": "stderr",
     "output_type": "stream",
     "text": [
      "17:25:32 - cmdstanpy - INFO - Chain [1] start processing\n",
      "17:25:32 - cmdstanpy - INFO - Chain [1] done processing\n",
      "[I 2023-11-19 17:25:33,080] Trial 105 finished with value: 0.30571221573991386 and parameters: {'changepoint_prior_scale': 0.14275542702785524, 'seasonality_prior_scale': 15, 'growth': 'logistic', 'seasonality_mode': 'additive', 'interval_width': 0.7682596316551971}. Best is trial 53 with value: 0.2856401148943795.\n"
     ]
    },
    {
     "name": "stdout",
     "output_type": "stream",
     "text": [
      "rmse = 0.30571221573991386\n",
      "mae = 0.276783689933006\n",
      "r2 = -16.631705670084084\n"
     ]
    },
    {
     "name": "stderr",
     "output_type": "stream",
     "text": [
      "17:25:33 - cmdstanpy - INFO - Chain [1] start processing\n",
      "17:25:33 - cmdstanpy - INFO - Chain [1] done processing\n",
      "[I 2023-11-19 17:25:33,816] Trial 106 finished with value: 0.3170038597510752 and parameters: {'changepoint_prior_scale': 0.2618866969780711, 'seasonality_prior_scale': 13, 'growth': 'logistic', 'seasonality_mode': 'additive', 'interval_width': 0.7542026255597569}. Best is trial 53 with value: 0.2856401148943795.\n"
     ]
    },
    {
     "name": "stdout",
     "output_type": "stream",
     "text": [
      "rmse = 0.3170038597510752\n",
      "mae = 0.2795954536233465\n",
      "r2 = -19.388106886774963\n"
     ]
    },
    {
     "name": "stderr",
     "output_type": "stream",
     "text": [
      "17:25:34 - cmdstanpy - INFO - Chain [1] start processing\n",
      "17:25:34 - cmdstanpy - INFO - Chain [1] done processing\n",
      "[I 2023-11-19 17:25:34,532] Trial 107 finished with value: 0.3047953923911354 and parameters: {'changepoint_prior_scale': 0.07060556551891409, 'seasonality_prior_scale': 16, 'growth': 'logistic', 'seasonality_mode': 'additive', 'interval_width': 0.7793937043266957}. Best is trial 53 with value: 0.2856401148943795.\n"
     ]
    },
    {
     "name": "stdout",
     "output_type": "stream",
     "text": [
      "rmse = 0.3047953923911354\n",
      "mae = 0.2765811690020536\n",
      "r2 = -16.3351155208008\n"
     ]
    },
    {
     "name": "stderr",
     "output_type": "stream",
     "text": [
      "17:25:34 - cmdstanpy - INFO - Chain [1] start processing\n",
      "17:25:35 - cmdstanpy - INFO - Chain [1] done processing\n",
      "[I 2023-11-19 17:25:35,091] Trial 108 finished with value: 0.2927469072064117 and parameters: {'changepoint_prior_scale': 0.0020581875049957158, 'seasonality_prior_scale': 15, 'growth': 'logistic', 'seasonality_mode': 'additive', 'interval_width': 0.7739773942033195}. Best is trial 53 with value: 0.2856401148943795.\n"
     ]
    },
    {
     "name": "stdout",
     "output_type": "stream",
     "text": [
      "rmse = 0.2927469072064117\n",
      "mae = 0.2726947686723443\n",
      "r2 = -12.178526522189053\n"
     ]
    },
    {
     "name": "stderr",
     "output_type": "stream",
     "text": [
      "17:25:35 - cmdstanpy - INFO - Chain [1] start processing\n",
      "17:25:35 - cmdstanpy - INFO - Chain [1] done processing\n",
      "[I 2023-11-19 17:25:35,656] Trial 109 finished with value: 0.305969415431828 and parameters: {'changepoint_prior_scale': 0.16750088704786606, 'seasonality_prior_scale': 15, 'growth': 'logistic', 'seasonality_mode': 'additive', 'interval_width': 0.7745644969821304}. Best is trial 53 with value: 0.2856401148943795.\n"
     ]
    },
    {
     "name": "stdout",
     "output_type": "stream",
     "text": [
      "rmse = 0.305969415431828\n",
      "mae = 0.276879277438185\n",
      "r2 = -16.662378717055617\n"
     ]
    },
    {
     "name": "stderr",
     "output_type": "stream",
     "text": [
      "17:25:36 - cmdstanpy - INFO - Chain [1] start processing\n",
      "17:25:36 - cmdstanpy - INFO - Chain [1] done processing\n",
      "[I 2023-11-19 17:25:36,239] Trial 110 finished with value: 0.3048017783306555 and parameters: {'changepoint_prior_scale': 0.08671340212218057, 'seasonality_prior_scale': 14, 'growth': 'logistic', 'seasonality_mode': 'additive', 'interval_width': 0.764772080671073}. Best is trial 53 with value: 0.2856401148943795.\n"
     ]
    },
    {
     "name": "stdout",
     "output_type": "stream",
     "text": [
      "rmse = 0.3048017783306555\n",
      "mae = 0.2765833884056585\n",
      "r2 = -16.336148646041522\n"
     ]
    },
    {
     "name": "stderr",
     "output_type": "stream",
     "text": [
      "17:25:36 - cmdstanpy - INFO - Chain [1] start processing\n",
      "17:25:36 - cmdstanpy - INFO - Chain [1] done processing\n",
      "[I 2023-11-19 17:25:36,825] Trial 111 finished with value: 0.30471990236327884 and parameters: {'changepoint_prior_scale': 0.0617602625100374, 'seasonality_prior_scale': 15, 'growth': 'logistic', 'seasonality_mode': 'additive', 'interval_width': 0.7696150105329886}. Best is trial 53 with value: 0.2856401148943795.\n"
     ]
    },
    {
     "name": "stdout",
     "output_type": "stream",
     "text": [
      "rmse = 0.30471990236327884\n",
      "mae = 0.27652923979496496\n",
      "r2 = -16.356588970573537\n"
     ]
    },
    {
     "name": "stderr",
     "output_type": "stream",
     "text": [
      "17:25:37 - cmdstanpy - INFO - Chain [1] start processing\n",
      "17:25:37 - cmdstanpy - INFO - Chain [1] done processing\n",
      "[I 2023-11-19 17:25:37,496] Trial 112 finished with value: 0.29363326063776646 and parameters: {'changepoint_prior_scale': 0.005168969358614334, 'seasonality_prior_scale': 17, 'growth': 'logistic', 'seasonality_mode': 'additive', 'interval_width': 0.7589153332088892}. Best is trial 53 with value: 0.2856401148943795.\n"
     ]
    },
    {
     "name": "stdout",
     "output_type": "stream",
     "text": [
      "rmse = 0.29363326063776646\n",
      "mae = 0.2727137095009365\n",
      "r2 = -13.311835552216232\n"
     ]
    },
    {
     "name": "stderr",
     "output_type": "stream",
     "text": [
      "17:25:37 - cmdstanpy - INFO - Chain [1] start processing\n",
      "17:25:38 - cmdstanpy - INFO - Chain [1] done processing\n",
      "[I 2023-11-19 17:25:38,120] Trial 113 finished with value: 0.2940569261426568 and parameters: {'changepoint_prior_scale': 0.006270801741814549, 'seasonality_prior_scale': 17, 'growth': 'logistic', 'seasonality_mode': 'additive', 'interval_width': 0.7595546421481647}. Best is trial 53 with value: 0.2856401148943795.\n"
     ]
    },
    {
     "name": "stdout",
     "output_type": "stream",
     "text": [
      "rmse = 0.2940569261426568\n",
      "mae = 0.2729113306096175\n",
      "r2 = -13.442948797535166\n"
     ]
    },
    {
     "name": "stderr",
     "output_type": "stream",
     "text": [
      "17:25:38 - cmdstanpy - INFO - Chain [1] start processing\n",
      "17:25:38 - cmdstanpy - INFO - Chain [1] done processing\n",
      "[I 2023-11-19 17:25:38,702] Trial 114 finished with value: 0.30569380465484725 and parameters: {'changepoint_prior_scale': 0.1402239821111344, 'seasonality_prior_scale': 16, 'growth': 'logistic', 'seasonality_mode': 'additive', 'interval_width': 0.7602475123437158}. Best is trial 53 with value: 0.2856401148943795.\n"
     ]
    },
    {
     "name": "stdout",
     "output_type": "stream",
     "text": [
      "rmse = 0.30569380465484725\n",
      "mae = 0.27678739780620354\n",
      "r2 = -16.615570097369936\n"
     ]
    },
    {
     "name": "stderr",
     "output_type": "stream",
     "text": [
      "17:25:39 - cmdstanpy - INFO - Chain [1] start processing\n",
      "17:25:39 - cmdstanpy - INFO - Chain [1] done processing\n",
      "[I 2023-11-19 17:25:39,293] Trial 115 finished with value: 0.30540282296316723 and parameters: {'changepoint_prior_scale': 0.213408175951669, 'seasonality_prior_scale': 17, 'growth': 'logistic', 'seasonality_mode': 'additive', 'interval_width': 0.7573887954166276}. Best is trial 53 with value: 0.2856401148943795.\n"
     ]
    },
    {
     "name": "stdout",
     "output_type": "stream",
     "text": [
      "rmse = 0.30540282296316723\n",
      "mae = 0.27670860280673854\n",
      "r2 = -16.541357997396567\n"
     ]
    },
    {
     "name": "stderr",
     "output_type": "stream",
     "text": [
      "17:25:39 - cmdstanpy - INFO - Chain [1] start processing\n",
      "17:25:39 - cmdstanpy - INFO - Chain [1] done processing\n",
      "[I 2023-11-19 17:25:39,865] Trial 116 finished with value: 0.43170083777106555 and parameters: {'changepoint_prior_scale': 0.07140787212968337, 'seasonality_prior_scale': 16, 'growth': 'linear', 'seasonality_mode': 'additive', 'interval_width': 0.7737181660315526}. Best is trial 53 with value: 0.2856401148943795.\n"
     ]
    },
    {
     "name": "stdout",
     "output_type": "stream",
     "text": [
      "rmse = 0.43170083777106555\n",
      "mae = 0.363293408744898\n",
      "r2 = -56.48274452475438\n"
     ]
    },
    {
     "name": "stderr",
     "output_type": "stream",
     "text": [
      "17:25:40 - cmdstanpy - INFO - Chain [1] start processing\n",
      "17:25:40 - cmdstanpy - INFO - Chain [1] done processing\n",
      "[I 2023-11-19 17:25:40,520] Trial 117 finished with value: 0.3056681313810429 and parameters: {'changepoint_prior_scale': 0.14068704278618246, 'seasonality_prior_scale': 15, 'growth': 'logistic', 'seasonality_mode': 'additive', 'interval_width': 0.7635352317316778}. Best is trial 53 with value: 0.2856401148943795.\n"
     ]
    },
    {
     "name": "stdout",
     "output_type": "stream",
     "text": [
      "rmse = 0.3056681313810429\n",
      "mae = 0.27677686916548677\n",
      "r2 = -16.61377087215471\n"
     ]
    },
    {
     "name": "stderr",
     "output_type": "stream",
     "text": [
      "17:25:40 - cmdstanpy - INFO - Chain [1] start processing\n",
      "17:25:41 - cmdstanpy - INFO - Chain [1] done processing\n",
      "[I 2023-11-19 17:25:41,225] Trial 118 finished with value: 0.29389147970959373 and parameters: {'changepoint_prior_scale': 0.005359918724963557, 'seasonality_prior_scale': 13, 'growth': 'logistic', 'seasonality_mode': 'additive', 'interval_width': 0.7532048191411735}. Best is trial 53 with value: 0.2856401148943795.\n"
     ]
    },
    {
     "name": "stdout",
     "output_type": "stream",
     "text": [
      "rmse = 0.29389147970959373\n",
      "mae = 0.2728277437126832\n",
      "r2 = -13.403965876104602\n"
     ]
    },
    {
     "name": "stderr",
     "output_type": "stream",
     "text": [
      "17:25:41 - cmdstanpy - INFO - Chain [1] start processing\n",
      "17:25:42 - cmdstanpy - INFO - Chain [1] done processing\n",
      "[I 2023-11-19 17:25:42,316] Trial 119 finished with value: 0.305651626814402 and parameters: {'changepoint_prior_scale': 0.0008622518503255292, 'seasonality_prior_scale': 13, 'growth': 'logistic', 'seasonality_mode': 'additive', 'interval_width': 0.7697575433349587}. Best is trial 53 with value: 0.2856401148943795.\n"
     ]
    },
    {
     "name": "stdout",
     "output_type": "stream",
     "text": [
      "rmse = 0.305651626814402\n",
      "mae = 0.2790944611265669\n",
      "r2 = -13.81923954305726\n"
     ]
    },
    {
     "name": "stderr",
     "output_type": "stream",
     "text": [
      "17:25:42 - cmdstanpy - INFO - Chain [1] start processing\n",
      "17:25:42 - cmdstanpy - INFO - Chain [1] done processing\n",
      "[I 2023-11-19 17:25:42,975] Trial 120 finished with value: 0.31229436014743917 and parameters: {'changepoint_prior_scale': 0.25277140606517534, 'seasonality_prior_scale': 14, 'growth': 'logistic', 'seasonality_mode': 'additive', 'interval_width': 0.7534907656677923}. Best is trial 53 with value: 0.2856401148943795.\n"
     ]
    },
    {
     "name": "stdout",
     "output_type": "stream",
     "text": [
      "rmse = 0.31229436014743917\n",
      "mae = 0.2785067704834055\n",
      "r2 = -18.211423962846908\n"
     ]
    },
    {
     "name": "stderr",
     "output_type": "stream",
     "text": [
      "17:25:43 - cmdstanpy - INFO - Chain [1] start processing\n",
      "17:25:43 - cmdstanpy - INFO - Chain [1] done processing\n",
      "[I 2023-11-19 17:25:43,846] Trial 121 finished with value: 0.30491971907057724 and parameters: {'changepoint_prior_scale': 0.06439345937689252, 'seasonality_prior_scale': 12, 'growth': 'logistic', 'seasonality_mode': 'additive', 'interval_width': 0.7596404826819051}. Best is trial 53 with value: 0.2856401148943795.\n"
     ]
    },
    {
     "name": "stdout",
     "output_type": "stream",
     "text": [
      "rmse = 0.30491971907057724\n",
      "mae = 0.2765732806946368\n",
      "r2 = -16.422236402448036\n"
     ]
    },
    {
     "name": "stderr",
     "output_type": "stream",
     "text": [
      "17:25:44 - cmdstanpy - INFO - Chain [1] start processing\n",
      "17:25:44 - cmdstanpy - INFO - Chain [1] done processing\n",
      "[I 2023-11-19 17:25:44,497] Trial 122 finished with value: 0.29271433702184335 and parameters: {'changepoint_prior_scale': 0.002086811779944919, 'seasonality_prior_scale': 15, 'growth': 'logistic', 'seasonality_mode': 'additive', 'interval_width': 0.7532963181992702}. Best is trial 53 with value: 0.2856401148943795.\n"
     ]
    },
    {
     "name": "stdout",
     "output_type": "stream",
     "text": [
      "rmse = 0.29271433702184335\n",
      "mae = 0.2726610808173442\n",
      "r2 = -12.197791023094089\n"
     ]
    },
    {
     "name": "stderr",
     "output_type": "stream",
     "text": [
      "17:25:44 - cmdstanpy - INFO - Chain [1] start processing\n",
      "17:25:45 - cmdstanpy - INFO - Chain [1] done processing\n",
      "[I 2023-11-19 17:25:45,111] Trial 123 finished with value: 0.3051631523497605 and parameters: {'changepoint_prior_scale': 0.17424643698489545, 'seasonality_prior_scale': 14, 'growth': 'logistic', 'seasonality_mode': 'additive', 'interval_width': 0.7544773621369394}. Best is trial 53 with value: 0.2856401148943795.\n"
     ]
    },
    {
     "name": "stdout",
     "output_type": "stream",
     "text": [
      "rmse = 0.3051631523497605\n",
      "mae = 0.27663522204486324\n",
      "r2 = -16.490779794832594\n"
     ]
    },
    {
     "name": "stderr",
     "output_type": "stream",
     "text": [
      "17:25:45 - cmdstanpy - INFO - Chain [1] start processing\n",
      "17:25:45 - cmdstanpy - INFO - Chain [1] done processing\n",
      "[I 2023-11-19 17:25:45,726] Trial 124 finished with value: 0.30477129473322495 and parameters: {'changepoint_prior_scale': 0.11529873740845709, 'seasonality_prior_scale': 15, 'growth': 'logistic', 'seasonality_mode': 'additive', 'interval_width': 0.7656012380068278}. Best is trial 53 with value: 0.2856401148943795.\n"
     ]
    },
    {
     "name": "stdout",
     "output_type": "stream",
     "text": [
      "rmse = 0.30477129473322495\n",
      "mae = 0.2765831234445121\n",
      "r2 = -16.31768023521904\n"
     ]
    },
    {
     "name": "stderr",
     "output_type": "stream",
     "text": [
      "17:25:46 - cmdstanpy - INFO - Chain [1] start processing\n",
      "17:25:46 - cmdstanpy - INFO - Chain [1] done processing\n",
      "[I 2023-11-19 17:25:46,849] Trial 125 finished with value: 0.2854604177242228 and parameters: {'changepoint_prior_scale': 0.0005623909788664615, 'seasonality_prior_scale': 13, 'growth': 'logistic', 'seasonality_mode': 'additive', 'interval_width': 0.7523830847834689}. Best is trial 125 with value: 0.2854604177242228.\n"
     ]
    },
    {
     "name": "stdout",
     "output_type": "stream",
     "text": [
      "rmse = 0.2854604177242228\n",
      "mae = 0.26284444107989074\n",
      "r2 = -12.441788661620969\n"
     ]
    },
    {
     "name": "stderr",
     "output_type": "stream",
     "text": [
      "17:25:47 - cmdstanpy - INFO - Chain [1] start processing\n",
      "17:25:47 - cmdstanpy - INFO - Chain [1] done processing\n",
      "[I 2023-11-19 17:25:47,551] Trial 126 finished with value: 0.30376959902618905 and parameters: {'changepoint_prior_scale': 0.07660240082135708, 'seasonality_prior_scale': 15, 'growth': 'logistic', 'seasonality_mode': 'additive', 'interval_width': 0.7510954982381746}. Best is trial 125 with value: 0.2854604177242228.\n"
     ]
    },
    {
     "name": "stdout",
     "output_type": "stream",
     "text": [
      "rmse = 0.30376959902618905\n",
      "mae = 0.27629072533489396\n",
      "r2 = -16.076804379620896\n"
     ]
    },
    {
     "name": "stderr",
     "output_type": "stream",
     "text": [
      "17:25:47 - cmdstanpy - INFO - Chain [1] start processing\n",
      "17:25:48 - cmdstanpy - INFO - Chain [1] done processing\n",
      "[I 2023-11-19 17:25:48,147] Trial 127 finished with value: 0.33808551183037333 and parameters: {'changepoint_prior_scale': 0.3102075985393099, 'seasonality_prior_scale': 14, 'growth': 'logistic', 'seasonality_mode': 'additive', 'interval_width': 0.758158912376942}. Best is trial 125 with value: 0.2854604177242228.\n"
     ]
    },
    {
     "name": "stdout",
     "output_type": "stream",
     "text": [
      "rmse = 0.33808551183037333\n",
      "mae = 0.2841207552257964\n",
      "r2 = -25.365015178701317\n"
     ]
    },
    {
     "name": "stderr",
     "output_type": "stream",
     "text": [
      "17:25:48 - cmdstanpy - INFO - Chain [1] start processing\n",
      "17:25:48 - cmdstanpy - INFO - Chain [1] done processing\n",
      "[I 2023-11-19 17:25:48,849] Trial 128 finished with value: 0.3047026545900676 and parameters: {'changepoint_prior_scale': 0.20440035611187632, 'seasonality_prior_scale': 13, 'growth': 'logistic', 'seasonality_mode': 'additive', 'interval_width': 0.7630468912337033}. Best is trial 125 with value: 0.2854604177242228.\n"
     ]
    },
    {
     "name": "stdout",
     "output_type": "stream",
     "text": [
      "rmse = 0.3047026545900676\n",
      "mae = 0.27650004255291455\n",
      "r2 = -16.38430013698318\n"
     ]
    },
    {
     "name": "stderr",
     "output_type": "stream",
     "text": [
      "17:25:49 - cmdstanpy - INFO - Chain [1] start processing\n",
      "17:25:49 - cmdstanpy - INFO - Chain [1] done processing\n",
      "[I 2023-11-19 17:25:49,622] Trial 129 finished with value: 0.49986784047131416 and parameters: {'changepoint_prior_scale': 0.9395232222010537, 'seasonality_prior_scale': 16, 'growth': 'logistic', 'seasonality_mode': 'additive', 'interval_width': 0.772924312040839}. Best is trial 125 with value: 0.2854604177242228.\n"
     ]
    },
    {
     "name": "stdout",
     "output_type": "stream",
     "text": [
      "rmse = 0.49986784047131416\n",
      "mae = 0.3826500833550112\n",
      "r2 = -9.149308162096194\n"
     ]
    },
    {
     "name": "stderr",
     "output_type": "stream",
     "text": [
      "17:25:50 - cmdstanpy - INFO - Chain [1] start processing\n",
      "17:25:50 - cmdstanpy - INFO - Chain [1] done processing\n",
      "[I 2023-11-19 17:25:50,401] Trial 130 finished with value: 0.3052440541516164 and parameters: {'changepoint_prior_scale': 0.12117268242149351, 'seasonality_prior_scale': 12, 'growth': 'logistic', 'seasonality_mode': 'additive', 'interval_width': 0.7685808744268434}. Best is trial 125 with value: 0.2854604177242228.\n"
     ]
    },
    {
     "name": "stdout",
     "output_type": "stream",
     "text": [
      "rmse = 0.3052440541516164\n",
      "mae = 0.27666950904169463\n",
      "r2 = -16.49538691844588\n"
     ]
    },
    {
     "name": "stderr",
     "output_type": "stream",
     "text": [
      "17:25:50 - cmdstanpy - INFO - Chain [1] start processing\n",
      "17:25:50 - cmdstanpy - INFO - Chain [1] done processing\n",
      "[I 2023-11-19 17:25:50,986] Trial 131 finished with value: 0.3034300475003173 and parameters: {'changepoint_prior_scale': 0.04758616575576494, 'seasonality_prior_scale': 13, 'growth': 'logistic', 'seasonality_mode': 'additive', 'interval_width': 0.7502254261532255}. Best is trial 125 with value: 0.2854604177242228.\n"
     ]
    },
    {
     "name": "stdout",
     "output_type": "stream",
     "text": [
      "rmse = 0.3034300475003173\n",
      "mae = 0.27619843162788277\n",
      "r2 = -15.983604886730035\n"
     ]
    },
    {
     "name": "stderr",
     "output_type": "stream",
     "text": [
      "17:25:51 - cmdstanpy - INFO - Chain [1] start processing\n",
      "17:25:51 - cmdstanpy - INFO - Chain [1] done processing\n",
      "[I 2023-11-19 17:25:51,660] Trial 132 finished with value: 0.29369675600277556 and parameters: {'changepoint_prior_scale': 0.004150739382534956, 'seasonality_prior_scale': 14, 'growth': 'logistic', 'seasonality_mode': 'additive', 'interval_width': 0.7541062506278784}. Best is trial 125 with value: 0.2854604177242228.\n"
     ]
    },
    {
     "name": "stdout",
     "output_type": "stream",
     "text": [
      "rmse = 0.29369675600277556\n",
      "mae = 0.27274439168719034\n",
      "r2 = -13.330786123284083\n"
     ]
    },
    {
     "name": "stderr",
     "output_type": "stream",
     "text": [
      "17:25:52 - cmdstanpy - INFO - Chain [1] start processing\n",
      "17:25:52 - cmdstanpy - INFO - Chain [1] done processing\n",
      "[I 2023-11-19 17:25:52,223] Trial 133 finished with value: 0.30509342375619947 and parameters: {'changepoint_prior_scale': 0.061067025380337744, 'seasonality_prior_scale': 14, 'growth': 'logistic', 'seasonality_mode': 'additive', 'interval_width': 0.7561813531100641}. Best is trial 125 with value: 0.2854604177242228.\n"
     ]
    },
    {
     "name": "stdout",
     "output_type": "stream",
     "text": [
      "rmse = 0.30509342375619947\n",
      "mae = 0.27664202046322306\n",
      "r2 = -16.438927210602277\n"
     ]
    },
    {
     "name": "stderr",
     "output_type": "stream",
     "text": [
      "17:25:52 - cmdstanpy - INFO - Chain [1] start processing\n",
      "17:25:52 - cmdstanpy - INFO - Chain [1] done processing\n",
      "[I 2023-11-19 17:25:52,794] Trial 134 finished with value: 0.3057251115566524 and parameters: {'changepoint_prior_scale': 0.13919726593268425, 'seasonality_prior_scale': 15, 'growth': 'logistic', 'seasonality_mode': 'additive', 'interval_width': 0.7773687121962709}. Best is trial 125 with value: 0.2854604177242228.\n"
     ]
    },
    {
     "name": "stdout",
     "output_type": "stream",
     "text": [
      "rmse = 0.3057251115566524\n",
      "mae = 0.2768051533114565\n",
      "r2 = -16.611277256996214\n"
     ]
    },
    {
     "name": "stderr",
     "output_type": "stream",
     "text": [
      "17:25:53 - cmdstanpy - INFO - Chain [1] start processing\n",
      "17:25:53 - cmdstanpy - INFO - Chain [1] done processing\n",
      "[I 2023-11-19 17:25:53,389] Trial 135 finished with value: 0.29289965653731653 and parameters: {'changepoint_prior_scale': 0.0029787347435006554, 'seasonality_prior_scale': 14, 'growth': 'logistic', 'seasonality_mode': 'additive', 'interval_width': 0.7636248827528386}. Best is trial 125 with value: 0.2854604177242228.\n"
     ]
    },
    {
     "name": "stdout",
     "output_type": "stream",
     "text": [
      "rmse = 0.29289965653731653\n",
      "mae = 0.2723788583544006\n",
      "r2 = -13.025201935264166\n"
     ]
    },
    {
     "name": "stderr",
     "output_type": "stream",
     "text": [
      "17:25:53 - cmdstanpy - INFO - Chain [1] start processing\n",
      "17:25:53 - cmdstanpy - INFO - Chain [1] done processing\n",
      "[I 2023-11-19 17:25:53,963] Trial 136 finished with value: 0.30480953577129294 and parameters: {'changepoint_prior_scale': 0.19653546471684236, 'seasonality_prior_scale': 15, 'growth': 'logistic', 'seasonality_mode': 'additive', 'interval_width': 0.7637860855765238}. Best is trial 125 with value: 0.2854604177242228.\n"
     ]
    },
    {
     "name": "stdout",
     "output_type": "stream",
     "text": [
      "rmse = 0.30480953577129294\n",
      "mae = 0.2765678790273667\n",
      "r2 = -16.3612799711303\n"
     ]
    },
    {
     "name": "stderr",
     "output_type": "stream",
     "text": [
      "17:25:54 - cmdstanpy - INFO - Chain [1] start processing\n",
      "17:25:54 - cmdstanpy - INFO - Chain [1] done processing\n",
      "[I 2023-11-19 17:25:54,503] Trial 137 finished with value: 0.4317146914478499 and parameters: {'changepoint_prior_scale': 0.10699692610948161, 'seasonality_prior_scale': 16, 'growth': 'linear', 'seasonality_mode': 'additive', 'interval_width': 0.7661170020228824}. Best is trial 125 with value: 0.2854604177242228.\n"
     ]
    },
    {
     "name": "stdout",
     "output_type": "stream",
     "text": [
      "rmse = 0.4317146914478499\n",
      "mae = 0.3633068385510706\n",
      "r2 = -56.47491237400295\n"
     ]
    },
    {
     "name": "stderr",
     "output_type": "stream",
     "text": [
      "17:25:54 - cmdstanpy - INFO - Chain [1] start processing\n",
      "17:25:55 - cmdstanpy - INFO - Chain [1] done processing\n",
      "[I 2023-11-19 17:25:55,365] Trial 138 finished with value: 0.5429030185518925 and parameters: {'changepoint_prior_scale': 1.164688431515735, 'seasonality_prior_scale': 14, 'growth': 'logistic', 'seasonality_mode': 'additive', 'interval_width': 0.7717896395726991}. Best is trial 125 with value: 0.2854604177242228.\n"
     ]
    },
    {
     "name": "stdout",
     "output_type": "stream",
     "text": [
      "rmse = 0.5429030185518925\n",
      "mae = 0.4286534648335608\n",
      "r2 = -11.036618555729731\n"
     ]
    },
    {
     "name": "stderr",
     "output_type": "stream",
     "text": [
      "17:25:55 - cmdstanpy - INFO - Chain [1] start processing\n",
      "17:25:55 - cmdstanpy - INFO - Chain [1] done processing\n",
      "[I 2023-11-19 17:25:55,928] Trial 139 finished with value: 0.2922125727018198 and parameters: {'changepoint_prior_scale': 0.0033166408712520593, 'seasonality_prior_scale': 15, 'growth': 'logistic', 'seasonality_mode': 'additive', 'interval_width': 0.7580302161905527}. Best is trial 125 with value: 0.2854604177242228.\n"
     ]
    },
    {
     "name": "stdout",
     "output_type": "stream",
     "text": [
      "rmse = 0.2922125727018198\n",
      "mae = 0.2720625391659165\n",
      "r2 = -12.671069086079154\n"
     ]
    },
    {
     "name": "stderr",
     "output_type": "stream",
     "text": [
      "17:25:56 - cmdstanpy - INFO - Chain [1] start processing\n",
      "17:25:56 - cmdstanpy - INFO - Chain [1] done processing\n",
      "[I 2023-11-19 17:25:56,516] Trial 140 finished with value: 0.3117908657227538 and parameters: {'changepoint_prior_scale': 0.2518793805701002, 'seasonality_prior_scale': 11, 'growth': 'logistic', 'seasonality_mode': 'additive', 'interval_width': 0.780045470046796}. Best is trial 125 with value: 0.2854604177242228.\n"
     ]
    },
    {
     "name": "stdout",
     "output_type": "stream",
     "text": [
      "rmse = 0.3117908657227538\n",
      "mae = 0.27837525732751606\n",
      "r2 = -18.10022070858675\n"
     ]
    },
    {
     "name": "stderr",
     "output_type": "stream",
     "text": [
      "17:25:56 - cmdstanpy - INFO - Chain [1] start processing\n",
      "17:25:57 - cmdstanpy - INFO - Chain [1] done processing\n",
      "[I 2023-11-19 17:25:57,117] Trial 141 finished with value: 0.29270125749511405 and parameters: {'changepoint_prior_scale': 0.0021674257423191052, 'seasonality_prior_scale': 15, 'growth': 'logistic', 'seasonality_mode': 'additive', 'interval_width': 0.7590150417020805}. Best is trial 125 with value: 0.2854604177242228.\n"
     ]
    },
    {
     "name": "stdout",
     "output_type": "stream",
     "text": [
      "rmse = 0.29270125749511405\n",
      "mae = 0.27264664799752847\n",
      "r2 = -12.207564377694379\n"
     ]
    },
    {
     "name": "stderr",
     "output_type": "stream",
     "text": [
      "17:25:57 - cmdstanpy - INFO - Chain [1] start processing\n",
      "17:25:57 - cmdstanpy - INFO - Chain [1] done processing\n",
      "[I 2023-11-19 17:25:57,684] Trial 142 finished with value: 0.305329522959859 and parameters: {'changepoint_prior_scale': 0.06608148537684755, 'seasonality_prior_scale': 15, 'growth': 'logistic', 'seasonality_mode': 'additive', 'interval_width': 0.7609540184658333}. Best is trial 125 with value: 0.2854604177242228.\n"
     ]
    },
    {
     "name": "stdout",
     "output_type": "stream",
     "text": [
      "rmse = 0.305329522959859\n",
      "mae = 0.27667554882266004\n",
      "r2 = -16.53993372995617\n"
     ]
    },
    {
     "name": "stderr",
     "output_type": "stream",
     "text": [
      "17:25:58 - cmdstanpy - INFO - Chain [1] start processing\n",
      "17:25:58 - cmdstanpy - INFO - Chain [1] done processing\n",
      "[I 2023-11-19 17:25:58,263] Trial 143 finished with value: 0.30473190841025616 and parameters: {'changepoint_prior_scale': 0.11556142578888716, 'seasonality_prior_scale': 15, 'growth': 'logistic', 'seasonality_mode': 'additive', 'interval_width': 0.7553742821946203}. Best is trial 125 with value: 0.2854604177242228.\n"
     ]
    },
    {
     "name": "stdout",
     "output_type": "stream",
     "text": [
      "rmse = 0.30473190841025616\n",
      "mae = 0.2765772802718026\n",
      "r2 = -16.30101512591966\n"
     ]
    },
    {
     "name": "stderr",
     "output_type": "stream",
     "text": [
      "17:25:58 - cmdstanpy - INFO - Chain [1] start processing\n",
      "17:25:58 - cmdstanpy - INFO - Chain [1] done processing\n",
      "[I 2023-11-19 17:25:58,848] Trial 144 finished with value: 0.3052093722800259 and parameters: {'changepoint_prior_scale': 0.17309768228773403, 'seasonality_prior_scale': 14, 'growth': 'logistic', 'seasonality_mode': 'additive', 'interval_width': 0.767867297966047}. Best is trial 125 with value: 0.2854604177242228.\n"
     ]
    },
    {
     "name": "stdout",
     "output_type": "stream",
     "text": [
      "rmse = 0.3052093722800259\n",
      "mae = 0.2766551927392282\n",
      "r2 = -16.492915588648806\n"
     ]
    },
    {
     "name": "stderr",
     "output_type": "stream",
     "text": [
      "17:25:59 - cmdstanpy - INFO - Chain [1] start processing\n",
      "17:25:59 - cmdstanpy - INFO - Chain [1] done processing\n",
      "[I 2023-11-19 17:25:59,417] Trial 145 finished with value: 0.30490952083891526 and parameters: {'changepoint_prior_scale': 0.05973143710927065, 'seasonality_prior_scale': 16, 'growth': 'logistic', 'seasonality_mode': 'additive', 'interval_width': 0.7764364723308853}. Best is trial 125 with value: 0.2854604177242228.\n"
     ]
    },
    {
     "name": "stdout",
     "output_type": "stream",
     "text": [
      "rmse = 0.30490952083891526\n",
      "mae = 0.2765793916882301\n",
      "r2 = -16.407902519940947\n"
     ]
    },
    {
     "name": "stderr",
     "output_type": "stream",
     "text": [
      "17:25:59 - cmdstanpy - INFO - Chain [1] start processing\n",
      "17:25:59 - cmdstanpy - INFO - Chain [1] done processing\n",
      "[I 2023-11-19 17:26:00,065] Trial 146 finished with value: 0.29234349134618726 and parameters: {'changepoint_prior_scale': 0.0031922962165712404, 'seasonality_prior_scale': 13, 'growth': 'logistic', 'seasonality_mode': 'additive', 'interval_width': 0.7638994694048331}. Best is trial 125 with value: 0.2854604177242228.\n"
     ]
    },
    {
     "name": "stdout",
     "output_type": "stream",
     "text": [
      "rmse = 0.29234349134618726\n",
      "mae = 0.27212159364221883\n",
      "r2 = -12.751213074446548\n"
     ]
    },
    {
     "name": "stderr",
     "output_type": "stream",
     "text": [
      "17:26:00 - cmdstanpy - INFO - Chain [1] start processing\n",
      "17:26:00 - cmdstanpy - INFO - Chain [1] done processing\n",
      "[I 2023-11-19 17:26:00,630] Trial 147 finished with value: 0.3054039310233416 and parameters: {'changepoint_prior_scale': 0.06463443588739134, 'seasonality_prior_scale': 13, 'growth': 'logistic', 'seasonality_mode': 'additive', 'interval_width': 0.7575737276413534}. Best is trial 125 with value: 0.2854604177242228.\n"
     ]
    },
    {
     "name": "stdout",
     "output_type": "stream",
     "text": [
      "rmse = 0.3054039310233416\n",
      "mae = 0.2766938743474804\n",
      "r2 = -16.561450356490262\n"
     ]
    },
    {
     "name": "stderr",
     "output_type": "stream",
     "text": [
      "17:26:00 - cmdstanpy - INFO - Chain [1] start processing\n",
      "17:26:03 - cmdstanpy - INFO - Chain [1] done processing\n",
      "[I 2023-11-19 17:26:03,465] Trial 148 finished with value: 0.2885810234376295 and parameters: {'changepoint_prior_scale': 0.0005309637508399397, 'seasonality_prior_scale': 13, 'growth': 'logistic', 'seasonality_mode': 'additive', 'interval_width': 0.7504373951781068}. Best is trial 125 with value: 0.2854604177242228.\n"
     ]
    },
    {
     "name": "stdout",
     "output_type": "stream",
     "text": [
      "rmse = 0.2885810234376295\n",
      "mae = 0.25691144976760466\n",
      "r2 = -12.71151548779619\n"
     ]
    },
    {
     "name": "stderr",
     "output_type": "stream",
     "text": [
      "17:26:03 - cmdstanpy - INFO - Chain [1] start processing\n",
      "17:26:04 - cmdstanpy - INFO - Chain [1] done processing\n",
      "[I 2023-11-19 17:26:04,178] Trial 149 finished with value: 0.39046218377407177 and parameters: {'changepoint_prior_scale': 0.6962375585226402, 'seasonality_prior_scale': 13, 'growth': 'logistic', 'seasonality_mode': 'additive', 'interval_width': 0.7501498926317931}. Best is trial 125 with value: 0.2854604177242228.\n"
     ]
    },
    {
     "name": "stdout",
     "output_type": "stream",
     "text": [
      "rmse = 0.39046218377407177\n",
      "mae = 0.2874601124478479\n",
      "r2 = -6.015254483793107\n",
      "Number of finished trials:  150\n",
      "Best trial:\n",
      "  Value:  0.2854604177242228\n",
      "  Params: \n",
      "    changepoint_prior_scale: 0.0005623909788664615\n",
      "    seasonality_prior_scale: 13\n",
      "    growth: logistic\n",
      "    seasonality_mode: additive\n",
      "    interval_width: 0.7523830847834689\n"
     ]
    }
   ],
   "source": [
    "import optuna\n",
    "\n",
    "\n",
    "def objective(trial):\n",
    "    params = {\n",
    "        'changepoint_prior_scale': trial.suggest_float(\"changepoint_prior_scale\", 0.0001, 3.0),\n",
    "        \"seasonality_prior_scale\": trial.suggest_int(\"seasonality_prior_scale\", 1, 20),\n",
    "        'growth':  trial.suggest_categorical(\"growth\", [\"logistic\", \"linear\"]),\n",
    "        \"seasonality_mode\": trial.suggest_categorical(\"seasonality_mode\", [\"additive\", \"multiplicative\"]),\n",
    "        # 'yearly_seasonality': trial.suggest_categorical(\"yearly_seasonality\", [True, False]),\n",
    "        # 'weekly_seasonality': trial.suggest_categorical(\"weekly_seasonality\", [True, False]),\n",
    "        'interval_width': trial.suggest_float(\"interval_width\", 0.75, 0.95),\n",
    "    }\n",
    "\n",
    "    model = Prophet(**params)\n",
    "    model.add_country_holidays('Russia')\n",
    "    model.fit(train_df)\n",
    "\n",
    "    pred = model.predict(eval_df)\n",
    "    pred.index = eval_df.index\n",
    "\n",
    "    rmse = mean_squared_error(pred.yhat, eval_df.y, squared=False)\n",
    "    metrics(pred.yhat, eval_df.y)\n",
    "    return rmse\n",
    "\n",
    "\n",
    "study = optuna.create_study(direction='minimize')\n",
    "study.optimize(objective, n_trials=150)\n",
    "\n",
    "print(\"Number of finished trials: \", len(study.trials))\n",
    "print(\"Best trial:\")\n",
    "trial = study.best_trial\n",
    "print(\"  Value: \", trial.value)\n",
    "print(\"  Params: \")\n",
    "for key, value in trial.params.items():\n",
    "    print(\"    {}: {}\".format(key, value))"
   ]
  },
  {
   "cell_type": "code",
   "execution_count": 39,
   "id": "3e0de27b-febd-4e80-b90d-9fb4f2681b2b",
   "metadata": {},
   "outputs": [
    {
     "name": "stderr",
     "output_type": "stream",
     "text": [
      "17:26:04 - cmdstanpy - INFO - Chain [1] start processing\n",
      "17:26:05 - cmdstanpy - INFO - Chain [1] done processing\n"
     ]
    },
    {
     "data": {
      "text/plain": [
       "<prophet.forecaster.Prophet at 0x1ce697453d0>"
      ]
     },
     "execution_count": 39,
     "metadata": {},
     "output_type": "execute_result"
    }
   ],
   "source": [
    "# changepoint_prior_scale - используется для контроля гибкости тренда, чтобы избежать переобучения или недоподготовки\n",
    "\n",
    "params_copy = study.best_trial.params.copy()\n",
    "\n",
    "model = Prophet(**params_copy)\n",
    "model.add_country_holidays('Russia')\n",
    "# model = Prophet()\n",
    "# model.fit(train_df)\n",
    "model.fit(df)\n",
    "\n",
    "# future = model.make_future_dataframe(periods=10, freq='M')\n",
    "# pred = model.predict(future)\n",
    "# for key, value in df.iloc[:, 4:].mean().items():\n",
    "#     future[key] = value\n",
    "# pred = model.predict(future)\n",
    "# future['tmp'] = [np.random.randint(-50, 50) for i in range(future.shape[0])]\n",
    "\n",
    "# pred = model.predict(eval_df)\n",
    "# pred.index = eval_df.index\n",
    "\n",
    "# metrics(pred.yhat, eval_df.y)"
   ]
  },
  {
   "cell_type": "code",
   "execution_count": 40,
   "id": "b967be28-702c-4207-9df0-596b9ab0961e",
   "metadata": {},
   "outputs": [],
   "source": [
    "# save_model(model, 'model_cr_eq.pkl')"
   ]
  },
  {
   "cell_type": "code",
   "execution_count": 44,
   "id": "ddaf85bc-083f-4817-a365-f55698860769",
   "metadata": {},
   "outputs": [
    {
     "data": {
      "text/plain": [
       "<matplotlib.legend.Legend at 0x1ce69cea990>"
      ]
     },
     "execution_count": 44,
     "metadata": {},
     "output_type": "execute_result"
    },
    {
     "data": {
      "image/png": "[encoded data removed]",
      "text/plain": [
       "<Figure size 800x400 with 1 Axes>"
      ]
     },
     "metadata": {},
     "output_type": "display_data"
    }
   ],
   "source": [
    "plt.figure(figsize=(8, 4))\n",
    "plt.plot(df.y, \"g\", label=\"true\", linewidth=2.0)\n",
    "pred1 = model.predict(df)\n",
    "pred1.index = df.index\n",
    "\n",
    "plt.title('Тестирование модели')\n",
    "plt.xlabel(\"Период\")\n",
    "plt.ylabel(\"Доля оттока клиентов\")\n",
    "plt.plot(pred1.yhat, \"r\", label=\"prediction\", linewidth=2.0)\n",
    "plt.legend([\"Истинные данные\", \"Предсказанные данные\"], loc =\"lower left\")"
   ]
  },
  {
   "cell_type": "code",
   "execution_count": null,
   "id": "fa1ce6ec-2474-4dbb-9365-d06644a2a0e0",
   "metadata": {},
   "outputs": [],
   "source": [
    "model.plot(pred, figsize=(8, 4));"
   ]
  },
  {
   "cell_type": "code",
   "execution_count": null,
   "id": "4fa2eceb-11a2-44a9-bc71-af0f40ff7db0",
   "metadata": {},
   "outputs": [],
   "source": [
    "model.plot_components(pred, figsize=(8, 4));"
   ]
  },
  {
   "cell_type": "code",
   "execution_count": null,
   "id": "a37e1953-56d1-4e91-b2c3-27ab6d297839",
   "metadata": {},
   "outputs": [],
   "source": []
  },
  {
   "cell_type": "code",
   "execution_count": null,
   "id": "9960eb97-0bde-4b96-9a88-2ced0ca0c8e6",
   "metadata": {},
   "outputs": [],
   "source": []
  },
  {
   "cell_type": "code",
   "execution_count": null,
   "id": "3ac15969-fe92-489a-a404-6b88fb2d9d8f",
   "metadata": {},
   "outputs": [],
   "source": []
  }
 ],
 "metadata": {
  "kernelspec": {
   "display_name": "Python 3 (ipykernel)",
   "language": "python",
   "name": "python3"
  },
  "language_info": {
   "codemirror_mode": {
    "name": "ipython",
    "version": 3
   },
   "file_extension": ".py",
   "mimetype": "text/x-python",
   "name": "python",
   "nbconvert_exporter": "python",
   "pygments_lexer": "ipython3",
   "version": "3.11.5"
  }
 },
 "nbformat": 4,
 "nbformat_minor": 5
}
