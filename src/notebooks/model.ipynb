{
 "cells": [
  {
   "cell_type": "markdown",
   "id": "8946acbe-5cf9-4986-b00d-f3d3c879c606",
   "metadata": {},
   "source": [
    "# Model"
   ]
  },
  {
   "cell_type": "code",
   "execution_count": 1,
   "id": "bcaee479-d140-454b-b82a-e3514dc072db",
   "metadata": {},
   "outputs": [],
   "source": [
    "%load_ext autoreload\n",
    "%autoreload 2\n",
    "\n",
    "import os"
   ]
  },
  {
   "cell_type": "code",
   "execution_count": 2,
   "id": "8b7ed495-3751-4f0d-b60b-685ef796b22b",
   "metadata": {},
   "outputs": [
    {
     "name": "stdout",
     "output_type": "stream",
     "text": [
      "F:\\study\\Hackatons\\DashboardSber\\src\n"
     ]
    }
   ],
   "source": [
    "path_list = os.getcwd().split('\\\\')\n",
    "if path_list[-1] == 'src':\n",
    "    print(os.getcwd())\n",
    "else:\n",
    "    os.chdir('..')\n",
    "    print(os.getcwd())"
   ]
  },
  {
   "cell_type": "code",
   "execution_count": 3,
   "id": "a22f3210-16c7-459b-9086-082d214b92aa",
   "metadata": {},
   "outputs": [
    {
     "name": "stderr",
     "output_type": "stream",
     "text": [
      "F:\\study\\Hackatons\\DashboardSber\\venv\\Lib\\site-packages\\tqdm\\auto.py:21: TqdmWarning: IProgress not found. Please update jupyter and ipywidgets. See https://ipywidgets.readthedocs.io/en/stable/user_install.html\n",
      "  from .autonotebook import tqdm as notebook_tqdm\n",
      "Importing plotly failed. Interactive plots will not work.\n"
     ]
    }
   ],
   "source": [
    "import pandas as pd\n",
    "import numpy as np\n",
    "from datetime import datetime\n",
    "pd.set_option('display.max_columns', None)\n",
    "\n",
    "from prophet import Prophet\n",
    "\n",
    "import matplotlib.pyplot as plt\n",
    "import seaborn as sns\n",
    "sns.set()"
   ]
  },
  {
   "cell_type": "markdown",
   "id": "b9f3b022-9ba7-48fe-a37d-c6936a0677cb",
   "metadata": {},
   "source": [
    "# Загрузка данных"
   ]
  },
  {
   "cell_type": "code",
   "execution_count": 4,
   "id": "9b3dc05e-7f7e-4e2e-9b84-03e240ee736c",
   "metadata": {},
   "outputs": [],
   "source": [
    "def fix_date_columns(df):\n",
    "    new_columns = [df.columns[0]]\n",
    "    for column in df.columns[1:]:\n",
    "        date = datetime.fromordinal(datetime(1900, 1, 1).toordinal() + int(column) - 2).strftime('%Y-%m-%d')\n",
    "        new_columns.append(date)\n",
    "\n",
    "    df.columns = new_columns\n",
    "    return df\n",
    "\n",
    "\n",
    "df_acquiring = pd.read_excel(\n",
    "    io='dataset/acquiring.xlsb',\n",
    "    engine='pyxlsb',\n",
    "    header=1,  # У файла есть заголовок-объединение\n",
    "    # nrows=1000,\n",
    ")\n",
    "df_acquiring = fix_date_columns(df_acquiring)\n",
    "\n",
    "# df_rko = pd.read_excel(\n",
    "#     io='dataset/rko.xlsb',\n",
    "#     engine='pyxlsb',\n",
    "#     header=1,  # У файла есть заголовок-объединение\n",
    "# )\n",
    "# df_rko = fix_date_columns(df_rko)\n",
    "\n",
    "# df_economy_acquiring = pd.read_excel(\n",
    "#     io='dataset/economy_acquiring.xlsb',\n",
    "#     engine='pyxlsb',\n",
    "#     header=1,  # У файла есть заголовок-объединение\n",
    "# )\n",
    "\n",
    "# df_economy_general = pd.read_excel(\n",
    "#     io='dataset/economy_general.xlsb',\n",
    "#     engine='pyxlsb',\n",
    "#     header=1,  # У файла есть заголовок-объединение\n",
    "# )\n",
    "\n",
    "# df_general = pd.read_excel(\n",
    "#     io='dataset/general.xlsb',\n",
    "#     engine='pyxlsb',\n",
    "#     header=0,  # У файла есть заголовок-объединение\n",
    "# )\n",
    "# df_general['Кластер'] = df_general['Кластер'].astype('category')"
   ]
  },
  {
   "cell_type": "code",
   "execution_count": 275,
   "id": "74b20e03-9d02-417d-b0f5-7a24a7819959",
   "metadata": {},
   "outputs": [
    {
     "data": {
      "text/html": [
       "<div>\n",
       "<style scoped>\n",
       "    .dataframe tbody tr th:only-of-type {\n",
       "        vertical-align: middle;\n",
       "    }\n",
       "\n",
       "    .dataframe tbody tr th {\n",
       "        vertical-align: top;\n",
       "    }\n",
       "\n",
       "    .dataframe thead th {\n",
       "        text-align: right;\n",
       "    }\n",
       "</style>\n",
       "<table border=\"1\" class=\"dataframe\">\n",
       "  <thead>\n",
       "    <tr style=\"text-align: right;\">\n",
       "      <th></th>\n",
       "      <th>клиент</th>\n",
       "      <th>2021-10-31</th>\n",
       "      <th>2021-11-30</th>\n",
       "      <th>2021-12-31</th>\n",
       "      <th>2022-01-31</th>\n",
       "      <th>2022-02-28</th>\n",
       "      <th>2022-03-31</th>\n",
       "      <th>2022-04-30</th>\n",
       "      <th>2022-05-31</th>\n",
       "      <th>2022-06-30</th>\n",
       "      <th>2022-07-31</th>\n",
       "      <th>2022-08-31</th>\n",
       "      <th>2022-09-30</th>\n",
       "      <th>2022-10-31</th>\n",
       "      <th>2022-11-30</th>\n",
       "      <th>2022-12-31</th>\n",
       "      <th>2023-01-31</th>\n",
       "      <th>2023-02-28</th>\n",
       "      <th>2023-03-31</th>\n",
       "      <th>2023-04-30</th>\n",
       "      <th>2023-05-31</th>\n",
       "      <th>2023-06-30</th>\n",
       "      <th>2023-07-31</th>\n",
       "      <th>2023-08-31</th>\n",
       "      <th>2023-09-30</th>\n",
       "    </tr>\n",
       "  </thead>\n",
       "  <tbody>\n",
       "    <tr>\n",
       "      <th>0</th>\n",
       "      <td>client_37877</td>\n",
       "      <td>0</td>\n",
       "      <td>0</td>\n",
       "      <td>0</td>\n",
       "      <td>0</td>\n",
       "      <td>0</td>\n",
       "      <td>0</td>\n",
       "      <td>0</td>\n",
       "      <td>0</td>\n",
       "      <td>0</td>\n",
       "      <td>0</td>\n",
       "      <td>0</td>\n",
       "      <td>0</td>\n",
       "      <td>0</td>\n",
       "      <td>0</td>\n",
       "      <td>0</td>\n",
       "      <td>0</td>\n",
       "      <td>0</td>\n",
       "      <td>0</td>\n",
       "      <td>1</td>\n",
       "      <td>1</td>\n",
       "      <td>1</td>\n",
       "      <td>1</td>\n",
       "      <td>1</td>\n",
       "      <td>1</td>\n",
       "    </tr>\n",
       "    <tr>\n",
       "      <th>1</th>\n",
       "      <td>client_30115</td>\n",
       "      <td>0</td>\n",
       "      <td>0</td>\n",
       "      <td>0</td>\n",
       "      <td>0</td>\n",
       "      <td>0</td>\n",
       "      <td>0</td>\n",
       "      <td>0</td>\n",
       "      <td>0</td>\n",
       "      <td>0</td>\n",
       "      <td>0</td>\n",
       "      <td>0</td>\n",
       "      <td>0</td>\n",
       "      <td>0</td>\n",
       "      <td>0</td>\n",
       "      <td>0</td>\n",
       "      <td>1</td>\n",
       "      <td>1</td>\n",
       "      <td>1</td>\n",
       "      <td>1</td>\n",
       "      <td>1</td>\n",
       "      <td>1</td>\n",
       "      <td>1</td>\n",
       "      <td>1</td>\n",
       "      <td>1</td>\n",
       "    </tr>\n",
       "    <tr>\n",
       "      <th>2</th>\n",
       "      <td>client_9554</td>\n",
       "      <td>0</td>\n",
       "      <td>0</td>\n",
       "      <td>0</td>\n",
       "      <td>0</td>\n",
       "      <td>0</td>\n",
       "      <td>0</td>\n",
       "      <td>0</td>\n",
       "      <td>0</td>\n",
       "      <td>0</td>\n",
       "      <td>0</td>\n",
       "      <td>0</td>\n",
       "      <td>0</td>\n",
       "      <td>0</td>\n",
       "      <td>0</td>\n",
       "      <td>0</td>\n",
       "      <td>0</td>\n",
       "      <td>0</td>\n",
       "      <td>0</td>\n",
       "      <td>0</td>\n",
       "      <td>0</td>\n",
       "      <td>0</td>\n",
       "      <td>0</td>\n",
       "      <td>0</td>\n",
       "      <td>0</td>\n",
       "    </tr>\n",
       "    <tr>\n",
       "      <th>3</th>\n",
       "      <td>client_42590</td>\n",
       "      <td>0</td>\n",
       "      <td>0</td>\n",
       "      <td>0</td>\n",
       "      <td>0</td>\n",
       "      <td>0</td>\n",
       "      <td>0</td>\n",
       "      <td>0</td>\n",
       "      <td>0</td>\n",
       "      <td>0</td>\n",
       "      <td>0</td>\n",
       "      <td>0</td>\n",
       "      <td>0</td>\n",
       "      <td>0</td>\n",
       "      <td>0</td>\n",
       "      <td>0</td>\n",
       "      <td>0</td>\n",
       "      <td>0</td>\n",
       "      <td>0</td>\n",
       "      <td>0</td>\n",
       "      <td>0</td>\n",
       "      <td>0</td>\n",
       "      <td>0</td>\n",
       "      <td>0</td>\n",
       "      <td>0</td>\n",
       "    </tr>\n",
       "    <tr>\n",
       "      <th>4</th>\n",
       "      <td>client_14578</td>\n",
       "      <td>0</td>\n",
       "      <td>0</td>\n",
       "      <td>0</td>\n",
       "      <td>0</td>\n",
       "      <td>0</td>\n",
       "      <td>0</td>\n",
       "      <td>0</td>\n",
       "      <td>0</td>\n",
       "      <td>0</td>\n",
       "      <td>0</td>\n",
       "      <td>0</td>\n",
       "      <td>0</td>\n",
       "      <td>0</td>\n",
       "      <td>0</td>\n",
       "      <td>0</td>\n",
       "      <td>0</td>\n",
       "      <td>0</td>\n",
       "      <td>0</td>\n",
       "      <td>1</td>\n",
       "      <td>1</td>\n",
       "      <td>1</td>\n",
       "      <td>1</td>\n",
       "      <td>1</td>\n",
       "      <td>1</td>\n",
       "    </tr>\n",
       "    <tr>\n",
       "      <th>...</th>\n",
       "      <td>...</td>\n",
       "      <td>...</td>\n",
       "      <td>...</td>\n",
       "      <td>...</td>\n",
       "      <td>...</td>\n",
       "      <td>...</td>\n",
       "      <td>...</td>\n",
       "      <td>...</td>\n",
       "      <td>...</td>\n",
       "      <td>...</td>\n",
       "      <td>...</td>\n",
       "      <td>...</td>\n",
       "      <td>...</td>\n",
       "      <td>...</td>\n",
       "      <td>...</td>\n",
       "      <td>...</td>\n",
       "      <td>...</td>\n",
       "      <td>...</td>\n",
       "      <td>...</td>\n",
       "      <td>...</td>\n",
       "      <td>...</td>\n",
       "      <td>...</td>\n",
       "      <td>...</td>\n",
       "      <td>...</td>\n",
       "      <td>...</td>\n",
       "    </tr>\n",
       "    <tr>\n",
       "      <th>48418</th>\n",
       "      <td>client_14953</td>\n",
       "      <td>0</td>\n",
       "      <td>0</td>\n",
       "      <td>0</td>\n",
       "      <td>0</td>\n",
       "      <td>0</td>\n",
       "      <td>0</td>\n",
       "      <td>0</td>\n",
       "      <td>0</td>\n",
       "      <td>0</td>\n",
       "      <td>0</td>\n",
       "      <td>0</td>\n",
       "      <td>0</td>\n",
       "      <td>0</td>\n",
       "      <td>0</td>\n",
       "      <td>0</td>\n",
       "      <td>0</td>\n",
       "      <td>0</td>\n",
       "      <td>0</td>\n",
       "      <td>0</td>\n",
       "      <td>0</td>\n",
       "      <td>0</td>\n",
       "      <td>0</td>\n",
       "      <td>0</td>\n",
       "      <td>0</td>\n",
       "    </tr>\n",
       "    <tr>\n",
       "      <th>48419</th>\n",
       "      <td>client_22472</td>\n",
       "      <td>0</td>\n",
       "      <td>0</td>\n",
       "      <td>0</td>\n",
       "      <td>0</td>\n",
       "      <td>0</td>\n",
       "      <td>0</td>\n",
       "      <td>0</td>\n",
       "      <td>0</td>\n",
       "      <td>0</td>\n",
       "      <td>0</td>\n",
       "      <td>0</td>\n",
       "      <td>0</td>\n",
       "      <td>0</td>\n",
       "      <td>0</td>\n",
       "      <td>0</td>\n",
       "      <td>0</td>\n",
       "      <td>0</td>\n",
       "      <td>0</td>\n",
       "      <td>0</td>\n",
       "      <td>0</td>\n",
       "      <td>0</td>\n",
       "      <td>1</td>\n",
       "      <td>1</td>\n",
       "      <td>1</td>\n",
       "    </tr>\n",
       "    <tr>\n",
       "      <th>48420</th>\n",
       "      <td>client_41</td>\n",
       "      <td>0</td>\n",
       "      <td>0</td>\n",
       "      <td>0</td>\n",
       "      <td>0</td>\n",
       "      <td>0</td>\n",
       "      <td>0</td>\n",
       "      <td>0</td>\n",
       "      <td>0</td>\n",
       "      <td>0</td>\n",
       "      <td>0</td>\n",
       "      <td>0</td>\n",
       "      <td>0</td>\n",
       "      <td>0</td>\n",
       "      <td>0</td>\n",
       "      <td>0</td>\n",
       "      <td>0</td>\n",
       "      <td>0</td>\n",
       "      <td>0</td>\n",
       "      <td>0</td>\n",
       "      <td>0</td>\n",
       "      <td>0</td>\n",
       "      <td>0</td>\n",
       "      <td>0</td>\n",
       "      <td>0</td>\n",
       "    </tr>\n",
       "    <tr>\n",
       "      <th>48421</th>\n",
       "      <td>client_41941</td>\n",
       "      <td>0</td>\n",
       "      <td>0</td>\n",
       "      <td>0</td>\n",
       "      <td>0</td>\n",
       "      <td>0</td>\n",
       "      <td>0</td>\n",
       "      <td>0</td>\n",
       "      <td>0</td>\n",
       "      <td>0</td>\n",
       "      <td>0</td>\n",
       "      <td>0</td>\n",
       "      <td>0</td>\n",
       "      <td>0</td>\n",
       "      <td>0</td>\n",
       "      <td>0</td>\n",
       "      <td>0</td>\n",
       "      <td>0</td>\n",
       "      <td>0</td>\n",
       "      <td>0</td>\n",
       "      <td>0</td>\n",
       "      <td>0</td>\n",
       "      <td>0</td>\n",
       "      <td>0</td>\n",
       "      <td>0</td>\n",
       "    </tr>\n",
       "    <tr>\n",
       "      <th>48422</th>\n",
       "      <td>client_45550</td>\n",
       "      <td>0</td>\n",
       "      <td>0</td>\n",
       "      <td>0</td>\n",
       "      <td>0</td>\n",
       "      <td>0</td>\n",
       "      <td>0</td>\n",
       "      <td>0</td>\n",
       "      <td>0</td>\n",
       "      <td>0</td>\n",
       "      <td>0</td>\n",
       "      <td>0</td>\n",
       "      <td>0</td>\n",
       "      <td>0</td>\n",
       "      <td>0</td>\n",
       "      <td>0</td>\n",
       "      <td>0</td>\n",
       "      <td>0</td>\n",
       "      <td>0</td>\n",
       "      <td>0</td>\n",
       "      <td>0</td>\n",
       "      <td>0</td>\n",
       "      <td>0</td>\n",
       "      <td>0</td>\n",
       "      <td>0</td>\n",
       "    </tr>\n",
       "  </tbody>\n",
       "</table>\n",
       "<p>48423 rows × 25 columns</p>\n",
       "</div>"
      ],
      "text/plain": [
       "             клиент  2021-10-31  2021-11-30  2021-12-31  2022-01-31  \\\n",
       "0      client_37877           0           0           0           0   \n",
       "1      client_30115           0           0           0           0   \n",
       "2       client_9554           0           0           0           0   \n",
       "3      client_42590           0           0           0           0   \n",
       "4      client_14578           0           0           0           0   \n",
       "...             ...         ...         ...         ...         ...   \n",
       "48418  client_14953           0           0           0           0   \n",
       "48419  client_22472           0           0           0           0   \n",
       "48420     client_41           0           0           0           0   \n",
       "48421  client_41941           0           0           0           0   \n",
       "48422  client_45550           0           0           0           0   \n",
       "\n",
       "       2022-02-28  2022-03-31  2022-04-30  2022-05-31  2022-06-30  2022-07-31  \\\n",
       "0               0           0           0           0           0           0   \n",
       "1               0           0           0           0           0           0   \n",
       "2               0           0           0           0           0           0   \n",
       "3               0           0           0           0           0           0   \n",
       "4               0           0           0           0           0           0   \n",
       "...           ...         ...         ...         ...         ...         ...   \n",
       "48418           0           0           0           0           0           0   \n",
       "48419           0           0           0           0           0           0   \n",
       "48420           0           0           0           0           0           0   \n",
       "48421           0           0           0           0           0           0   \n",
       "48422           0           0           0           0           0           0   \n",
       "\n",
       "       2022-08-31  2022-09-30  2022-10-31  2022-11-30  2022-12-31  2023-01-31  \\\n",
       "0               0           0           0           0           0           0   \n",
       "1               0           0           0           0           0           1   \n",
       "2               0           0           0           0           0           0   \n",
       "3               0           0           0           0           0           0   \n",
       "4               0           0           0           0           0           0   \n",
       "...           ...         ...         ...         ...         ...         ...   \n",
       "48418           0           0           0           0           0           0   \n",
       "48419           0           0           0           0           0           0   \n",
       "48420           0           0           0           0           0           0   \n",
       "48421           0           0           0           0           0           0   \n",
       "48422           0           0           0           0           0           0   \n",
       "\n",
       "       2023-02-28  2023-03-31  2023-04-30  2023-05-31  2023-06-30  2023-07-31  \\\n",
       "0               0           0           1           1           1           1   \n",
       "1               1           1           1           1           1           1   \n",
       "2               0           0           0           0           0           0   \n",
       "3               0           0           0           0           0           0   \n",
       "4               0           0           1           1           1           1   \n",
       "...           ...         ...         ...         ...         ...         ...   \n",
       "48418           0           0           0           0           0           0   \n",
       "48419           0           0           0           0           0           1   \n",
       "48420           0           0           0           0           0           0   \n",
       "48421           0           0           0           0           0           0   \n",
       "48422           0           0           0           0           0           0   \n",
       "\n",
       "       2023-08-31  2023-09-30  \n",
       "0               1           1  \n",
       "1               1           1  \n",
       "2               0           0  \n",
       "3               0           0  \n",
       "4               1           1  \n",
       "...           ...         ...  \n",
       "48418           0           0  \n",
       "48419           1           1  \n",
       "48420           0           0  \n",
       "48421           0           0  \n",
       "48422           0           0  \n",
       "\n",
       "[48423 rows x 25 columns]"
      ]
     },
     "execution_count": 275,
     "metadata": {},
     "output_type": "execute_result"
    }
   ],
   "source": [
    "df_acquiring"
   ]
  },
  {
   "cell_type": "markdown",
   "id": "598106a0-0887-4e9f-988b-a46d368e1bdd",
   "metadata": {},
   "source": [
    "# Расчёт двух формул"
   ]
  },
  {
   "cell_type": "code",
   "execution_count": 141,
   "id": "1cfb248b-e1a3-4906-8348-d6ce25858b44",
   "metadata": {},
   "outputs": [
    {
     "data": {
      "text/plain": [
       "3.225806451612903"
      ]
     },
     "execution_count": 141,
     "metadata": {},
     "output_type": "execute_result"
    }
   ],
   "source": [
    "def customer_churn_share(df: pd.DataFrame, end_id_month: int) -> float:\n",
    "    \"\"\"Доля оттока клиентов.\"\"\"\n",
    "    have_clients = df.iloc[:, end_id_month - 1]\n",
    "    have_clients = have_clients[have_clients == 1]\n",
    "\n",
    "    not_have_clients = df.iloc[have_clients.index, end_id_month]\n",
    "    not_have_clients = not_have_clients[not_have_clients == 0]\n",
    "\n",
    "    value = not_have_clients.shape[0] / have_clients.shape[0] * 100\n",
    "    return value\n",
    "\n",
    "\n",
    "customer_churn_share(df_acquiring, 2)"
   ]
  },
  {
   "cell_type": "code",
   "execution_count": 125,
   "id": "60b0308c-2c39-44c3-bc20-e32b99045e82",
   "metadata": {},
   "outputs": [
    {
     "data": {
      "text/plain": [
       "96.7741935483871"
      ]
     },
     "execution_count": 125,
     "metadata": {},
     "output_type": "execute_result"
    }
   ],
   "source": [
    "def customer_survival_rate(df: pd.DataFrame, end_id_month: int) -> float:\n",
    "    \"\"\"Расчет процента выживаемости клиентов\"\"\"\n",
    "    start_clients = df.iloc[:, end_id_month - 1]\n",
    "    start_clients = start_clients[start_clients == 1]\n",
    "\n",
    "    left_clients = df.iloc[start_clients.index, end_id_month]\n",
    "    left_clients = left_clients[left_clients == 0]\n",
    "\n",
    "    df_copy = df.copy()\n",
    "    df_copy = df_copy.drop(start_clients.index, axis=0)\n",
    "    new_clients = df_copy.iloc[:, end_id_month]\n",
    "    new_clients = new_clients[new_clients == 1]\n",
    "\n",
    "    end_clients = start_clients.shape[0] - left_clients.shape[0] + new_clients.shape[0]\n",
    "    value = ((end_clients - new_clients.shape[0]) / start_clients.shape[0]) * 100\n",
    "    return value\n",
    "\n",
    "\n",
    "customer_survival_rate(df_acquiring, 2)"
   ]
  },
  {
   "cell_type": "markdown",
   "id": "0b1370e6-38cf-4077-804b-8b8f9eab2f3b",
   "metadata": {},
   "source": [
    "# Feature Engineering"
   ]
  },
  {
   "cell_type": "code",
   "execution_count": 128,
   "id": "980ad83b-bb58-47d1-94a8-3824ae2adcb5",
   "metadata": {},
   "outputs": [],
   "source": [
    "series_cols = df_acquiring.columns[df_acquiring.columns.str.contains(\"клиент\")==False].values\n",
    "level_cols = df_acquiring.columns[df_acquiring.columns.str.contains(\"клиент\")].values"
   ]
  },
  {
   "cell_type": "code",
   "execution_count": 142,
   "id": "59e5c07b-6d01-493b-b974-29f7a4a84bbd",
   "metadata": {},
   "outputs": [
    {
     "data": {
      "text/plain": [
       "23"
      ]
     },
     "execution_count": 142,
     "metadata": {},
     "output_type": "execute_result"
    }
   ],
   "source": [
    "lst_customer_churn_share = [customer_churn_share(df_acquiring, i) for i in range(2, len(series_cols) + 1)]\n",
    "len(lst_customer_churn_share)"
   ]
  },
  {
   "cell_type": "code",
   "execution_count": 143,
   "id": "42465a21-5cf1-4753-a9b6-147676fa64a5",
   "metadata": {},
   "outputs": [
    {
     "data": {
      "text/plain": [
       "23"
      ]
     },
     "execution_count": 143,
     "metadata": {},
     "output_type": "execute_result"
    }
   ],
   "source": [
    "lst_customer_survival_rate = [customer_survival_rate(df_acquiring, i) for i in range(2, len(series_cols) + 1)]\n",
    "len(lst_customer_survival_rate)"
   ]
  },
  {
   "cell_type": "code",
   "execution_count": 162,
   "id": "82bb584a-0689-4789-a3e4-864ad9d85d31",
   "metadata": {},
   "outputs": [
    {
     "data": {
      "text/html": [
       "<div>\n",
       "<style scoped>\n",
       "    .dataframe tbody tr th:only-of-type {\n",
       "        vertical-align: middle;\n",
       "    }\n",
       "\n",
       "    .dataframe tbody tr th {\n",
       "        vertical-align: top;\n",
       "    }\n",
       "\n",
       "    .dataframe thead th {\n",
       "        text-align: right;\n",
       "    }\n",
       "</style>\n",
       "<table border=\"1\" class=\"dataframe\">\n",
       "  <thead>\n",
       "    <tr style=\"text-align: right;\">\n",
       "      <th></th>\n",
       "      <th>ds</th>\n",
       "      <th>cr</th>\n",
       "      <th>pr</th>\n",
       "    </tr>\n",
       "  </thead>\n",
       "  <tbody>\n",
       "    <tr>\n",
       "      <th>0</th>\n",
       "      <td>2021-11-30</td>\n",
       "      <td>3.225806</td>\n",
       "      <td>96.774194</td>\n",
       "    </tr>\n",
       "    <tr>\n",
       "      <th>1</th>\n",
       "      <td>2021-12-31</td>\n",
       "      <td>1.104972</td>\n",
       "      <td>98.895028</td>\n",
       "    </tr>\n",
       "    <tr>\n",
       "      <th>2</th>\n",
       "      <td>2022-01-31</td>\n",
       "      <td>1.104972</td>\n",
       "      <td>98.895028</td>\n",
       "    </tr>\n",
       "    <tr>\n",
       "      <th>3</th>\n",
       "      <td>2022-02-28</td>\n",
       "      <td>1.648352</td>\n",
       "      <td>98.351648</td>\n",
       "    </tr>\n",
       "    <tr>\n",
       "      <th>4</th>\n",
       "      <td>2022-03-31</td>\n",
       "      <td>1.111111</td>\n",
       "      <td>98.888889</td>\n",
       "    </tr>\n",
       "  </tbody>\n",
       "</table>\n",
       "</div>"
      ],
      "text/plain": [
       "          ds        cr         pr\n",
       "0 2021-11-30  3.225806  96.774194\n",
       "1 2021-12-31  1.104972  98.895028\n",
       "2 2022-01-31  1.104972  98.895028\n",
       "3 2022-02-28  1.648352  98.351648\n",
       "4 2022-03-31  1.111111  98.888889"
      ]
     },
     "execution_count": 162,
     "metadata": {},
     "output_type": "execute_result"
    }
   ],
   "source": [
    "df_cr_pr = pd.DataFrame(series_cols[1:], columns=[\"ds\"])\n",
    "df_cr_pr['ds'] = pd.to_datetime(df['ds'], format='%Y-%m-%d')\n",
    "df_cr_pr.loc[:, \"cr\"] = lst_customer_churn_share\n",
    "df_cr_pr.loc[:, \"pr\"] = lst_customer_survival_rate\n",
    "df_cr_pr.head()"
   ]
  },
  {
   "cell_type": "markdown",
   "id": "6054ca2c-e312-4611-a306-38fb35826176",
   "metadata": {},
   "source": [
    "# Модели"
   ]
  },
  {
   "cell_type": "code",
   "execution_count": 5,
   "id": "1edecf58-a0c3-4378-9407-967056ab4e7b",
   "metadata": {},
   "outputs": [],
   "source": [
    "# Про prophet:\n",
    "# https://www.kaggle.com/code/prashant111/tutorial-time-series-forecasting-with-prophet"
   ]
  },
  {
   "cell_type": "code",
   "execution_count": null,
   "id": "65e6b22f-b052-47dd-8adc-0f298201a13e",
   "metadata": {},
   "outputs": [],
   "source": [
    "# Много моделей prophet с features:\n",
    "# https://forecastegy.com/posts/multiple-time-series-forecasting-with-prophet-in-python/"
   ]
  },
  {
   "cell_type": "code",
   "execution_count": 278,
   "id": "0b5a57a7-dff4-4a3c-bdc1-20f9bba7e027",
   "metadata": {},
   "outputs": [],
   "source": [
    "TRAIN_END = -3"
   ]
  },
  {
   "cell_type": "code",
   "execution_count": 324,
   "id": "a08fe149-3c71-4277-bdcb-0cccdb351d6a",
   "metadata": {},
   "outputs": [
    {
     "data": {
      "text/plain": [
       "23"
      ]
     },
     "execution_count": 324,
     "metadata": {},
     "output_type": "execute_result"
    }
   ],
   "source": [
    "# timeseries = df_cr_pr.cr\n",
    "timeseries = df_cr_pr.pr\n",
    "# timeseries = df_acquiring[series_cols].sum().values\n",
    "\n",
    "len(timeseries)"
   ]
  },
  {
   "cell_type": "code",
   "execution_count": 325,
   "id": "e0e6799c-9179-4527-a54b-98b7fefb5b08",
   "metadata": {},
   "outputs": [
    {
     "name": "stdout",
     "output_type": "stream",
     "text": [
      "20 3\n"
     ]
    },
    {
     "data": {
      "text/plain": [
       "23"
      ]
     },
     "execution_count": 325,
     "metadata": {},
     "output_type": "execute_result"
    }
   ],
   "source": [
    "train_timeseries = timeseries[0:TRAIN_END]\n",
    "eval_timeseries = timeseries[TRAIN_END::]\n",
    "print(len(train_timeseries), len(eval_timeseries))\n",
    "\n",
    "days = np.arange(1, len(train_timeseries) + len(eval_timeseries) + 1)\n",
    "len(days)"
   ]
  },
  {
   "cell_type": "code",
   "execution_count": 326,
   "id": "5ad0f34a-1060-47ef-aefd-0c0c7b75f162",
   "metadata": {},
   "outputs": [
    {
     "data": {
      "text/html": [
       "<div>\n",
       "<style scoped>\n",
       "    .dataframe tbody tr th:only-of-type {\n",
       "        vertical-align: middle;\n",
       "    }\n",
       "\n",
       "    .dataframe tbody tr th {\n",
       "        vertical-align: top;\n",
       "    }\n",
       "\n",
       "    .dataframe thead th {\n",
       "        text-align: right;\n",
       "    }\n",
       "</style>\n",
       "<table border=\"1\" class=\"dataframe\">\n",
       "  <thead>\n",
       "    <tr style=\"text-align: right;\">\n",
       "      <th></th>\n",
       "      <th>ds</th>\n",
       "      <th>y</th>\n",
       "    </tr>\n",
       "  </thead>\n",
       "  <tbody>\n",
       "    <tr>\n",
       "      <th>18</th>\n",
       "      <td>2023-05-31</td>\n",
       "      <td>98.863821</td>\n",
       "    </tr>\n",
       "    <tr>\n",
       "      <th>19</th>\n",
       "      <td>2023-06-30</td>\n",
       "      <td>99.315947</td>\n",
       "    </tr>\n",
       "    <tr>\n",
       "      <th>20</th>\n",
       "      <td>2023-07-31</td>\n",
       "      <td>99.465104</td>\n",
       "    </tr>\n",
       "    <tr>\n",
       "      <th>21</th>\n",
       "      <td>2023-08-31</td>\n",
       "      <td>98.892330</td>\n",
       "    </tr>\n",
       "    <tr>\n",
       "      <th>22</th>\n",
       "      <td>2023-09-30</td>\n",
       "      <td>98.731054</td>\n",
       "    </tr>\n",
       "  </tbody>\n",
       "</table>\n",
       "</div>"
      ],
      "text/plain": [
       "           ds          y\n",
       "18 2023-05-31  98.863821\n",
       "19 2023-06-30  99.315947\n",
       "20 2023-07-31  99.465104\n",
       "21 2023-08-31  98.892330\n",
       "22 2023-09-30  98.731054"
      ]
     },
     "execution_count": 326,
     "metadata": {},
     "output_type": "execute_result"
    }
   ],
   "source": [
    "df = pd.DataFrame(series_cols[len(series_cols) - len(days):], columns=[\"ds\"])\n",
    "df['ds'] = pd.to_datetime(df['ds'], format='%Y-%m-%d')\n",
    "df.loc[:, \"y\"] = timeseries\n",
    "df.tail()"
   ]
  },
  {
   "cell_type": "code",
   "execution_count": 327,
   "id": "2e200815-db59-42a7-985f-7b2bf6274f8d",
   "metadata": {},
   "outputs": [
    {
     "data": {
      "image/png": "[encoded data removed]",
      "text/plain": [
       "<Figure size 1800x400 with 1 Axes>"
      ]
     },
     "metadata": {},
     "output_type": "display_data"
    }
   ],
   "source": [
    "plt.figure(figsize=(18, 4))\n",
    "plt.plot(days[0:TRAIN_END], train_timeseries, label=\"train\")\n",
    "plt.plot(days[TRAIN_END::], eval_timeseries, label=\"validation\")\n",
    "plt.title(\"Top-Level-1: Summed product sales of all stores and states\");\n",
    "plt.legend()\n",
    "plt.xlabel(\"Day\")\n",
    "plt.ylabel(\"Unit sales\");"
   ]
  },
  {
   "cell_type": "code",
   "execution_count": 328,
   "id": "01bb5557-982d-43e8-95dd-13383c643966",
   "metadata": {},
   "outputs": [
    {
     "name": "stdout",
     "output_type": "stream",
     "text": [
      "(20, 2)\n",
      "(3, 2)\n"
     ]
    }
   ],
   "source": [
    "train_df = df.iloc[0:TRAIN_END]\n",
    "print(train_df.shape)\n",
    "\n",
    "eval_df = df.iloc[TRAIN_END::]\n",
    "print(eval_df.shape)"
   ]
  },
  {
   "cell_type": "code",
   "execution_count": 329,
   "id": "3e0de27b-febd-4e80-b90d-9fb4f2681b2b",
   "metadata": {},
   "outputs": [
    {
     "name": "stderr",
     "output_type": "stream",
     "text": [
      "19:38:01 - cmdstanpy - INFO - Chain [1] start processing\n",
      "19:38:02 - cmdstanpy - INFO - Chain [1] done processing\n"
     ]
    },
    {
     "data": {
      "text/html": [
       "<div>\n",
       "<style scoped>\n",
       "    .dataframe tbody tr th:only-of-type {\n",
       "        vertical-align: middle;\n",
       "    }\n",
       "\n",
       "    .dataframe tbody tr th {\n",
       "        vertical-align: top;\n",
       "    }\n",
       "\n",
       "    .dataframe thead th {\n",
       "        text-align: right;\n",
       "    }\n",
       "</style>\n",
       "<table border=\"1\" class=\"dataframe\">\n",
       "  <thead>\n",
       "    <tr style=\"text-align: right;\">\n",
       "      <th></th>\n",
       "      <th>ds</th>\n",
       "      <th>trend</th>\n",
       "      <th>yhat_lower</th>\n",
       "      <th>yhat_upper</th>\n",
       "      <th>trend_lower</th>\n",
       "      <th>trend_upper</th>\n",
       "      <th>additive_terms</th>\n",
       "      <th>additive_terms_lower</th>\n",
       "      <th>additive_terms_upper</th>\n",
       "      <th>multiplicative_terms</th>\n",
       "      <th>multiplicative_terms_lower</th>\n",
       "      <th>multiplicative_terms_upper</th>\n",
       "      <th>yhat</th>\n",
       "    </tr>\n",
       "  </thead>\n",
       "  <tbody>\n",
       "    <tr>\n",
       "      <th>20</th>\n",
       "      <td>2023-07-31</td>\n",
       "      <td>100.072044</td>\n",
       "      <td>96.877809</td>\n",
       "      <td>103.145596</td>\n",
       "      <td>100.039251</td>\n",
       "      <td>100.101571</td>\n",
       "      <td>0.0</td>\n",
       "      <td>0.0</td>\n",
       "      <td>0.0</td>\n",
       "      <td>0.0</td>\n",
       "      <td>0.0</td>\n",
       "      <td>0.0</td>\n",
       "      <td>100.072044</td>\n",
       "    </tr>\n",
       "    <tr>\n",
       "      <th>21</th>\n",
       "      <td>2023-08-31</td>\n",
       "      <td>100.454775</td>\n",
       "      <td>97.530618</td>\n",
       "      <td>103.365945</td>\n",
       "      <td>100.354107</td>\n",
       "      <td>100.552697</td>\n",
       "      <td>0.0</td>\n",
       "      <td>0.0</td>\n",
       "      <td>0.0</td>\n",
       "      <td>0.0</td>\n",
       "      <td>0.0</td>\n",
       "      <td>0.0</td>\n",
       "      <td>100.454775</td>\n",
       "    </tr>\n",
       "    <tr>\n",
       "      <th>22</th>\n",
       "      <td>2023-09-30</td>\n",
       "      <td>100.825160</td>\n",
       "      <td>97.796675</td>\n",
       "      <td>103.750891</td>\n",
       "      <td>100.622871</td>\n",
       "      <td>101.029231</td>\n",
       "      <td>0.0</td>\n",
       "      <td>0.0</td>\n",
       "      <td>0.0</td>\n",
       "      <td>0.0</td>\n",
       "      <td>0.0</td>\n",
       "      <td>0.0</td>\n",
       "      <td>100.825160</td>\n",
       "    </tr>\n",
       "  </tbody>\n",
       "</table>\n",
       "</div>"
      ],
      "text/plain": [
       "           ds       trend  yhat_lower  yhat_upper  trend_lower  trend_upper  \\\n",
       "20 2023-07-31  100.072044   96.877809  103.145596   100.039251   100.101571   \n",
       "21 2023-08-31  100.454775   97.530618  103.365945   100.354107   100.552697   \n",
       "22 2023-09-30  100.825160   97.796675  103.750891   100.622871   101.029231   \n",
       "\n",
       "    additive_terms  additive_terms_lower  additive_terms_upper  \\\n",
       "20             0.0                   0.0                   0.0   \n",
       "21             0.0                   0.0                   0.0   \n",
       "22             0.0                   0.0                   0.0   \n",
       "\n",
       "    multiplicative_terms  multiplicative_terms_lower  \\\n",
       "20                   0.0                         0.0   \n",
       "21                   0.0                         0.0   \n",
       "22                   0.0                         0.0   \n",
       "\n",
       "    multiplicative_terms_upper        yhat  \n",
       "20                         0.0  100.072044  \n",
       "21                         0.0  100.454775  \n",
       "22                         0.0  100.825160  "
      ]
     },
     "execution_count": 329,
     "metadata": {},
     "output_type": "execute_result"
    }
   ],
   "source": [
    "model = Prophet()\n",
    "# model.add_regressor('tmp')\n",
    "model.fit(train_df)\n",
    "\n",
    "# future = model.make_future_dataframe(periods=abs(TRAIN_END), freq='M')\n",
    "# future['tmp'] = [np.random.randint(-50, 50) for i in range(future.shape[0])]\n",
    "\n",
    "pred = model.predict(eval_df)\n",
    "pred.index = eval_df.index\n",
    "\n",
    "pred.head()"
   ]
  },
  {
   "cell_type": "code",
   "execution_count": 330,
   "id": "7034c41b-044c-4909-8659-d81cc7246878",
   "metadata": {},
   "outputs": [
    {
     "data": {
      "text/html": [
       "<div>\n",
       "<style scoped>\n",
       "    .dataframe tbody tr th:only-of-type {\n",
       "        vertical-align: middle;\n",
       "    }\n",
       "\n",
       "    .dataframe tbody tr th {\n",
       "        vertical-align: top;\n",
       "    }\n",
       "\n",
       "    .dataframe thead th {\n",
       "        text-align: right;\n",
       "    }\n",
       "</style>\n",
       "<table border=\"1\" class=\"dataframe\">\n",
       "  <thead>\n",
       "    <tr style=\"text-align: right;\">\n",
       "      <th></th>\n",
       "      <th>ds</th>\n",
       "      <th>yhat</th>\n",
       "      <th>yhat_lower</th>\n",
       "      <th>yhat_upper</th>\n",
       "    </tr>\n",
       "  </thead>\n",
       "  <tbody>\n",
       "    <tr>\n",
       "      <th>20</th>\n",
       "      <td>2023-07-31</td>\n",
       "      <td>100.072044</td>\n",
       "      <td>96.877809</td>\n",
       "      <td>103.145596</td>\n",
       "    </tr>\n",
       "    <tr>\n",
       "      <th>21</th>\n",
       "      <td>2023-08-31</td>\n",
       "      <td>100.454775</td>\n",
       "      <td>97.530618</td>\n",
       "      <td>103.365945</td>\n",
       "    </tr>\n",
       "    <tr>\n",
       "      <th>22</th>\n",
       "      <td>2023-09-30</td>\n",
       "      <td>100.825160</td>\n",
       "      <td>97.796675</td>\n",
       "      <td>103.750891</td>\n",
       "    </tr>\n",
       "  </tbody>\n",
       "</table>\n",
       "</div>"
      ],
      "text/plain": [
       "           ds        yhat  yhat_lower  yhat_upper\n",
       "20 2023-07-31  100.072044   96.877809  103.145596\n",
       "21 2023-08-31  100.454775   97.530618  103.365945\n",
       "22 2023-09-30  100.825160   97.796675  103.750891"
      ]
     },
     "execution_count": 330,
     "metadata": {},
     "output_type": "execute_result"
    }
   ],
   "source": [
    "col_int = ['ds', 'yhat', 'yhat_lower', 'yhat_upper']\n",
    "pred[col_int].head()"
   ]
  },
  {
   "cell_type": "code",
   "execution_count": 331,
   "id": "ddaf85bc-083f-4817-a365-f55698860769",
   "metadata": {},
   "outputs": [
    {
     "data": {
      "image/png": "[encoded data removed]",
      "text/plain": [
       "<Figure size 1500x700 with 1 Axes>"
      ]
     },
     "metadata": {},
     "output_type": "display_data"
    }
   ],
   "source": [
    "plt.figure(figsize=(15, 7))\n",
    "plt.plot(pred.yhat, \"g\", label=\"prediction\", linewidth=2.0)\n",
    "plt.plot(train_df.y, label=\"actual\", linewidth=2.0)\n",
    "plt.plot(eval_df.y, label=\"actual\", linewidth=2.0);"
   ]
  },
  {
   "cell_type": "code",
   "execution_count": 323,
   "id": "fa1ce6ec-2474-4dbb-9365-d06644a2a0e0",
   "metadata": {},
   "outputs": [
    {
     "name": "stderr",
     "output_type": "stream",
     "text": [
      "F:\\study\\Hackatons\\DashboardSber\\venv\\Lib\\site-packages\\prophet\\plot.py:72: FutureWarning: The behavior of DatetimeProperties.to_pydatetime is deprecated, in a future version this will return a Series containing python datetime objects instead of an ndarray. To retain the old behavior, call `np.array` on the result\n",
      "  fcst_t = fcst['ds'].dt.to_pydatetime()\n",
      "F:\\study\\Hackatons\\DashboardSber\\venv\\Lib\\site-packages\\prophet\\plot.py:73: FutureWarning: The behavior of DatetimeProperties.to_pydatetime is deprecated, in a future version this will return a Series containing python datetime objects instead of an ndarray. To retain the old behavior, call `np.array` on the result\n",
      "  ax.plot(m.history['ds'].dt.to_pydatetime(), m.history['y'], 'k.',\n"
     ]
    },
    {
     "data": {
      "image/png": "[encoded data removed]",
      "text/plain": [
       "<Figure size 1000x600 with 1 Axes>"
      ]
     },
     "metadata": {},
     "output_type": "display_data"
    }
   ],
   "source": [
    "model.plot(pred);"
   ]
  },
  {
   "cell_type": "code",
   "execution_count": 237,
   "id": "4fa2eceb-11a2-44a9-bc71-af0f40ff7db0",
   "metadata": {},
   "outputs": [
    {
     "name": "stderr",
     "output_type": "stream",
     "text": [
      "F:\\study\\Hackatons\\DashboardSber\\venv\\Lib\\site-packages\\prophet\\plot.py:228: FutureWarning: The behavior of DatetimeProperties.to_pydatetime is deprecated, in a future version this will return a Series containing python datetime objects instead of an ndarray. To retain the old behavior, call `np.array` on the result\n",
      "  fcst_t = fcst['ds'].dt.to_pydatetime()\n"
     ]
    },
    {
     "data": {
      "image/png": "[encoded data removed]",
      "text/plain": [
       "<Figure size 900x300 with 1 Axes>"
      ]
     },
     "metadata": {},
     "output_type": "display_data"
    }
   ],
   "source": [
    "model.plot_components(pred);"
   ]
  },
  {
   "cell_type": "code",
   "execution_count": null,
   "id": "a37e1953-56d1-4e91-b2c3-27ab6d297839",
   "metadata": {},
   "outputs": [],
   "source": []
  },
  {
   "cell_type": "code",
   "execution_count": null,
   "id": "9960eb97-0bde-4b96-9a88-2ced0ca0c8e6",
   "metadata": {},
   "outputs": [],
   "source": []
  },
  {
   "cell_type": "code",
   "execution_count": null,
   "id": "8266219e-a5c4-48f9-9f3d-c85a6e4dae9c",
   "metadata": {},
   "outputs": [],
   "source": [
    "# Calculate root mean squared error.\n",
    "print('RMSE: %f' % np.sqrt(np.mean((forecast.loc[:1682, 'yhat']-transactions['y'])**2)) )"
   ]
  },
  {
   "cell_type": "code",
   "execution_count": null,
   "id": "15429f55-267b-47da-802b-15569561806c",
   "metadata": {},
   "outputs": [],
   "source": []
  }
 ],
 "metadata": {
  "kernelspec": {
   "display_name": "Python 3 (ipykernel)",
   "language": "python",
   "name": "python3"
  },
  "language_info": {
   "codemirror_mode": {
    "name": "ipython",
    "version": 3
   },
   "file_extension": ".py",
   "mimetype": "text/x-python",
   "name": "python",
   "nbconvert_exporter": "python",
   "pygments_lexer": "ipython3",
   "version": "3.11.5"
  }
 },
 "nbformat": 4,
 "nbformat_minor": 5
}
